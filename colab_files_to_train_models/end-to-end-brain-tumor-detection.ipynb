{
 "cells": [
  {
   "cell_type": "markdown",
   "metadata": {
    "id": "elSeLq5pw2qg"
   },
   "source": [
    "# **Complete End to End Brain Tumor Detection Multi Class Image classification Using Deep Learning Models**"
   ]
  },
  {
   "cell_type": "code",
   "execution_count": null,
   "metadata": {
    "id": "ytrsFWiHxd4N"
   },
   "outputs": [
    {
     "name": "stdout",
     "output_type": "stream",
     "text": [
      "Note: you may need to restart the kernel to use updated packages.\n",
      "[]\n"
     ]
    },
    {
     "name": "stderr",
     "output_type": "stream",
     "text": [
      "ERROR: Could not find a version that satisfies the requirement tf-gpu (from versions: none)\n",
      "ERROR: No matching distribution found for tf-gpu\n"
     ]
    }
   ],
   "source": [
    "\n",
    "\n",
    "#conda install -c conda-forge cudatoolkit=11.2 cudnn=8.1.0\n",
    "# Anything above 2.10 is not supported on the GPU on Windows Native\n",
    "#python -m pip install \"tensorflow<2.11\"\n",
    "# Verify the installation:\n",
    "import tensorflow as tf\n",
    "print(tf.config.list_physical_devices('GPU'))"
   ]
  },
  {
   "cell_type": "code",
   "execution_count": 10,
   "metadata": {},
   "outputs": [
    {
     "name": "stdout",
     "output_type": "stream",
     "text": [
      "Requirement already satisfied: tensorflow_hub in c:\\users\\shabiul\\downloads\\multiple-disease-prediction-streamlit-app-main\\.conda\\lib\\site-packages (0.16.1)\n",
      "Requirement already satisfied: numpy>=1.12.0 in c:\\users\\shabiul\\downloads\\multiple-disease-prediction-streamlit-app-main\\.conda\\lib\\site-packages (from tensorflow_hub) (2.0.2)\n",
      "Requirement already satisfied: protobuf>=3.19.6 in c:\\users\\shabiul\\downloads\\multiple-disease-prediction-streamlit-app-main\\.conda\\lib\\site-packages (from tensorflow_hub) (5.29.3)\n",
      "Requirement already satisfied: tf-keras>=2.14.1 in c:\\users\\shabiul\\downloads\\multiple-disease-prediction-streamlit-app-main\\.conda\\lib\\site-packages (from tensorflow_hub) (2.18.0)\n",
      "Requirement already satisfied: tensorflow<2.19,>=2.18 in c:\\users\\shabiul\\downloads\\multiple-disease-prediction-streamlit-app-main\\.conda\\lib\\site-packages (from tf-keras>=2.14.1->tensorflow_hub) (2.18.0)\n",
      "Requirement already satisfied: tensorflow-intel==2.18.0 in c:\\users\\shabiul\\downloads\\multiple-disease-prediction-streamlit-app-main\\.conda\\lib\\site-packages (from tensorflow<2.19,>=2.18->tf-keras>=2.14.1->tensorflow_hub) (2.18.0)\n",
      "Requirement already satisfied: absl-py>=1.0.0 in c:\\users\\shabiul\\downloads\\multiple-disease-prediction-streamlit-app-main\\.conda\\lib\\site-packages (from tensorflow-intel==2.18.0->tensorflow<2.19,>=2.18->tf-keras>=2.14.1->tensorflow_hub) (2.1.0)\n",
      "Requirement already satisfied: astunparse>=1.6.0 in c:\\users\\shabiul\\downloads\\multiple-disease-prediction-streamlit-app-main\\.conda\\lib\\site-packages (from tensorflow-intel==2.18.0->tensorflow<2.19,>=2.18->tf-keras>=2.14.1->tensorflow_hub) (1.6.3)\n",
      "Requirement already satisfied: flatbuffers>=24.3.25 in c:\\users\\shabiul\\downloads\\multiple-disease-prediction-streamlit-app-main\\.conda\\lib\\site-packages (from tensorflow-intel==2.18.0->tensorflow<2.19,>=2.18->tf-keras>=2.14.1->tensorflow_hub) (25.1.24)\n",
      "Requirement already satisfied: gast!=0.5.0,!=0.5.1,!=0.5.2,>=0.2.1 in c:\\users\\shabiul\\downloads\\multiple-disease-prediction-streamlit-app-main\\.conda\\lib\\site-packages (from tensorflow-intel==2.18.0->tensorflow<2.19,>=2.18->tf-keras>=2.14.1->tensorflow_hub) (0.6.0)\n",
      "Requirement already satisfied: google-pasta>=0.1.1 in c:\\users\\shabiul\\downloads\\multiple-disease-prediction-streamlit-app-main\\.conda\\lib\\site-packages (from tensorflow-intel==2.18.0->tensorflow<2.19,>=2.18->tf-keras>=2.14.1->tensorflow_hub) (0.2.0)\n",
      "Requirement already satisfied: libclang>=13.0.0 in c:\\users\\shabiul\\downloads\\multiple-disease-prediction-streamlit-app-main\\.conda\\lib\\site-packages (from tensorflow-intel==2.18.0->tensorflow<2.19,>=2.18->tf-keras>=2.14.1->tensorflow_hub) (18.1.1)\n",
      "Requirement already satisfied: opt-einsum>=2.3.2 in c:\\users\\shabiul\\downloads\\multiple-disease-prediction-streamlit-app-main\\.conda\\lib\\site-packages (from tensorflow-intel==2.18.0->tensorflow<2.19,>=2.18->tf-keras>=2.14.1->tensorflow_hub) (3.4.0)\n",
      "Requirement already satisfied: packaging in c:\\users\\shabiul\\downloads\\multiple-disease-prediction-streamlit-app-main\\.conda\\lib\\site-packages (from tensorflow-intel==2.18.0->tensorflow<2.19,>=2.18->tf-keras>=2.14.1->tensorflow_hub) (24.2)\n",
      "Requirement already satisfied: requests<3,>=2.21.0 in c:\\users\\shabiul\\downloads\\multiple-disease-prediction-streamlit-app-main\\.conda\\lib\\site-packages (from tensorflow-intel==2.18.0->tensorflow<2.19,>=2.18->tf-keras>=2.14.1->tensorflow_hub) (2.32.3)\n",
      "Requirement already satisfied: setuptools in c:\\users\\shabiul\\downloads\\multiple-disease-prediction-streamlit-app-main\\.conda\\lib\\site-packages (from tensorflow-intel==2.18.0->tensorflow<2.19,>=2.18->tf-keras>=2.14.1->tensorflow_hub) (75.8.0)\n",
      "Requirement already satisfied: six>=1.12.0 in c:\\users\\shabiul\\downloads\\multiple-disease-prediction-streamlit-app-main\\.conda\\lib\\site-packages (from tensorflow-intel==2.18.0->tensorflow<2.19,>=2.18->tf-keras>=2.14.1->tensorflow_hub) (1.17.0)\n",
      "Requirement already satisfied: termcolor>=1.1.0 in c:\\users\\shabiul\\downloads\\multiple-disease-prediction-streamlit-app-main\\.conda\\lib\\site-packages (from tensorflow-intel==2.18.0->tensorflow<2.19,>=2.18->tf-keras>=2.14.1->tensorflow_hub) (2.5.0)\n",
      "Requirement already satisfied: typing-extensions>=3.6.6 in c:\\users\\shabiul\\downloads\\multiple-disease-prediction-streamlit-app-main\\.conda\\lib\\site-packages (from tensorflow-intel==2.18.0->tensorflow<2.19,>=2.18->tf-keras>=2.14.1->tensorflow_hub) (4.12.2)\n",
      "Requirement already satisfied: wrapt>=1.11.0 in c:\\users\\shabiul\\downloads\\multiple-disease-prediction-streamlit-app-main\\.conda\\lib\\site-packages (from tensorflow-intel==2.18.0->tensorflow<2.19,>=2.18->tf-keras>=2.14.1->tensorflow_hub) (1.17.2)\n",
      "Requirement already satisfied: grpcio<2.0,>=1.24.3 in c:\\users\\shabiul\\downloads\\multiple-disease-prediction-streamlit-app-main\\.conda\\lib\\site-packages (from tensorflow-intel==2.18.0->tensorflow<2.19,>=2.18->tf-keras>=2.14.1->tensorflow_hub) (1.70.0)\n",
      "Requirement already satisfied: tensorboard<2.19,>=2.18 in c:\\users\\shabiul\\downloads\\multiple-disease-prediction-streamlit-app-main\\.conda\\lib\\site-packages (from tensorflow-intel==2.18.0->tensorflow<2.19,>=2.18->tf-keras>=2.14.1->tensorflow_hub) (2.18.0)\n",
      "Requirement already satisfied: keras>=3.5.0 in c:\\users\\shabiul\\downloads\\multiple-disease-prediction-streamlit-app-main\\.conda\\lib\\site-packages (from tensorflow-intel==2.18.0->tensorflow<2.19,>=2.18->tf-keras>=2.14.1->tensorflow_hub) (3.8.0)\n",
      "Requirement already satisfied: h5py>=3.11.0 in c:\\users\\shabiul\\downloads\\multiple-disease-prediction-streamlit-app-main\\.conda\\lib\\site-packages (from tensorflow-intel==2.18.0->tensorflow<2.19,>=2.18->tf-keras>=2.14.1->tensorflow_hub) (3.12.1)\n",
      "Requirement already satisfied: ml-dtypes<0.5.0,>=0.4.0 in c:\\users\\shabiul\\downloads\\multiple-disease-prediction-streamlit-app-main\\.conda\\lib\\site-packages (from tensorflow-intel==2.18.0->tensorflow<2.19,>=2.18->tf-keras>=2.14.1->tensorflow_hub) (0.4.1)\n",
      "Requirement already satisfied: tensorflow-io-gcs-filesystem>=0.23.1 in c:\\users\\shabiul\\downloads\\multiple-disease-prediction-streamlit-app-main\\.conda\\lib\\site-packages (from tensorflow-intel==2.18.0->tensorflow<2.19,>=2.18->tf-keras>=2.14.1->tensorflow_hub) (0.31.0)\n",
      "Requirement already satisfied: wheel<1.0,>=0.23.0 in c:\\users\\shabiul\\downloads\\multiple-disease-prediction-streamlit-app-main\\.conda\\lib\\site-packages (from astunparse>=1.6.0->tensorflow-intel==2.18.0->tensorflow<2.19,>=2.18->tf-keras>=2.14.1->tensorflow_hub) (0.45.1)\n",
      "Requirement already satisfied: rich in c:\\users\\shabiul\\downloads\\multiple-disease-prediction-streamlit-app-main\\.conda\\lib\\site-packages (from keras>=3.5.0->tensorflow-intel==2.18.0->tensorflow<2.19,>=2.18->tf-keras>=2.14.1->tensorflow_hub) (13.9.4)\n",
      "Requirement already satisfied: namex in c:\\users\\shabiul\\downloads\\multiple-disease-prediction-streamlit-app-main\\.conda\\lib\\site-packages (from keras>=3.5.0->tensorflow-intel==2.18.0->tensorflow<2.19,>=2.18->tf-keras>=2.14.1->tensorflow_hub) (0.0.8)\n",
      "Requirement already satisfied: optree in c:\\users\\shabiul\\downloads\\multiple-disease-prediction-streamlit-app-main\\.conda\\lib\\site-packages (from keras>=3.5.0->tensorflow-intel==2.18.0->tensorflow<2.19,>=2.18->tf-keras>=2.14.1->tensorflow_hub) (0.14.0)\n",
      "Requirement already satisfied: charset-normalizer<4,>=2 in c:\\users\\shabiul\\downloads\\multiple-disease-prediction-streamlit-app-main\\.conda\\lib\\site-packages (from requests<3,>=2.21.0->tensorflow-intel==2.18.0->tensorflow<2.19,>=2.18->tf-keras>=2.14.1->tensorflow_hub) (3.4.1)\n",
      "Requirement already satisfied: idna<4,>=2.5 in c:\\users\\shabiul\\downloads\\multiple-disease-prediction-streamlit-app-main\\.conda\\lib\\site-packages (from requests<3,>=2.21.0->tensorflow-intel==2.18.0->tensorflow<2.19,>=2.18->tf-keras>=2.14.1->tensorflow_hub) (3.10)\n",
      "Requirement already satisfied: urllib3<3,>=1.21.1 in c:\\users\\shabiul\\downloads\\multiple-disease-prediction-streamlit-app-main\\.conda\\lib\\site-packages (from requests<3,>=2.21.0->tensorflow-intel==2.18.0->tensorflow<2.19,>=2.18->tf-keras>=2.14.1->tensorflow_hub) (2.3.0)\n",
      "Requirement already satisfied: certifi>=2017.4.17 in c:\\users\\shabiul\\downloads\\multiple-disease-prediction-streamlit-app-main\\.conda\\lib\\site-packages (from requests<3,>=2.21.0->tensorflow-intel==2.18.0->tensorflow<2.19,>=2.18->tf-keras>=2.14.1->tensorflow_hub) (2025.1.31)\n",
      "Requirement already satisfied: markdown>=2.6.8 in c:\\users\\shabiul\\downloads\\multiple-disease-prediction-streamlit-app-main\\.conda\\lib\\site-packages (from tensorboard<2.19,>=2.18->tensorflow-intel==2.18.0->tensorflow<2.19,>=2.18->tf-keras>=2.14.1->tensorflow_hub) (3.7)\n",
      "Requirement already satisfied: tensorboard-data-server<0.8.0,>=0.7.0 in c:\\users\\shabiul\\downloads\\multiple-disease-prediction-streamlit-app-main\\.conda\\lib\\site-packages (from tensorboard<2.19,>=2.18->tensorflow-intel==2.18.0->tensorflow<2.19,>=2.18->tf-keras>=2.14.1->tensorflow_hub) (0.7.2)\n",
      "Requirement already satisfied: werkzeug>=1.0.1 in c:\\users\\shabiul\\downloads\\multiple-disease-prediction-streamlit-app-main\\.conda\\lib\\site-packages (from tensorboard<2.19,>=2.18->tensorflow-intel==2.18.0->tensorflow<2.19,>=2.18->tf-keras>=2.14.1->tensorflow_hub) (3.1.3)\n",
      "Requirement already satisfied: MarkupSafe>=2.1.1 in c:\\users\\shabiul\\downloads\\multiple-disease-prediction-streamlit-app-main\\.conda\\lib\\site-packages (from werkzeug>=1.0.1->tensorboard<2.19,>=2.18->tensorflow-intel==2.18.0->tensorflow<2.19,>=2.18->tf-keras>=2.14.1->tensorflow_hub) (3.0.2)\n",
      "Requirement already satisfied: markdown-it-py>=2.2.0 in c:\\users\\shabiul\\downloads\\multiple-disease-prediction-streamlit-app-main\\.conda\\lib\\site-packages (from rich->keras>=3.5.0->tensorflow-intel==2.18.0->tensorflow<2.19,>=2.18->tf-keras>=2.14.1->tensorflow_hub) (3.0.0)\n",
      "Requirement already satisfied: pygments<3.0.0,>=2.13.0 in c:\\users\\shabiul\\downloads\\multiple-disease-prediction-streamlit-app-main\\.conda\\lib\\site-packages (from rich->keras>=3.5.0->tensorflow-intel==2.18.0->tensorflow<2.19,>=2.18->tf-keras>=2.14.1->tensorflow_hub) (2.19.1)\n",
      "Requirement already satisfied: mdurl~=0.1 in c:\\users\\shabiul\\downloads\\multiple-disease-prediction-streamlit-app-main\\.conda\\lib\\site-packages (from markdown-it-py>=2.2.0->rich->keras>=3.5.0->tensorflow-intel==2.18.0->tensorflow<2.19,>=2.18->tf-keras>=2.14.1->tensorflow_hub) (0.1.2)\n",
      "Note: you may need to restart the kernel to use updated packages.\n",
      "Requirement already satisfied: pandas in c:\\users\\shabiul\\downloads\\multiple-disease-prediction-streamlit-app-main\\.conda\\lib\\site-packages (2.2.3)\n",
      "Requirement already satisfied: numpy>=1.22.4 in c:\\users\\shabiul\\downloads\\multiple-disease-prediction-streamlit-app-main\\.conda\\lib\\site-packages (from pandas) (2.0.2)\n",
      "Requirement already satisfied: python-dateutil>=2.8.2 in c:\\users\\shabiul\\downloads\\multiple-disease-prediction-streamlit-app-main\\.conda\\lib\\site-packages (from pandas) (2.9.0.post0)\n",
      "Requirement already satisfied: pytz>=2020.1 in c:\\users\\shabiul\\downloads\\multiple-disease-prediction-streamlit-app-main\\.conda\\lib\\site-packages (from pandas) (2025.1)\n",
      "Requirement already satisfied: tzdata>=2022.7 in c:\\users\\shabiul\\downloads\\multiple-disease-prediction-streamlit-app-main\\.conda\\lib\\site-packages (from pandas) (2025.1)\n",
      "Requirement already satisfied: six>=1.5 in c:\\users\\shabiul\\downloads\\multiple-disease-prediction-streamlit-app-main\\.conda\\lib\\site-packages (from python-dateutil>=2.8.2->pandas) (1.17.0)\n",
      "Note: you may need to restart the kernel to use updated packages.\n",
      "Requirement already satisfied: numpy in c:\\users\\shabiul\\downloads\\multiple-disease-prediction-streamlit-app-main\\.conda\\lib\\site-packages (2.0.2)\n",
      "Note: you may need to restart the kernel to use updated packages.\n",
      "Requirement already satisfied: keras in c:\\users\\shabiul\\downloads\\multiple-disease-prediction-streamlit-app-main\\.conda\\lib\\site-packages (3.8.0)\n",
      "Requirement already satisfied: absl-py in c:\\users\\shabiul\\downloads\\multiple-disease-prediction-streamlit-app-main\\.conda\\lib\\site-packages (from keras) (2.1.0)\n",
      "Requirement already satisfied: numpy in c:\\users\\shabiul\\downloads\\multiple-disease-prediction-streamlit-app-main\\.conda\\lib\\site-packages (from keras) (2.0.2)\n",
      "Requirement already satisfied: rich in c:\\users\\shabiul\\downloads\\multiple-disease-prediction-streamlit-app-main\\.conda\\lib\\site-packages (from keras) (13.9.4)\n",
      "Requirement already satisfied: namex in c:\\users\\shabiul\\downloads\\multiple-disease-prediction-streamlit-app-main\\.conda\\lib\\site-packages (from keras) (0.0.8)\n",
      "Requirement already satisfied: h5py in c:\\users\\shabiul\\downloads\\multiple-disease-prediction-streamlit-app-main\\.conda\\lib\\site-packages (from keras) (3.12.1)\n",
      "Requirement already satisfied: optree in c:\\users\\shabiul\\downloads\\multiple-disease-prediction-streamlit-app-main\\.conda\\lib\\site-packages (from keras) (0.14.0)\n",
      "Requirement already satisfied: ml-dtypes in c:\\users\\shabiul\\downloads\\multiple-disease-prediction-streamlit-app-main\\.conda\\lib\\site-packages (from keras) (0.4.1)\n",
      "Requirement already satisfied: packaging in c:\\users\\shabiul\\downloads\\multiple-disease-prediction-streamlit-app-main\\.conda\\lib\\site-packages (from keras) (24.2)\n",
      "Requirement already satisfied: typing-extensions>=4.5.0 in c:\\users\\shabiul\\downloads\\multiple-disease-prediction-streamlit-app-main\\.conda\\lib\\site-packages (from optree->keras) (4.12.2)\n",
      "Requirement already satisfied: markdown-it-py>=2.2.0 in c:\\users\\shabiul\\downloads\\multiple-disease-prediction-streamlit-app-main\\.conda\\lib\\site-packages (from rich->keras) (3.0.0)\n",
      "Requirement already satisfied: pygments<3.0.0,>=2.13.0 in c:\\users\\shabiul\\downloads\\multiple-disease-prediction-streamlit-app-main\\.conda\\lib\\site-packages (from rich->keras) (2.19.1)\n",
      "Requirement already satisfied: mdurl~=0.1 in c:\\users\\shabiul\\downloads\\multiple-disease-prediction-streamlit-app-main\\.conda\\lib\\site-packages (from markdown-it-py>=2.2.0->rich->keras) (0.1.2)\n",
      "Note: you may need to restart the kernel to use updated packages.\n",
      "Collecting matplotlib\n",
      "  Using cached matplotlib-3.10.0-cp310-cp310-win_amd64.whl.metadata (11 kB)\n",
      "Collecting contourpy>=1.0.1 (from matplotlib)\n",
      "  Using cached contourpy-1.3.1-cp310-cp310-win_amd64.whl.metadata (5.4 kB)\n",
      "Collecting cycler>=0.10 (from matplotlib)\n",
      "  Using cached cycler-0.12.1-py3-none-any.whl.metadata (3.8 kB)\n",
      "Collecting fonttools>=4.22.0 (from matplotlib)\n",
      "  Downloading fonttools-4.56.0-cp310-cp310-win_amd64.whl.metadata (103 kB)\n",
      "Collecting kiwisolver>=1.3.1 (from matplotlib)\n",
      "  Downloading kiwisolver-1.4.8-cp310-cp310-win_amd64.whl.metadata (6.3 kB)\n",
      "Requirement already satisfied: numpy>=1.23 in c:\\users\\shabiul\\downloads\\multiple-disease-prediction-streamlit-app-main\\.conda\\lib\\site-packages (from matplotlib) (2.0.2)\n",
      "Requirement already satisfied: packaging>=20.0 in c:\\users\\shabiul\\downloads\\multiple-disease-prediction-streamlit-app-main\\.conda\\lib\\site-packages (from matplotlib) (24.2)\n",
      "Collecting pillow>=8 (from matplotlib)\n",
      "  Downloading pillow-11.1.0-cp310-cp310-win_amd64.whl.metadata (9.3 kB)\n",
      "Collecting pyparsing>=2.3.1 (from matplotlib)\n",
      "  Downloading pyparsing-3.2.1-py3-none-any.whl.metadata (5.0 kB)\n",
      "Requirement already satisfied: python-dateutil>=2.7 in c:\\users\\shabiul\\downloads\\multiple-disease-prediction-streamlit-app-main\\.conda\\lib\\site-packages (from matplotlib) (2.9.0.post0)\n",
      "Requirement already satisfied: six>=1.5 in c:\\users\\shabiul\\downloads\\multiple-disease-prediction-streamlit-app-main\\.conda\\lib\\site-packages (from python-dateutil>=2.7->matplotlib) (1.17.0)\n",
      "Using cached matplotlib-3.10.0-cp310-cp310-win_amd64.whl (8.0 MB)\n",
      "Using cached contourpy-1.3.1-cp310-cp310-win_amd64.whl (218 kB)\n",
      "Using cached cycler-0.12.1-py3-none-any.whl (8.3 kB)\n",
      "Downloading fonttools-4.56.0-cp310-cp310-win_amd64.whl (2.2 MB)\n",
      "   ---------------------------------------- 0.0/2.2 MB ? eta -:--:--\n",
      "   ---------------------------------------- 2.2/2.2 MB 13.8 MB/s eta 0:00:00\n",
      "Downloading kiwisolver-1.4.8-cp310-cp310-win_amd64.whl (71 kB)\n",
      "Downloading pillow-11.1.0-cp310-cp310-win_amd64.whl (2.6 MB)\n",
      "   ---------------------------------------- 0.0/2.6 MB ? eta -:--:--\n",
      "   ---------------------------------------- 2.6/2.6 MB 13.7 MB/s eta 0:00:00\n",
      "Downloading pyparsing-3.2.1-py3-none-any.whl (107 kB)\n",
      "Installing collected packages: pyparsing, pillow, kiwisolver, fonttools, cycler, contourpy, matplotlib\n",
      "Successfully installed contourpy-1.3.1 cycler-0.12.1 fonttools-4.56.0 kiwisolver-1.4.8 matplotlib-3.10.0 pillow-11.1.0 pyparsing-3.2.1\n",
      "Note: you may need to restart the kernel to use updated packages.\n"
     ]
    }
   ],
   "source": [
    "%pip install tensorflow_hub\n",
    "%pip install pandas\n",
    "%pip install numpy\n",
    "%pip install keras\n",
    "%pip install matplotlib"
   ]
  },
  {
   "cell_type": "code",
   "execution_count": 11,
   "metadata": {
    "id": "GKoVgBYRyIoD"
   },
   "outputs": [],
   "source": [
    "import os\n",
    "import tensorflow as tf\n",
    "import tensorflow_hub as hub\n",
    "import pandas as pd\n",
    "import matplotlib.pyplot as plt\n",
    "import numpy as np\n",
    "import tf_keras as keras\n"
   ]
  },
  {
   "cell_type": "code",
   "execution_count": 12,
   "metadata": {
    "id": "c2Uo-6VzygBH",
    "outputId": "374bd8f7-d622-4e28-bbfd-8ccc86182c75"
   },
   "outputs": [
    {
     "name": "stdout",
     "output_type": "stream",
     "text": [
      "Tensorflow Version 2.18.0\n",
      "Tensorflow Hub Version 0.16.1\n"
     ]
    }
   ],
   "source": [
    "# Lets check the tensorflow version\n",
    "print(\"Tensorflow Version\", tf.__version__)\n",
    "print(\"Tensorflow Hub Version\",hub.__version__)\n",
    "# make sure you have tensorflow version 2x"
   ]
  },
  {
   "cell_type": "code",
   "execution_count": 13,
   "metadata": {
    "id": "W08Ochxoyo-Y",
    "outputId": "ab9eda80-85c2-4c5f-b13f-63bad41963f1"
   },
   "outputs": [
    {
     "name": "stdout",
     "output_type": "stream",
     "text": [
      "GPU not available\n"
     ]
    }
   ],
   "source": [
    "# lets check GPU Availability\n",
    "print(\"GPU\", \"Available\" if tf.config.list_physical_devices(\"GPU\") else \"not available\" )"
   ]
  },
  {
   "cell_type": "markdown",
   "metadata": {
    "id": "ot15g9V2sgZz"
   },
   "source": [
    "In Google colab GPU is not available right now because i reached max limit so i decided to train on CPU But it will take long time its okay for me but i suggest you to you GPU to speed up training time"
   ]
  },
  {
   "cell_type": "code",
   "execution_count": 24,
   "metadata": {
    "id": "8yoTlr6zzT4S",
    "outputId": "6ae9ab56-bb73-4e55-c50c-bdcb04f23f5a"
   },
   "outputs": [
    {
     "name": "stdout",
     "output_type": "stream",
     "text": [
      "                                           File_path Brain_tumor_type\n",
      "0  C:/Users/Shabiul/Downloads/multiple-disease-pr...           glioma\n",
      "1  C:/Users/Shabiul/Downloads/multiple-disease-pr...           glioma\n",
      "2  C:/Users/Shabiul/Downloads/multiple-disease-pr...           glioma\n",
      "3  C:/Users/Shabiul/Downloads/multiple-disease-pr...           glioma\n",
      "4  C:/Users/Shabiul/Downloads/multiple-disease-pr...           glioma\n",
      "CSV file saved successfully!\n"
     ]
    }
   ],
   "source": [
    "import os\n",
    "import pandas as pd\n",
    "\n",
    "# Define the base path of the dataset\n",
    "base_path = \"C:/Users/Shabiul/Downloads/multiple-disease-prediction-streamlit-app-main/dataset/Training\"  # Use '/' for better cross-platform compatibility\n",
    "\n",
    "# Empty list to store data\n",
    "data = []\n",
    "\n",
    "# Loop through each folder (class label) in the dataset\n",
    "for folder_name in os.listdir(base_path):\n",
    "    folder_path = os.path.join(base_path, folder_name)\n",
    "    \n",
    "    # Ensure it's a directory\n",
    "    if os.path.isdir(folder_path):\n",
    "        for file_name in os.listdir(folder_path):\n",
    "            file_path = os.path.join(folder_path, file_name)\n",
    "            \n",
    "            # Ensure it's a file (image)\n",
    "            if os.path.isfile(file_path):\n",
    "                data.append({\"File_path\": file_path, \"Brain_tumor_type\": folder_name})\n",
    "\n",
    "# Create a DataFrame\n",
    "df = pd.DataFrame(data)\n",
    "\n",
    "# Display first few rows\n",
    "print(df.head())\n",
    "\n",
    "# Save the DataFrame to a CSV file\n",
    "df.to_csv(\"brain_tumor_dataset.csv\", index=False)\n",
    "print(\"CSV file saved successfully!\")\n"
   ]
  },
  {
   "cell_type": "code",
   "execution_count": 25,
   "metadata": {
    "id": "UzGFHDkZ0wBS",
    "outputId": "d8199a65-1f05-4ada-9f0d-70269858a11d"
   },
   "outputs": [
    {
     "data": {
      "text/html": [
       "<div>\n",
       "<style scoped>\n",
       "    .dataframe tbody tr th:only-of-type {\n",
       "        vertical-align: middle;\n",
       "    }\n",
       "\n",
       "    .dataframe tbody tr th {\n",
       "        vertical-align: top;\n",
       "    }\n",
       "\n",
       "    .dataframe thead th {\n",
       "        text-align: right;\n",
       "    }\n",
       "</style>\n",
       "<table border=\"1\" class=\"dataframe\">\n",
       "  <thead>\n",
       "    <tr style=\"text-align: right;\">\n",
       "      <th></th>\n",
       "      <th>File_path</th>\n",
       "      <th>Brain_tumor_type</th>\n",
       "    </tr>\n",
       "  </thead>\n",
       "  <tbody>\n",
       "    <tr>\n",
       "      <th>0</th>\n",
       "      <td>C:/Users/Shabiul/Downloads/multiple-disease-pr...</td>\n",
       "      <td>glioma</td>\n",
       "    </tr>\n",
       "    <tr>\n",
       "      <th>1</th>\n",
       "      <td>C:/Users/Shabiul/Downloads/multiple-disease-pr...</td>\n",
       "      <td>glioma</td>\n",
       "    </tr>\n",
       "    <tr>\n",
       "      <th>2</th>\n",
       "      <td>C:/Users/Shabiul/Downloads/multiple-disease-pr...</td>\n",
       "      <td>glioma</td>\n",
       "    </tr>\n",
       "    <tr>\n",
       "      <th>3</th>\n",
       "      <td>C:/Users/Shabiul/Downloads/multiple-disease-pr...</td>\n",
       "      <td>glioma</td>\n",
       "    </tr>\n",
       "    <tr>\n",
       "      <th>4</th>\n",
       "      <td>C:/Users/Shabiul/Downloads/multiple-disease-pr...</td>\n",
       "      <td>glioma</td>\n",
       "    </tr>\n",
       "  </tbody>\n",
       "</table>\n",
       "</div>"
      ],
      "text/plain": [
       "                                           File_path Brain_tumor_type\n",
       "0  C:/Users/Shabiul/Downloads/multiple-disease-pr...           glioma\n",
       "1  C:/Users/Shabiul/Downloads/multiple-disease-pr...           glioma\n",
       "2  C:/Users/Shabiul/Downloads/multiple-disease-pr...           glioma\n",
       "3  C:/Users/Shabiul/Downloads/multiple-disease-pr...           glioma\n",
       "4  C:/Users/Shabiul/Downloads/multiple-disease-pr...           glioma"
      ]
     },
     "execution_count": 25,
     "metadata": {},
     "output_type": "execute_result"
    }
   ],
   "source": [
    "df.head()\n",
    "\n",
    "# our data frame is ready with file path"
   ]
  },
  {
   "cell_type": "code",
   "execution_count": 26,
   "metadata": {
    "id": "gjaNcaZi4Jj-",
    "outputId": "3fd54ff5-5788-422f-8e82-bcb7bfaa15f8"
   },
   "outputs": [
    {
     "data": {
      "image/png": "[encoded data removed]",
      "text/plain": [
       "<Figure size 1500x1000 with 1 Axes>"
      ]
     },
     "metadata": {},
     "output_type": "display_data"
    }
   ],
   "source": [
    "df[\"Brain_tumor_type\"].value_counts().plot(kind=\"bar\",\n",
    "                                           xlabel=\"Brain_tumor_types\",\n",
    "                                           ylabel=\"counts\",\n",
    "                                           title=\"How many images are there in specific image class\",\n",
    "                                           figsize=(15,10))\n",
    "plt.show()"
   ]
  },
  {
   "cell_type": "code",
   "execution_count": 27,
   "metadata": {
    "id": "GI7_rvu54d4g",
    "outputId": "f11a8163-8a8e-4b73-cca4-841e65b428f2"
   },
   "outputs": [
    {
     "data": {
      "text/plain": [
       "np.float64(1428.0)"
      ]
     },
     "execution_count": 27,
     "metadata": {},
     "output_type": "execute_result"
    }
   ],
   "source": [
    "# AVerage image for each specific class\n",
    "df[\"Brain_tumor_type\"].value_counts().mean()"
   ]
  },
  {
   "cell_type": "code",
   "execution_count": 28,
   "metadata": {
    "id": "gTtk-bl36TL7",
    "outputId": "27a3ca61-68b1-4bb1-c390-bd702023c79f"
   },
   "outputs": [
    {
     "data": {
      "text/plain": [
       "['C:/Users/Shabiul/Downloads/multiple-disease-prediction-streamlit-app-main/dataset/Training\\\\glioma\\\\Tr-glTr_0000.jpg',\n",
       " 'C:/Users/Shabiul/Downloads/multiple-disease-prediction-streamlit-app-main/dataset/Training\\\\glioma\\\\Tr-glTr_0001.jpg',\n",
       " 'C:/Users/Shabiul/Downloads/multiple-disease-prediction-streamlit-app-main/dataset/Training\\\\glioma\\\\Tr-glTr_0002.jpg',\n",
       " 'C:/Users/Shabiul/Downloads/multiple-disease-prediction-streamlit-app-main/dataset/Training\\\\glioma\\\\Tr-glTr_0003.jpg',\n",
       " 'C:/Users/Shabiul/Downloads/multiple-disease-prediction-streamlit-app-main/dataset/Training\\\\glioma\\\\Tr-glTr_0004.jpg',\n",
       " 'C:/Users/Shabiul/Downloads/multiple-disease-prediction-streamlit-app-main/dataset/Training\\\\glioma\\\\Tr-glTr_0005.jpg',\n",
       " 'C:/Users/Shabiul/Downloads/multiple-disease-prediction-streamlit-app-main/dataset/Training\\\\glioma\\\\Tr-glTr_0006.jpg',\n",
       " 'C:/Users/Shabiul/Downloads/multiple-disease-prediction-streamlit-app-main/dataset/Training\\\\glioma\\\\Tr-glTr_0007.jpg',\n",
       " 'C:/Users/Shabiul/Downloads/multiple-disease-prediction-streamlit-app-main/dataset/Training\\\\glioma\\\\Tr-glTr_0008.jpg',\n",
       " 'C:/Users/Shabiul/Downloads/multiple-disease-prediction-streamlit-app-main/dataset/Training\\\\glioma\\\\Tr-glTr_0009.jpg',\n",
       " 'C:/Users/Shabiul/Downloads/multiple-disease-prediction-streamlit-app-main/dataset/Training\\\\glioma\\\\Tr-gl_0010.jpg',\n",
       " 'C:/Users/Shabiul/Downloads/multiple-disease-prediction-streamlit-app-main/dataset/Training\\\\glioma\\\\Tr-gl_0011.jpg',\n",
       " 'C:/Users/Shabiul/Downloads/multiple-disease-prediction-streamlit-app-main/dataset/Training\\\\glioma\\\\Tr-gl_0012.jpg',\n",
       " 'C:/Users/Shabiul/Downloads/multiple-disease-prediction-streamlit-app-main/dataset/Training\\\\glioma\\\\Tr-gl_0013.jpg',\n",
       " 'C:/Users/Shabiul/Downloads/multiple-disease-prediction-streamlit-app-main/dataset/Training\\\\glioma\\\\Tr-gl_0014.jpg',\n",
       " 'C:/Users/Shabiul/Downloads/multiple-disease-prediction-streamlit-app-main/dataset/Training\\\\glioma\\\\Tr-gl_0015.jpg',\n",
       " 'C:/Users/Shabiul/Downloads/multiple-disease-prediction-streamlit-app-main/dataset/Training\\\\glioma\\\\Tr-gl_0016.jpg',\n",
       " 'C:/Users/Shabiul/Downloads/multiple-disease-prediction-streamlit-app-main/dataset/Training\\\\glioma\\\\Tr-gl_0017.jpg',\n",
       " 'C:/Users/Shabiul/Downloads/multiple-disease-prediction-streamlit-app-main/dataset/Training\\\\glioma\\\\Tr-gl_0018.jpg',\n",
       " 'C:/Users/Shabiul/Downloads/multiple-disease-prediction-streamlit-app-main/dataset/Training\\\\glioma\\\\Tr-gl_0019.jpg',\n",
       " 'C:/Users/Shabiul/Downloads/multiple-disease-prediction-streamlit-app-main/dataset/Training\\\\glioma\\\\Tr-gl_0020.jpg',\n",
       " 'C:/Users/Shabiul/Downloads/multiple-disease-prediction-streamlit-app-main/dataset/Training\\\\glioma\\\\Tr-gl_0021.jpg',\n",
       " 'C:/Users/Shabiul/Downloads/multiple-disease-prediction-streamlit-app-main/dataset/Training\\\\glioma\\\\Tr-gl_0022.jpg',\n",
       " 'C:/Users/Shabiul/Downloads/multiple-disease-prediction-streamlit-app-main/dataset/Training\\\\glioma\\\\Tr-gl_0023.jpg',\n",
       " 'C:/Users/Shabiul/Downloads/multiple-disease-prediction-streamlit-app-main/dataset/Training\\\\glioma\\\\Tr-gl_0024.jpg',\n",
       " 'C:/Users/Shabiul/Downloads/multiple-disease-prediction-streamlit-app-main/dataset/Training\\\\glioma\\\\Tr-gl_0025.jpg',\n",
       " 'C:/Users/Shabiul/Downloads/multiple-disease-prediction-streamlit-app-main/dataset/Training\\\\glioma\\\\Tr-gl_0026.jpg',\n",
       " 'C:/Users/Shabiul/Downloads/multiple-disease-prediction-streamlit-app-main/dataset/Training\\\\glioma\\\\Tr-gl_0027.jpg',\n",
       " 'C:/Users/Shabiul/Downloads/multiple-disease-prediction-streamlit-app-main/dataset/Training\\\\glioma\\\\Tr-gl_0028.jpg',\n",
       " 'C:/Users/Shabiul/Downloads/multiple-disease-prediction-streamlit-app-main/dataset/Training\\\\glioma\\\\Tr-gl_0029.jpg',\n",
       " 'C:/Users/Shabiul/Downloads/multiple-disease-prediction-streamlit-app-main/dataset/Training\\\\glioma\\\\Tr-gl_0030.jpg',\n",
       " 'C:/Users/Shabiul/Downloads/multiple-disease-prediction-streamlit-app-main/dataset/Training\\\\glioma\\\\Tr-gl_0031.jpg',\n",
       " 'C:/Users/Shabiul/Downloads/multiple-disease-prediction-streamlit-app-main/dataset/Training\\\\glioma\\\\Tr-gl_0032.jpg',\n",
       " 'C:/Users/Shabiul/Downloads/multiple-disease-prediction-streamlit-app-main/dataset/Training\\\\glioma\\\\Tr-gl_0033.jpg',\n",
       " 'C:/Users/Shabiul/Downloads/multiple-disease-prediction-streamlit-app-main/dataset/Training\\\\glioma\\\\Tr-gl_0034.jpg',\n",
       " 'C:/Users/Shabiul/Downloads/multiple-disease-prediction-streamlit-app-main/dataset/Training\\\\glioma\\\\Tr-gl_0035.jpg',\n",
       " 'C:/Users/Shabiul/Downloads/multiple-disease-prediction-streamlit-app-main/dataset/Training\\\\glioma\\\\Tr-gl_0036.jpg',\n",
       " 'C:/Users/Shabiul/Downloads/multiple-disease-prediction-streamlit-app-main/dataset/Training\\\\glioma\\\\Tr-gl_0037.jpg',\n",
       " 'C:/Users/Shabiul/Downloads/multiple-disease-prediction-streamlit-app-main/dataset/Training\\\\glioma\\\\Tr-gl_0038.jpg',\n",
       " 'C:/Users/Shabiul/Downloads/multiple-disease-prediction-streamlit-app-main/dataset/Training\\\\glioma\\\\Tr-gl_0039.jpg',\n",
       " 'C:/Users/Shabiul/Downloads/multiple-disease-prediction-streamlit-app-main/dataset/Training\\\\glioma\\\\Tr-gl_0040.jpg',\n",
       " 'C:/Users/Shabiul/Downloads/multiple-disease-prediction-streamlit-app-main/dataset/Training\\\\glioma\\\\Tr-gl_0041.jpg',\n",
       " 'C:/Users/Shabiul/Downloads/multiple-disease-prediction-streamlit-app-main/dataset/Training\\\\glioma\\\\Tr-gl_0042.jpg',\n",
       " 'C:/Users/Shabiul/Downloads/multiple-disease-prediction-streamlit-app-main/dataset/Training\\\\glioma\\\\Tr-gl_0043.jpg',\n",
       " 'C:/Users/Shabiul/Downloads/multiple-disease-prediction-streamlit-app-main/dataset/Training\\\\glioma\\\\Tr-gl_0044.jpg',\n",
       " 'C:/Users/Shabiul/Downloads/multiple-disease-prediction-streamlit-app-main/dataset/Training\\\\glioma\\\\Tr-gl_0045.jpg',\n",
       " 'C:/Users/Shabiul/Downloads/multiple-disease-prediction-streamlit-app-main/dataset/Training\\\\glioma\\\\Tr-gl_0046.jpg',\n",
       " 'C:/Users/Shabiul/Downloads/multiple-disease-prediction-streamlit-app-main/dataset/Training\\\\glioma\\\\Tr-gl_0047.jpg',\n",
       " 'C:/Users/Shabiul/Downloads/multiple-disease-prediction-streamlit-app-main/dataset/Training\\\\glioma\\\\Tr-gl_0048.jpg',\n",
       " 'C:/Users/Shabiul/Downloads/multiple-disease-prediction-streamlit-app-main/dataset/Training\\\\glioma\\\\Tr-gl_0049.jpg',\n",
       " 'C:/Users/Shabiul/Downloads/multiple-disease-prediction-streamlit-app-main/dataset/Training\\\\glioma\\\\Tr-gl_0050.jpg',\n",
       " 'C:/Users/Shabiul/Downloads/multiple-disease-prediction-streamlit-app-main/dataset/Training\\\\glioma\\\\Tr-gl_0051.jpg',\n",
       " 'C:/Users/Shabiul/Downloads/multiple-disease-prediction-streamlit-app-main/dataset/Training\\\\glioma\\\\Tr-gl_0052.jpg',\n",
       " 'C:/Users/Shabiul/Downloads/multiple-disease-prediction-streamlit-app-main/dataset/Training\\\\glioma\\\\Tr-gl_0053.jpg',\n",
       " 'C:/Users/Shabiul/Downloads/multiple-disease-prediction-streamlit-app-main/dataset/Training\\\\glioma\\\\Tr-gl_0054.jpg',\n",
       " 'C:/Users/Shabiul/Downloads/multiple-disease-prediction-streamlit-app-main/dataset/Training\\\\glioma\\\\Tr-gl_0055.jpg',\n",
       " 'C:/Users/Shabiul/Downloads/multiple-disease-prediction-streamlit-app-main/dataset/Training\\\\glioma\\\\Tr-gl_0056.jpg',\n",
       " 'C:/Users/Shabiul/Downloads/multiple-disease-prediction-streamlit-app-main/dataset/Training\\\\glioma\\\\Tr-gl_0057.jpg',\n",
       " 'C:/Users/Shabiul/Downloads/multiple-disease-prediction-streamlit-app-main/dataset/Training\\\\glioma\\\\Tr-gl_0058.jpg',\n",
       " 'C:/Users/Shabiul/Downloads/multiple-disease-prediction-streamlit-app-main/dataset/Training\\\\glioma\\\\Tr-gl_0059.jpg',\n",
       " 'C:/Users/Shabiul/Downloads/multiple-disease-prediction-streamlit-app-main/dataset/Training\\\\glioma\\\\Tr-gl_0060.jpg',\n",
       " 'C:/Users/Shabiul/Downloads/multiple-disease-prediction-streamlit-app-main/dataset/Training\\\\glioma\\\\Tr-gl_0061.jpg',\n",
       " 'C:/Users/Shabiul/Downloads/multiple-disease-prediction-streamlit-app-main/dataset/Training\\\\glioma\\\\Tr-gl_0062.jpg',\n",
       " 'C:/Users/Shabiul/Downloads/multiple-disease-prediction-streamlit-app-main/dataset/Training\\\\glioma\\\\Tr-gl_0063.jpg',\n",
       " 'C:/Users/Shabiul/Downloads/multiple-disease-prediction-streamlit-app-main/dataset/Training\\\\glioma\\\\Tr-gl_0064.jpg',\n",
       " 'C:/Users/Shabiul/Downloads/multiple-disease-prediction-streamlit-app-main/dataset/Training\\\\glioma\\\\Tr-gl_0065.jpg',\n",
       " 'C:/Users/Shabiul/Downloads/multiple-disease-prediction-streamlit-app-main/dataset/Training\\\\glioma\\\\Tr-gl_0066.jpg',\n",
       " 'C:/Users/Shabiul/Downloads/multiple-disease-prediction-streamlit-app-main/dataset/Training\\\\glioma\\\\Tr-gl_0067.jpg',\n",
       " 'C:/Users/Shabiul/Downloads/multiple-disease-prediction-streamlit-app-main/dataset/Training\\\\glioma\\\\Tr-gl_0068.jpg',\n",
       " 'C:/Users/Shabiul/Downloads/multiple-disease-prediction-streamlit-app-main/dataset/Training\\\\glioma\\\\Tr-gl_0069.jpg',\n",
       " 'C:/Users/Shabiul/Downloads/multiple-disease-prediction-streamlit-app-main/dataset/Training\\\\glioma\\\\Tr-gl_0070.jpg',\n",
       " 'C:/Users/Shabiul/Downloads/multiple-disease-prediction-streamlit-app-main/dataset/Training\\\\glioma\\\\Tr-gl_0071.jpg',\n",
       " 'C:/Users/Shabiul/Downloads/multiple-disease-prediction-streamlit-app-main/dataset/Training\\\\glioma\\\\Tr-gl_0072.jpg',\n",
       " 'C:/Users/Shabiul/Downloads/multiple-disease-prediction-streamlit-app-main/dataset/Training\\\\glioma\\\\Tr-gl_0073.jpg',\n",
       " 'C:/Users/Shabiul/Downloads/multiple-disease-prediction-streamlit-app-main/dataset/Training\\\\glioma\\\\Tr-gl_0074.jpg',\n",
       " 'C:/Users/Shabiul/Downloads/multiple-disease-prediction-streamlit-app-main/dataset/Training\\\\glioma\\\\Tr-gl_0075.jpg',\n",
       " 'C:/Users/Shabiul/Downloads/multiple-disease-prediction-streamlit-app-main/dataset/Training\\\\glioma\\\\Tr-gl_0076.jpg',\n",
       " 'C:/Users/Shabiul/Downloads/multiple-disease-prediction-streamlit-app-main/dataset/Training\\\\glioma\\\\Tr-gl_0077.jpg',\n",
       " 'C:/Users/Shabiul/Downloads/multiple-disease-prediction-streamlit-app-main/dataset/Training\\\\glioma\\\\Tr-gl_0078.jpg',\n",
       " 'C:/Users/Shabiul/Downloads/multiple-disease-prediction-streamlit-app-main/dataset/Training\\\\glioma\\\\Tr-gl_0079.jpg',\n",
       " 'C:/Users/Shabiul/Downloads/multiple-disease-prediction-streamlit-app-main/dataset/Training\\\\glioma\\\\Tr-gl_0080.jpg',\n",
       " 'C:/Users/Shabiul/Downloads/multiple-disease-prediction-streamlit-app-main/dataset/Training\\\\glioma\\\\Tr-gl_0081.jpg',\n",
       " 'C:/Users/Shabiul/Downloads/multiple-disease-prediction-streamlit-app-main/dataset/Training\\\\glioma\\\\Tr-gl_0082.jpg',\n",
       " 'C:/Users/Shabiul/Downloads/multiple-disease-prediction-streamlit-app-main/dataset/Training\\\\glioma\\\\Tr-gl_0083.jpg',\n",
       " 'C:/Users/Shabiul/Downloads/multiple-disease-prediction-streamlit-app-main/dataset/Training\\\\glioma\\\\Tr-gl_0084.jpg',\n",
       " 'C:/Users/Shabiul/Downloads/multiple-disease-prediction-streamlit-app-main/dataset/Training\\\\glioma\\\\Tr-gl_0085.jpg',\n",
       " 'C:/Users/Shabiul/Downloads/multiple-disease-prediction-streamlit-app-main/dataset/Training\\\\glioma\\\\Tr-gl_0086.jpg',\n",
       " 'C:/Users/Shabiul/Downloads/multiple-disease-prediction-streamlit-app-main/dataset/Training\\\\glioma\\\\Tr-gl_0087.jpg',\n",
       " 'C:/Users/Shabiul/Downloads/multiple-disease-prediction-streamlit-app-main/dataset/Training\\\\glioma\\\\Tr-gl_0088.jpg',\n",
       " 'C:/Users/Shabiul/Downloads/multiple-disease-prediction-streamlit-app-main/dataset/Training\\\\glioma\\\\Tr-gl_0089.jpg',\n",
       " 'C:/Users/Shabiul/Downloads/multiple-disease-prediction-streamlit-app-main/dataset/Training\\\\glioma\\\\Tr-gl_0090.jpg',\n",
       " 'C:/Users/Shabiul/Downloads/multiple-disease-prediction-streamlit-app-main/dataset/Training\\\\glioma\\\\Tr-gl_0091.jpg',\n",
       " 'C:/Users/Shabiul/Downloads/multiple-disease-prediction-streamlit-app-main/dataset/Training\\\\glioma\\\\Tr-gl_0092.jpg',\n",
       " 'C:/Users/Shabiul/Downloads/multiple-disease-prediction-streamlit-app-main/dataset/Training\\\\glioma\\\\Tr-gl_0093.jpg',\n",
       " 'C:/Users/Shabiul/Downloads/multiple-disease-prediction-streamlit-app-main/dataset/Training\\\\glioma\\\\Tr-gl_0094.jpg',\n",
       " 'C:/Users/Shabiul/Downloads/multiple-disease-prediction-streamlit-app-main/dataset/Training\\\\glioma\\\\Tr-gl_0095.jpg',\n",
       " 'C:/Users/Shabiul/Downloads/multiple-disease-prediction-streamlit-app-main/dataset/Training\\\\glioma\\\\Tr-gl_0096.jpg',\n",
       " 'C:/Users/Shabiul/Downloads/multiple-disease-prediction-streamlit-app-main/dataset/Training\\\\glioma\\\\Tr-gl_0097.jpg',\n",
       " 'C:/Users/Shabiul/Downloads/multiple-disease-prediction-streamlit-app-main/dataset/Training\\\\glioma\\\\Tr-gl_0098.jpg',\n",
       " 'C:/Users/Shabiul/Downloads/multiple-disease-prediction-streamlit-app-main/dataset/Training\\\\glioma\\\\Tr-gl_0099.jpg',\n",
       " 'C:/Users/Shabiul/Downloads/multiple-disease-prediction-streamlit-app-main/dataset/Training\\\\glioma\\\\Tr-gl_0100.jpg',\n",
       " 'C:/Users/Shabiul/Downloads/multiple-disease-prediction-streamlit-app-main/dataset/Training\\\\glioma\\\\Tr-gl_0101.jpg',\n",
       " 'C:/Users/Shabiul/Downloads/multiple-disease-prediction-streamlit-app-main/dataset/Training\\\\glioma\\\\Tr-gl_0102.jpg',\n",
       " 'C:/Users/Shabiul/Downloads/multiple-disease-prediction-streamlit-app-main/dataset/Training\\\\glioma\\\\Tr-gl_0103.jpg',\n",
       " 'C:/Users/Shabiul/Downloads/multiple-disease-prediction-streamlit-app-main/dataset/Training\\\\glioma\\\\Tr-gl_0104.jpg',\n",
       " 'C:/Users/Shabiul/Downloads/multiple-disease-prediction-streamlit-app-main/dataset/Training\\\\glioma\\\\Tr-gl_0105.jpg',\n",
       " 'C:/Users/Shabiul/Downloads/multiple-disease-prediction-streamlit-app-main/dataset/Training\\\\glioma\\\\Tr-gl_0106.jpg',\n",
       " 'C:/Users/Shabiul/Downloads/multiple-disease-prediction-streamlit-app-main/dataset/Training\\\\glioma\\\\Tr-gl_0107.jpg',\n",
       " 'C:/Users/Shabiul/Downloads/multiple-disease-prediction-streamlit-app-main/dataset/Training\\\\glioma\\\\Tr-gl_0108.jpg',\n",
       " 'C:/Users/Shabiul/Downloads/multiple-disease-prediction-streamlit-app-main/dataset/Training\\\\glioma\\\\Tr-gl_0109.jpg',\n",
       " 'C:/Users/Shabiul/Downloads/multiple-disease-prediction-streamlit-app-main/dataset/Training\\\\glioma\\\\Tr-gl_0110.jpg',\n",
       " 'C:/Users/Shabiul/Downloads/multiple-disease-prediction-streamlit-app-main/dataset/Training\\\\glioma\\\\Tr-gl_0111.jpg',\n",
       " 'C:/Users/Shabiul/Downloads/multiple-disease-prediction-streamlit-app-main/dataset/Training\\\\glioma\\\\Tr-gl_0112.jpg',\n",
       " 'C:/Users/Shabiul/Downloads/multiple-disease-prediction-streamlit-app-main/dataset/Training\\\\glioma\\\\Tr-gl_0113.jpg',\n",
       " 'C:/Users/Shabiul/Downloads/multiple-disease-prediction-streamlit-app-main/dataset/Training\\\\glioma\\\\Tr-gl_0114.jpg',\n",
       " 'C:/Users/Shabiul/Downloads/multiple-disease-prediction-streamlit-app-main/dataset/Training\\\\glioma\\\\Tr-gl_0115.jpg',\n",
       " 'C:/Users/Shabiul/Downloads/multiple-disease-prediction-streamlit-app-main/dataset/Training\\\\glioma\\\\Tr-gl_0116.jpg',\n",
       " 'C:/Users/Shabiul/Downloads/multiple-disease-prediction-streamlit-app-main/dataset/Training\\\\glioma\\\\Tr-gl_0117.jpg',\n",
       " 'C:/Users/Shabiul/Downloads/multiple-disease-prediction-streamlit-app-main/dataset/Training\\\\glioma\\\\Tr-gl_0118.jpg',\n",
       " 'C:/Users/Shabiul/Downloads/multiple-disease-prediction-streamlit-app-main/dataset/Training\\\\glioma\\\\Tr-gl_0119.jpg',\n",
       " 'C:/Users/Shabiul/Downloads/multiple-disease-prediction-streamlit-app-main/dataset/Training\\\\glioma\\\\Tr-gl_0120.jpg',\n",
       " 'C:/Users/Shabiul/Downloads/multiple-disease-prediction-streamlit-app-main/dataset/Training\\\\glioma\\\\Tr-gl_0121.jpg',\n",
       " 'C:/Users/Shabiul/Downloads/multiple-disease-prediction-streamlit-app-main/dataset/Training\\\\glioma\\\\Tr-gl_0122.jpg',\n",
       " 'C:/Users/Shabiul/Downloads/multiple-disease-prediction-streamlit-app-main/dataset/Training\\\\glioma\\\\Tr-gl_0123.jpg',\n",
       " 'C:/Users/Shabiul/Downloads/multiple-disease-prediction-streamlit-app-main/dataset/Training\\\\glioma\\\\Tr-gl_0124.jpg',\n",
       " 'C:/Users/Shabiul/Downloads/multiple-disease-prediction-streamlit-app-main/dataset/Training\\\\glioma\\\\Tr-gl_0125.jpg',\n",
       " 'C:/Users/Shabiul/Downloads/multiple-disease-prediction-streamlit-app-main/dataset/Training\\\\glioma\\\\Tr-gl_0126.jpg',\n",
       " 'C:/Users/Shabiul/Downloads/multiple-disease-prediction-streamlit-app-main/dataset/Training\\\\glioma\\\\Tr-gl_0127.jpg',\n",
       " 'C:/Users/Shabiul/Downloads/multiple-disease-prediction-streamlit-app-main/dataset/Training\\\\glioma\\\\Tr-gl_0128.jpg',\n",
       " 'C:/Users/Shabiul/Downloads/multiple-disease-prediction-streamlit-app-main/dataset/Training\\\\glioma\\\\Tr-gl_0129.jpg',\n",
       " 'C:/Users/Shabiul/Downloads/multiple-disease-prediction-streamlit-app-main/dataset/Training\\\\glioma\\\\Tr-gl_0130.jpg',\n",
       " 'C:/Users/Shabiul/Downloads/multiple-disease-prediction-streamlit-app-main/dataset/Training\\\\glioma\\\\Tr-gl_0131.jpg',\n",
       " 'C:/Users/Shabiul/Downloads/multiple-disease-prediction-streamlit-app-main/dataset/Training\\\\glioma\\\\Tr-gl_0132.jpg',\n",
       " 'C:/Users/Shabiul/Downloads/multiple-disease-prediction-streamlit-app-main/dataset/Training\\\\glioma\\\\Tr-gl_0133.jpg',\n",
       " 'C:/Users/Shabiul/Downloads/multiple-disease-prediction-streamlit-app-main/dataset/Training\\\\glioma\\\\Tr-gl_0134.jpg',\n",
       " 'C:/Users/Shabiul/Downloads/multiple-disease-prediction-streamlit-app-main/dataset/Training\\\\glioma\\\\Tr-gl_0135.jpg',\n",
       " 'C:/Users/Shabiul/Downloads/multiple-disease-prediction-streamlit-app-main/dataset/Training\\\\glioma\\\\Tr-gl_0136.jpg',\n",
       " 'C:/Users/Shabiul/Downloads/multiple-disease-prediction-streamlit-app-main/dataset/Training\\\\glioma\\\\Tr-gl_0137.jpg',\n",
       " 'C:/Users/Shabiul/Downloads/multiple-disease-prediction-streamlit-app-main/dataset/Training\\\\glioma\\\\Tr-gl_0138.jpg',\n",
       " 'C:/Users/Shabiul/Downloads/multiple-disease-prediction-streamlit-app-main/dataset/Training\\\\glioma\\\\Tr-gl_0139.jpg',\n",
       " 'C:/Users/Shabiul/Downloads/multiple-disease-prediction-streamlit-app-main/dataset/Training\\\\glioma\\\\Tr-gl_0140.jpg',\n",
       " 'C:/Users/Shabiul/Downloads/multiple-disease-prediction-streamlit-app-main/dataset/Training\\\\glioma\\\\Tr-gl_0141.jpg',\n",
       " 'C:/Users/Shabiul/Downloads/multiple-disease-prediction-streamlit-app-main/dataset/Training\\\\glioma\\\\Tr-gl_0142.jpg',\n",
       " 'C:/Users/Shabiul/Downloads/multiple-disease-prediction-streamlit-app-main/dataset/Training\\\\glioma\\\\Tr-gl_0143.jpg',\n",
       " 'C:/Users/Shabiul/Downloads/multiple-disease-prediction-streamlit-app-main/dataset/Training\\\\glioma\\\\Tr-gl_0144.jpg',\n",
       " 'C:/Users/Shabiul/Downloads/multiple-disease-prediction-streamlit-app-main/dataset/Training\\\\glioma\\\\Tr-gl_0145.jpg',\n",
       " 'C:/Users/Shabiul/Downloads/multiple-disease-prediction-streamlit-app-main/dataset/Training\\\\glioma\\\\Tr-gl_0146.jpg',\n",
       " 'C:/Users/Shabiul/Downloads/multiple-disease-prediction-streamlit-app-main/dataset/Training\\\\glioma\\\\Tr-gl_0147.jpg',\n",
       " 'C:/Users/Shabiul/Downloads/multiple-disease-prediction-streamlit-app-main/dataset/Training\\\\glioma\\\\Tr-gl_0148.jpg',\n",
       " 'C:/Users/Shabiul/Downloads/multiple-disease-prediction-streamlit-app-main/dataset/Training\\\\glioma\\\\Tr-gl_0149.jpg',\n",
       " 'C:/Users/Shabiul/Downloads/multiple-disease-prediction-streamlit-app-main/dataset/Training\\\\glioma\\\\Tr-gl_0150.jpg',\n",
       " 'C:/Users/Shabiul/Downloads/multiple-disease-prediction-streamlit-app-main/dataset/Training\\\\glioma\\\\Tr-gl_0151.jpg',\n",
       " 'C:/Users/Shabiul/Downloads/multiple-disease-prediction-streamlit-app-main/dataset/Training\\\\glioma\\\\Tr-gl_0152.jpg',\n",
       " 'C:/Users/Shabiul/Downloads/multiple-disease-prediction-streamlit-app-main/dataset/Training\\\\glioma\\\\Tr-gl_0153.jpg',\n",
       " 'C:/Users/Shabiul/Downloads/multiple-disease-prediction-streamlit-app-main/dataset/Training\\\\glioma\\\\Tr-gl_0154.jpg',\n",
       " 'C:/Users/Shabiul/Downloads/multiple-disease-prediction-streamlit-app-main/dataset/Training\\\\glioma\\\\Tr-gl_0155.jpg',\n",
       " 'C:/Users/Shabiul/Downloads/multiple-disease-prediction-streamlit-app-main/dataset/Training\\\\glioma\\\\Tr-gl_0156.jpg',\n",
       " 'C:/Users/Shabiul/Downloads/multiple-disease-prediction-streamlit-app-main/dataset/Training\\\\glioma\\\\Tr-gl_0157.jpg',\n",
       " 'C:/Users/Shabiul/Downloads/multiple-disease-prediction-streamlit-app-main/dataset/Training\\\\glioma\\\\Tr-gl_0158.jpg',\n",
       " 'C:/Users/Shabiul/Downloads/multiple-disease-prediction-streamlit-app-main/dataset/Training\\\\glioma\\\\Tr-gl_0159.jpg',\n",
       " 'C:/Users/Shabiul/Downloads/multiple-disease-prediction-streamlit-app-main/dataset/Training\\\\glioma\\\\Tr-gl_0160.jpg',\n",
       " 'C:/Users/Shabiul/Downloads/multiple-disease-prediction-streamlit-app-main/dataset/Training\\\\glioma\\\\Tr-gl_0161.jpg',\n",
       " 'C:/Users/Shabiul/Downloads/multiple-disease-prediction-streamlit-app-main/dataset/Training\\\\glioma\\\\Tr-gl_0162.jpg',\n",
       " 'C:/Users/Shabiul/Downloads/multiple-disease-prediction-streamlit-app-main/dataset/Training\\\\glioma\\\\Tr-gl_0163.jpg',\n",
       " 'C:/Users/Shabiul/Downloads/multiple-disease-prediction-streamlit-app-main/dataset/Training\\\\glioma\\\\Tr-gl_0164.jpg',\n",
       " 'C:/Users/Shabiul/Downloads/multiple-disease-prediction-streamlit-app-main/dataset/Training\\\\glioma\\\\Tr-gl_0165.jpg',\n",
       " 'C:/Users/Shabiul/Downloads/multiple-disease-prediction-streamlit-app-main/dataset/Training\\\\glioma\\\\Tr-gl_0166.jpg',\n",
       " 'C:/Users/Shabiul/Downloads/multiple-disease-prediction-streamlit-app-main/dataset/Training\\\\glioma\\\\Tr-gl_0167.jpg',\n",
       " 'C:/Users/Shabiul/Downloads/multiple-disease-prediction-streamlit-app-main/dataset/Training\\\\glioma\\\\Tr-gl_0168.jpg',\n",
       " 'C:/Users/Shabiul/Downloads/multiple-disease-prediction-streamlit-app-main/dataset/Training\\\\glioma\\\\Tr-gl_0169.jpg',\n",
       " 'C:/Users/Shabiul/Downloads/multiple-disease-prediction-streamlit-app-main/dataset/Training\\\\glioma\\\\Tr-gl_0170.jpg',\n",
       " 'C:/Users/Shabiul/Downloads/multiple-disease-prediction-streamlit-app-main/dataset/Training\\\\glioma\\\\Tr-gl_0171.jpg',\n",
       " 'C:/Users/Shabiul/Downloads/multiple-disease-prediction-streamlit-app-main/dataset/Training\\\\glioma\\\\Tr-gl_0172.jpg',\n",
       " 'C:/Users/Shabiul/Downloads/multiple-disease-prediction-streamlit-app-main/dataset/Training\\\\glioma\\\\Tr-gl_0173.jpg',\n",
       " 'C:/Users/Shabiul/Downloads/multiple-disease-prediction-streamlit-app-main/dataset/Training\\\\glioma\\\\Tr-gl_0174.jpg',\n",
       " 'C:/Users/Shabiul/Downloads/multiple-disease-prediction-streamlit-app-main/dataset/Training\\\\glioma\\\\Tr-gl_0175.jpg',\n",
       " 'C:/Users/Shabiul/Downloads/multiple-disease-prediction-streamlit-app-main/dataset/Training\\\\glioma\\\\Tr-gl_0176.jpg',\n",
       " 'C:/Users/Shabiul/Downloads/multiple-disease-prediction-streamlit-app-main/dataset/Training\\\\glioma\\\\Tr-gl_0177.jpg',\n",
       " 'C:/Users/Shabiul/Downloads/multiple-disease-prediction-streamlit-app-main/dataset/Training\\\\glioma\\\\Tr-gl_0178.jpg',\n",
       " 'C:/Users/Shabiul/Downloads/multiple-disease-prediction-streamlit-app-main/dataset/Training\\\\glioma\\\\Tr-gl_0179.jpg',\n",
       " 'C:/Users/Shabiul/Downloads/multiple-disease-prediction-streamlit-app-main/dataset/Training\\\\glioma\\\\Tr-gl_0180.jpg',\n",
       " 'C:/Users/Shabiul/Downloads/multiple-disease-prediction-streamlit-app-main/dataset/Training\\\\glioma\\\\Tr-gl_0181.jpg',\n",
       " 'C:/Users/Shabiul/Downloads/multiple-disease-prediction-streamlit-app-main/dataset/Training\\\\glioma\\\\Tr-gl_0182.jpg',\n",
       " 'C:/Users/Shabiul/Downloads/multiple-disease-prediction-streamlit-app-main/dataset/Training\\\\glioma\\\\Tr-gl_0183.jpg',\n",
       " 'C:/Users/Shabiul/Downloads/multiple-disease-prediction-streamlit-app-main/dataset/Training\\\\glioma\\\\Tr-gl_0184.jpg',\n",
       " 'C:/Users/Shabiul/Downloads/multiple-disease-prediction-streamlit-app-main/dataset/Training\\\\glioma\\\\Tr-gl_0185.jpg',\n",
       " 'C:/Users/Shabiul/Downloads/multiple-disease-prediction-streamlit-app-main/dataset/Training\\\\glioma\\\\Tr-gl_0186.jpg',\n",
       " 'C:/Users/Shabiul/Downloads/multiple-disease-prediction-streamlit-app-main/dataset/Training\\\\glioma\\\\Tr-gl_0187.jpg',\n",
       " 'C:/Users/Shabiul/Downloads/multiple-disease-prediction-streamlit-app-main/dataset/Training\\\\glioma\\\\Tr-gl_0188.jpg',\n",
       " 'C:/Users/Shabiul/Downloads/multiple-disease-prediction-streamlit-app-main/dataset/Training\\\\glioma\\\\Tr-gl_0189.jpg',\n",
       " 'C:/Users/Shabiul/Downloads/multiple-disease-prediction-streamlit-app-main/dataset/Training\\\\glioma\\\\Tr-gl_0190.jpg',\n",
       " 'C:/Users/Shabiul/Downloads/multiple-disease-prediction-streamlit-app-main/dataset/Training\\\\glioma\\\\Tr-gl_0191.jpg',\n",
       " 'C:/Users/Shabiul/Downloads/multiple-disease-prediction-streamlit-app-main/dataset/Training\\\\glioma\\\\Tr-gl_0192.jpg',\n",
       " 'C:/Users/Shabiul/Downloads/multiple-disease-prediction-streamlit-app-main/dataset/Training\\\\glioma\\\\Tr-gl_0193.jpg',\n",
       " 'C:/Users/Shabiul/Downloads/multiple-disease-prediction-streamlit-app-main/dataset/Training\\\\glioma\\\\Tr-gl_0194.jpg',\n",
       " 'C:/Users/Shabiul/Downloads/multiple-disease-prediction-streamlit-app-main/dataset/Training\\\\glioma\\\\Tr-gl_0195.jpg',\n",
       " 'C:/Users/Shabiul/Downloads/multiple-disease-prediction-streamlit-app-main/dataset/Training\\\\glioma\\\\Tr-gl_0196.jpg',\n",
       " 'C:/Users/Shabiul/Downloads/multiple-disease-prediction-streamlit-app-main/dataset/Training\\\\glioma\\\\Tr-gl_0197.jpg',\n",
       " 'C:/Users/Shabiul/Downloads/multiple-disease-prediction-streamlit-app-main/dataset/Training\\\\glioma\\\\Tr-gl_0198.jpg',\n",
       " 'C:/Users/Shabiul/Downloads/multiple-disease-prediction-streamlit-app-main/dataset/Training\\\\glioma\\\\Tr-gl_0199.jpg',\n",
       " 'C:/Users/Shabiul/Downloads/multiple-disease-prediction-streamlit-app-main/dataset/Training\\\\glioma\\\\Tr-gl_0200.jpg',\n",
       " 'C:/Users/Shabiul/Downloads/multiple-disease-prediction-streamlit-app-main/dataset/Training\\\\glioma\\\\Tr-gl_0201.jpg',\n",
       " 'C:/Users/Shabiul/Downloads/multiple-disease-prediction-streamlit-app-main/dataset/Training\\\\glioma\\\\Tr-gl_0202.jpg',\n",
       " 'C:/Users/Shabiul/Downloads/multiple-disease-prediction-streamlit-app-main/dataset/Training\\\\glioma\\\\Tr-gl_0203.jpg',\n",
       " 'C:/Users/Shabiul/Downloads/multiple-disease-prediction-streamlit-app-main/dataset/Training\\\\glioma\\\\Tr-gl_0204.jpg',\n",
       " 'C:/Users/Shabiul/Downloads/multiple-disease-prediction-streamlit-app-main/dataset/Training\\\\glioma\\\\Tr-gl_0205.jpg',\n",
       " 'C:/Users/Shabiul/Downloads/multiple-disease-prediction-streamlit-app-main/dataset/Training\\\\glioma\\\\Tr-gl_0206.jpg',\n",
       " 'C:/Users/Shabiul/Downloads/multiple-disease-prediction-streamlit-app-main/dataset/Training\\\\glioma\\\\Tr-gl_0207.jpg',\n",
       " 'C:/Users/Shabiul/Downloads/multiple-disease-prediction-streamlit-app-main/dataset/Training\\\\glioma\\\\Tr-gl_0208.jpg',\n",
       " 'C:/Users/Shabiul/Downloads/multiple-disease-prediction-streamlit-app-main/dataset/Training\\\\glioma\\\\Tr-gl_0209.jpg',\n",
       " 'C:/Users/Shabiul/Downloads/multiple-disease-prediction-streamlit-app-main/dataset/Training\\\\glioma\\\\Tr-gl_0210.jpg',\n",
       " 'C:/Users/Shabiul/Downloads/multiple-disease-prediction-streamlit-app-main/dataset/Training\\\\glioma\\\\Tr-gl_0211.jpg',\n",
       " 'C:/Users/Shabiul/Downloads/multiple-disease-prediction-streamlit-app-main/dataset/Training\\\\glioma\\\\Tr-gl_0212.jpg',\n",
       " 'C:/Users/Shabiul/Downloads/multiple-disease-prediction-streamlit-app-main/dataset/Training\\\\glioma\\\\Tr-gl_0213.jpg',\n",
       " 'C:/Users/Shabiul/Downloads/multiple-disease-prediction-streamlit-app-main/dataset/Training\\\\glioma\\\\Tr-gl_0214.jpg',\n",
       " 'C:/Users/Shabiul/Downloads/multiple-disease-prediction-streamlit-app-main/dataset/Training\\\\glioma\\\\Tr-gl_0215.jpg',\n",
       " 'C:/Users/Shabiul/Downloads/multiple-disease-prediction-streamlit-app-main/dataset/Training\\\\glioma\\\\Tr-gl_0216.jpg',\n",
       " 'C:/Users/Shabiul/Downloads/multiple-disease-prediction-streamlit-app-main/dataset/Training\\\\glioma\\\\Tr-gl_0217.jpg',\n",
       " 'C:/Users/Shabiul/Downloads/multiple-disease-prediction-streamlit-app-main/dataset/Training\\\\glioma\\\\Tr-gl_0218.jpg',\n",
       " 'C:/Users/Shabiul/Downloads/multiple-disease-prediction-streamlit-app-main/dataset/Training\\\\glioma\\\\Tr-gl_0219.jpg',\n",
       " 'C:/Users/Shabiul/Downloads/multiple-disease-prediction-streamlit-app-main/dataset/Training\\\\glioma\\\\Tr-gl_0220.jpg',\n",
       " 'C:/Users/Shabiul/Downloads/multiple-disease-prediction-streamlit-app-main/dataset/Training\\\\glioma\\\\Tr-gl_0221.jpg',\n",
       " 'C:/Users/Shabiul/Downloads/multiple-disease-prediction-streamlit-app-main/dataset/Training\\\\glioma\\\\Tr-gl_0222.jpg',\n",
       " 'C:/Users/Shabiul/Downloads/multiple-disease-prediction-streamlit-app-main/dataset/Training\\\\glioma\\\\Tr-gl_0223.jpg',\n",
       " 'C:/Users/Shabiul/Downloads/multiple-disease-prediction-streamlit-app-main/dataset/Training\\\\glioma\\\\Tr-gl_0224.jpg',\n",
       " 'C:/Users/Shabiul/Downloads/multiple-disease-prediction-streamlit-app-main/dataset/Training\\\\glioma\\\\Tr-gl_0225.jpg',\n",
       " 'C:/Users/Shabiul/Downloads/multiple-disease-prediction-streamlit-app-main/dataset/Training\\\\glioma\\\\Tr-gl_0226.jpg',\n",
       " 'C:/Users/Shabiul/Downloads/multiple-disease-prediction-streamlit-app-main/dataset/Training\\\\glioma\\\\Tr-gl_0227.jpg',\n",
       " 'C:/Users/Shabiul/Downloads/multiple-disease-prediction-streamlit-app-main/dataset/Training\\\\glioma\\\\Tr-gl_0228.jpg',\n",
       " 'C:/Users/Shabiul/Downloads/multiple-disease-prediction-streamlit-app-main/dataset/Training\\\\glioma\\\\Tr-gl_0229.jpg',\n",
       " 'C:/Users/Shabiul/Downloads/multiple-disease-prediction-streamlit-app-main/dataset/Training\\\\glioma\\\\Tr-gl_0230.jpg',\n",
       " 'C:/Users/Shabiul/Downloads/multiple-disease-prediction-streamlit-app-main/dataset/Training\\\\glioma\\\\Tr-gl_0231.jpg',\n",
       " 'C:/Users/Shabiul/Downloads/multiple-disease-prediction-streamlit-app-main/dataset/Training\\\\glioma\\\\Tr-gl_0232.jpg',\n",
       " 'C:/Users/Shabiul/Downloads/multiple-disease-prediction-streamlit-app-main/dataset/Training\\\\glioma\\\\Tr-gl_0233.jpg',\n",
       " 'C:/Users/Shabiul/Downloads/multiple-disease-prediction-streamlit-app-main/dataset/Training\\\\glioma\\\\Tr-gl_0234.jpg',\n",
       " 'C:/Users/Shabiul/Downloads/multiple-disease-prediction-streamlit-app-main/dataset/Training\\\\glioma\\\\Tr-gl_0235.jpg',\n",
       " 'C:/Users/Shabiul/Downloads/multiple-disease-prediction-streamlit-app-main/dataset/Training\\\\glioma\\\\Tr-gl_0236.jpg',\n",
       " 'C:/Users/Shabiul/Downloads/multiple-disease-prediction-streamlit-app-main/dataset/Training\\\\glioma\\\\Tr-gl_0237.jpg',\n",
       " 'C:/Users/Shabiul/Downloads/multiple-disease-prediction-streamlit-app-main/dataset/Training\\\\glioma\\\\Tr-gl_0238.jpg',\n",
       " 'C:/Users/Shabiul/Downloads/multiple-disease-prediction-streamlit-app-main/dataset/Training\\\\glioma\\\\Tr-gl_0239.jpg',\n",
       " 'C:/Users/Shabiul/Downloads/multiple-disease-prediction-streamlit-app-main/dataset/Training\\\\glioma\\\\Tr-gl_0240.jpg',\n",
       " 'C:/Users/Shabiul/Downloads/multiple-disease-prediction-streamlit-app-main/dataset/Training\\\\glioma\\\\Tr-gl_0241.jpg',\n",
       " 'C:/Users/Shabiul/Downloads/multiple-disease-prediction-streamlit-app-main/dataset/Training\\\\glioma\\\\Tr-gl_0242.jpg',\n",
       " 'C:/Users/Shabiul/Downloads/multiple-disease-prediction-streamlit-app-main/dataset/Training\\\\glioma\\\\Tr-gl_0243.jpg',\n",
       " 'C:/Users/Shabiul/Downloads/multiple-disease-prediction-streamlit-app-main/dataset/Training\\\\glioma\\\\Tr-gl_0244.jpg',\n",
       " 'C:/Users/Shabiul/Downloads/multiple-disease-prediction-streamlit-app-main/dataset/Training\\\\glioma\\\\Tr-gl_0245.jpg',\n",
       " 'C:/Users/Shabiul/Downloads/multiple-disease-prediction-streamlit-app-main/dataset/Training\\\\glioma\\\\Tr-gl_0246.jpg',\n",
       " 'C:/Users/Shabiul/Downloads/multiple-disease-prediction-streamlit-app-main/dataset/Training\\\\glioma\\\\Tr-gl_0247.jpg',\n",
       " 'C:/Users/Shabiul/Downloads/multiple-disease-prediction-streamlit-app-main/dataset/Training\\\\glioma\\\\Tr-gl_0248.jpg',\n",
       " 'C:/Users/Shabiul/Downloads/multiple-disease-prediction-streamlit-app-main/dataset/Training\\\\glioma\\\\Tr-gl_0249.jpg',\n",
       " 'C:/Users/Shabiul/Downloads/multiple-disease-prediction-streamlit-app-main/dataset/Training\\\\glioma\\\\Tr-gl_0250.jpg',\n",
       " 'C:/Users/Shabiul/Downloads/multiple-disease-prediction-streamlit-app-main/dataset/Training\\\\glioma\\\\Tr-gl_0251.jpg',\n",
       " 'C:/Users/Shabiul/Downloads/multiple-disease-prediction-streamlit-app-main/dataset/Training\\\\glioma\\\\Tr-gl_0252.jpg',\n",
       " 'C:/Users/Shabiul/Downloads/multiple-disease-prediction-streamlit-app-main/dataset/Training\\\\glioma\\\\Tr-gl_0253.jpg',\n",
       " 'C:/Users/Shabiul/Downloads/multiple-disease-prediction-streamlit-app-main/dataset/Training\\\\glioma\\\\Tr-gl_0254.jpg',\n",
       " 'C:/Users/Shabiul/Downloads/multiple-disease-prediction-streamlit-app-main/dataset/Training\\\\glioma\\\\Tr-gl_0255.jpg',\n",
       " 'C:/Users/Shabiul/Downloads/multiple-disease-prediction-streamlit-app-main/dataset/Training\\\\glioma\\\\Tr-gl_0256.jpg',\n",
       " 'C:/Users/Shabiul/Downloads/multiple-disease-prediction-streamlit-app-main/dataset/Training\\\\glioma\\\\Tr-gl_0257.jpg',\n",
       " 'C:/Users/Shabiul/Downloads/multiple-disease-prediction-streamlit-app-main/dataset/Training\\\\glioma\\\\Tr-gl_0258.jpg',\n",
       " 'C:/Users/Shabiul/Downloads/multiple-disease-prediction-streamlit-app-main/dataset/Training\\\\glioma\\\\Tr-gl_0259.jpg',\n",
       " 'C:/Users/Shabiul/Downloads/multiple-disease-prediction-streamlit-app-main/dataset/Training\\\\glioma\\\\Tr-gl_0260.jpg',\n",
       " 'C:/Users/Shabiul/Downloads/multiple-disease-prediction-streamlit-app-main/dataset/Training\\\\glioma\\\\Tr-gl_0261.jpg',\n",
       " 'C:/Users/Shabiul/Downloads/multiple-disease-prediction-streamlit-app-main/dataset/Training\\\\glioma\\\\Tr-gl_0262.jpg',\n",
       " 'C:/Users/Shabiul/Downloads/multiple-disease-prediction-streamlit-app-main/dataset/Training\\\\glioma\\\\Tr-gl_0263.jpg',\n",
       " 'C:/Users/Shabiul/Downloads/multiple-disease-prediction-streamlit-app-main/dataset/Training\\\\glioma\\\\Tr-gl_0264.jpg',\n",
       " 'C:/Users/Shabiul/Downloads/multiple-disease-prediction-streamlit-app-main/dataset/Training\\\\glioma\\\\Tr-gl_0265.jpg',\n",
       " 'C:/Users/Shabiul/Downloads/multiple-disease-prediction-streamlit-app-main/dataset/Training\\\\glioma\\\\Tr-gl_0266.jpg',\n",
       " 'C:/Users/Shabiul/Downloads/multiple-disease-prediction-streamlit-app-main/dataset/Training\\\\glioma\\\\Tr-gl_0267.jpg',\n",
       " 'C:/Users/Shabiul/Downloads/multiple-disease-prediction-streamlit-app-main/dataset/Training\\\\glioma\\\\Tr-gl_0268.jpg',\n",
       " 'C:/Users/Shabiul/Downloads/multiple-disease-prediction-streamlit-app-main/dataset/Training\\\\glioma\\\\Tr-gl_0269.jpg',\n",
       " 'C:/Users/Shabiul/Downloads/multiple-disease-prediction-streamlit-app-main/dataset/Training\\\\glioma\\\\Tr-gl_0270.jpg',\n",
       " 'C:/Users/Shabiul/Downloads/multiple-disease-prediction-streamlit-app-main/dataset/Training\\\\glioma\\\\Tr-gl_0271.jpg',\n",
       " 'C:/Users/Shabiul/Downloads/multiple-disease-prediction-streamlit-app-main/dataset/Training\\\\glioma\\\\Tr-gl_0272.jpg',\n",
       " 'C:/Users/Shabiul/Downloads/multiple-disease-prediction-streamlit-app-main/dataset/Training\\\\glioma\\\\Tr-gl_0273.jpg',\n",
       " 'C:/Users/Shabiul/Downloads/multiple-disease-prediction-streamlit-app-main/dataset/Training\\\\glioma\\\\Tr-gl_0274.jpg',\n",
       " 'C:/Users/Shabiul/Downloads/multiple-disease-prediction-streamlit-app-main/dataset/Training\\\\glioma\\\\Tr-gl_0275.jpg',\n",
       " 'C:/Users/Shabiul/Downloads/multiple-disease-prediction-streamlit-app-main/dataset/Training\\\\glioma\\\\Tr-gl_0276.jpg',\n",
       " 'C:/Users/Shabiul/Downloads/multiple-disease-prediction-streamlit-app-main/dataset/Training\\\\glioma\\\\Tr-gl_0277.jpg',\n",
       " 'C:/Users/Shabiul/Downloads/multiple-disease-prediction-streamlit-app-main/dataset/Training\\\\glioma\\\\Tr-gl_0278.jpg',\n",
       " 'C:/Users/Shabiul/Downloads/multiple-disease-prediction-streamlit-app-main/dataset/Training\\\\glioma\\\\Tr-gl_0279.jpg',\n",
       " 'C:/Users/Shabiul/Downloads/multiple-disease-prediction-streamlit-app-main/dataset/Training\\\\glioma\\\\Tr-gl_0280.jpg',\n",
       " 'C:/Users/Shabiul/Downloads/multiple-disease-prediction-streamlit-app-main/dataset/Training\\\\glioma\\\\Tr-gl_0281.jpg',\n",
       " 'C:/Users/Shabiul/Downloads/multiple-disease-prediction-streamlit-app-main/dataset/Training\\\\glioma\\\\Tr-gl_0282.jpg',\n",
       " 'C:/Users/Shabiul/Downloads/multiple-disease-prediction-streamlit-app-main/dataset/Training\\\\glioma\\\\Tr-gl_0283.jpg',\n",
       " 'C:/Users/Shabiul/Downloads/multiple-disease-prediction-streamlit-app-main/dataset/Training\\\\glioma\\\\Tr-gl_0284.jpg',\n",
       " 'C:/Users/Shabiul/Downloads/multiple-disease-prediction-streamlit-app-main/dataset/Training\\\\glioma\\\\Tr-gl_0285.jpg',\n",
       " 'C:/Users/Shabiul/Downloads/multiple-disease-prediction-streamlit-app-main/dataset/Training\\\\glioma\\\\Tr-gl_0286.jpg',\n",
       " 'C:/Users/Shabiul/Downloads/multiple-disease-prediction-streamlit-app-main/dataset/Training\\\\glioma\\\\Tr-gl_0287.jpg',\n",
       " 'C:/Users/Shabiul/Downloads/multiple-disease-prediction-streamlit-app-main/dataset/Training\\\\glioma\\\\Tr-gl_0288.jpg',\n",
       " 'C:/Users/Shabiul/Downloads/multiple-disease-prediction-streamlit-app-main/dataset/Training\\\\glioma\\\\Tr-gl_0289.jpg',\n",
       " 'C:/Users/Shabiul/Downloads/multiple-disease-prediction-streamlit-app-main/dataset/Training\\\\glioma\\\\Tr-gl_0290.jpg',\n",
       " 'C:/Users/Shabiul/Downloads/multiple-disease-prediction-streamlit-app-main/dataset/Training\\\\glioma\\\\Tr-gl_0291.jpg',\n",
       " 'C:/Users/Shabiul/Downloads/multiple-disease-prediction-streamlit-app-main/dataset/Training\\\\glioma\\\\Tr-gl_0292.jpg',\n",
       " 'C:/Users/Shabiul/Downloads/multiple-disease-prediction-streamlit-app-main/dataset/Training\\\\glioma\\\\Tr-gl_0293.jpg',\n",
       " 'C:/Users/Shabiul/Downloads/multiple-disease-prediction-streamlit-app-main/dataset/Training\\\\glioma\\\\Tr-gl_0294.jpg',\n",
       " 'C:/Users/Shabiul/Downloads/multiple-disease-prediction-streamlit-app-main/dataset/Training\\\\glioma\\\\Tr-gl_0295.jpg',\n",
       " 'C:/Users/Shabiul/Downloads/multiple-disease-prediction-streamlit-app-main/dataset/Training\\\\glioma\\\\Tr-gl_0296.jpg',\n",
       " 'C:/Users/Shabiul/Downloads/multiple-disease-prediction-streamlit-app-main/dataset/Training\\\\glioma\\\\Tr-gl_0297.jpg',\n",
       " 'C:/Users/Shabiul/Downloads/multiple-disease-prediction-streamlit-app-main/dataset/Training\\\\glioma\\\\Tr-gl_0298.jpg',\n",
       " 'C:/Users/Shabiul/Downloads/multiple-disease-prediction-streamlit-app-main/dataset/Training\\\\glioma\\\\Tr-gl_0299.jpg',\n",
       " 'C:/Users/Shabiul/Downloads/multiple-disease-prediction-streamlit-app-main/dataset/Training\\\\glioma\\\\Tr-gl_0300.jpg',\n",
       " 'C:/Users/Shabiul/Downloads/multiple-disease-prediction-streamlit-app-main/dataset/Training\\\\glioma\\\\Tr-gl_0301.jpg',\n",
       " 'C:/Users/Shabiul/Downloads/multiple-disease-prediction-streamlit-app-main/dataset/Training\\\\glioma\\\\Tr-gl_0302.jpg',\n",
       " 'C:/Users/Shabiul/Downloads/multiple-disease-prediction-streamlit-app-main/dataset/Training\\\\glioma\\\\Tr-gl_0303.jpg',\n",
       " 'C:/Users/Shabiul/Downloads/multiple-disease-prediction-streamlit-app-main/dataset/Training\\\\glioma\\\\Tr-gl_0304.jpg',\n",
       " 'C:/Users/Shabiul/Downloads/multiple-disease-prediction-streamlit-app-main/dataset/Training\\\\glioma\\\\Tr-gl_0305.jpg',\n",
       " 'C:/Users/Shabiul/Downloads/multiple-disease-prediction-streamlit-app-main/dataset/Training\\\\glioma\\\\Tr-gl_0306.jpg',\n",
       " 'C:/Users/Shabiul/Downloads/multiple-disease-prediction-streamlit-app-main/dataset/Training\\\\glioma\\\\Tr-gl_0307.jpg',\n",
       " 'C:/Users/Shabiul/Downloads/multiple-disease-prediction-streamlit-app-main/dataset/Training\\\\glioma\\\\Tr-gl_0308.jpg',\n",
       " 'C:/Users/Shabiul/Downloads/multiple-disease-prediction-streamlit-app-main/dataset/Training\\\\glioma\\\\Tr-gl_0309.jpg',\n",
       " 'C:/Users/Shabiul/Downloads/multiple-disease-prediction-streamlit-app-main/dataset/Training\\\\glioma\\\\Tr-gl_0310.jpg',\n",
       " 'C:/Users/Shabiul/Downloads/multiple-disease-prediction-streamlit-app-main/dataset/Training\\\\glioma\\\\Tr-gl_0311.jpg',\n",
       " 'C:/Users/Shabiul/Downloads/multiple-disease-prediction-streamlit-app-main/dataset/Training\\\\glioma\\\\Tr-gl_0312.jpg',\n",
       " 'C:/Users/Shabiul/Downloads/multiple-disease-prediction-streamlit-app-main/dataset/Training\\\\glioma\\\\Tr-gl_0313.jpg',\n",
       " 'C:/Users/Shabiul/Downloads/multiple-disease-prediction-streamlit-app-main/dataset/Training\\\\glioma\\\\Tr-gl_0314.jpg',\n",
       " 'C:/Users/Shabiul/Downloads/multiple-disease-prediction-streamlit-app-main/dataset/Training\\\\glioma\\\\Tr-gl_0315.jpg',\n",
       " 'C:/Users/Shabiul/Downloads/multiple-disease-prediction-streamlit-app-main/dataset/Training\\\\glioma\\\\Tr-gl_0316.jpg',\n",
       " 'C:/Users/Shabiul/Downloads/multiple-disease-prediction-streamlit-app-main/dataset/Training\\\\glioma\\\\Tr-gl_0317.jpg',\n",
       " 'C:/Users/Shabiul/Downloads/multiple-disease-prediction-streamlit-app-main/dataset/Training\\\\glioma\\\\Tr-gl_0318.jpg',\n",
       " 'C:/Users/Shabiul/Downloads/multiple-disease-prediction-streamlit-app-main/dataset/Training\\\\glioma\\\\Tr-gl_0319.jpg',\n",
       " 'C:/Users/Shabiul/Downloads/multiple-disease-prediction-streamlit-app-main/dataset/Training\\\\glioma\\\\Tr-gl_0320.jpg',\n",
       " 'C:/Users/Shabiul/Downloads/multiple-disease-prediction-streamlit-app-main/dataset/Training\\\\glioma\\\\Tr-gl_0321.jpg',\n",
       " 'C:/Users/Shabiul/Downloads/multiple-disease-prediction-streamlit-app-main/dataset/Training\\\\glioma\\\\Tr-gl_0322.jpg',\n",
       " 'C:/Users/Shabiul/Downloads/multiple-disease-prediction-streamlit-app-main/dataset/Training\\\\glioma\\\\Tr-gl_0323.jpg',\n",
       " 'C:/Users/Shabiul/Downloads/multiple-disease-prediction-streamlit-app-main/dataset/Training\\\\glioma\\\\Tr-gl_0324.jpg',\n",
       " 'C:/Users/Shabiul/Downloads/multiple-disease-prediction-streamlit-app-main/dataset/Training\\\\glioma\\\\Tr-gl_0325.jpg',\n",
       " 'C:/Users/Shabiul/Downloads/multiple-disease-prediction-streamlit-app-main/dataset/Training\\\\glioma\\\\Tr-gl_0326.jpg',\n",
       " 'C:/Users/Shabiul/Downloads/multiple-disease-prediction-streamlit-app-main/dataset/Training\\\\glioma\\\\Tr-gl_0327.jpg',\n",
       " 'C:/Users/Shabiul/Downloads/multiple-disease-prediction-streamlit-app-main/dataset/Training\\\\glioma\\\\Tr-gl_0328.jpg',\n",
       " 'C:/Users/Shabiul/Downloads/multiple-disease-prediction-streamlit-app-main/dataset/Training\\\\glioma\\\\Tr-gl_0329.jpg',\n",
       " 'C:/Users/Shabiul/Downloads/multiple-disease-prediction-streamlit-app-main/dataset/Training\\\\glioma\\\\Tr-gl_0330.jpg',\n",
       " 'C:/Users/Shabiul/Downloads/multiple-disease-prediction-streamlit-app-main/dataset/Training\\\\glioma\\\\Tr-gl_0331.jpg',\n",
       " 'C:/Users/Shabiul/Downloads/multiple-disease-prediction-streamlit-app-main/dataset/Training\\\\glioma\\\\Tr-gl_0332.jpg',\n",
       " 'C:/Users/Shabiul/Downloads/multiple-disease-prediction-streamlit-app-main/dataset/Training\\\\glioma\\\\Tr-gl_0333.jpg',\n",
       " 'C:/Users/Shabiul/Downloads/multiple-disease-prediction-streamlit-app-main/dataset/Training\\\\glioma\\\\Tr-gl_0334.jpg',\n",
       " 'C:/Users/Shabiul/Downloads/multiple-disease-prediction-streamlit-app-main/dataset/Training\\\\glioma\\\\Tr-gl_0335.jpg',\n",
       " 'C:/Users/Shabiul/Downloads/multiple-disease-prediction-streamlit-app-main/dataset/Training\\\\glioma\\\\Tr-gl_0336.jpg',\n",
       " 'C:/Users/Shabiul/Downloads/multiple-disease-prediction-streamlit-app-main/dataset/Training\\\\glioma\\\\Tr-gl_0337.jpg',\n",
       " 'C:/Users/Shabiul/Downloads/multiple-disease-prediction-streamlit-app-main/dataset/Training\\\\glioma\\\\Tr-gl_0338.jpg',\n",
       " 'C:/Users/Shabiul/Downloads/multiple-disease-prediction-streamlit-app-main/dataset/Training\\\\glioma\\\\Tr-gl_0339.jpg',\n",
       " 'C:/Users/Shabiul/Downloads/multiple-disease-prediction-streamlit-app-main/dataset/Training\\\\glioma\\\\Tr-gl_0340.jpg',\n",
       " 'C:/Users/Shabiul/Downloads/multiple-disease-prediction-streamlit-app-main/dataset/Training\\\\glioma\\\\Tr-gl_0341.jpg',\n",
       " 'C:/Users/Shabiul/Downloads/multiple-disease-prediction-streamlit-app-main/dataset/Training\\\\glioma\\\\Tr-gl_0342.jpg',\n",
       " 'C:/Users/Shabiul/Downloads/multiple-disease-prediction-streamlit-app-main/dataset/Training\\\\glioma\\\\Tr-gl_0343.jpg',\n",
       " 'C:/Users/Shabiul/Downloads/multiple-disease-prediction-streamlit-app-main/dataset/Training\\\\glioma\\\\Tr-gl_0344.jpg',\n",
       " 'C:/Users/Shabiul/Downloads/multiple-disease-prediction-streamlit-app-main/dataset/Training\\\\glioma\\\\Tr-gl_0345.jpg',\n",
       " 'C:/Users/Shabiul/Downloads/multiple-disease-prediction-streamlit-app-main/dataset/Training\\\\glioma\\\\Tr-gl_0346.jpg',\n",
       " 'C:/Users/Shabiul/Downloads/multiple-disease-prediction-streamlit-app-main/dataset/Training\\\\glioma\\\\Tr-gl_0347.jpg',\n",
       " 'C:/Users/Shabiul/Downloads/multiple-disease-prediction-streamlit-app-main/dataset/Training\\\\glioma\\\\Tr-gl_0348.jpg',\n",
       " 'C:/Users/Shabiul/Downloads/multiple-disease-prediction-streamlit-app-main/dataset/Training\\\\glioma\\\\Tr-gl_0349.jpg',\n",
       " 'C:/Users/Shabiul/Downloads/multiple-disease-prediction-streamlit-app-main/dataset/Training\\\\glioma\\\\Tr-gl_0350.jpg',\n",
       " 'C:/Users/Shabiul/Downloads/multiple-disease-prediction-streamlit-app-main/dataset/Training\\\\glioma\\\\Tr-gl_0351.jpg',\n",
       " 'C:/Users/Shabiul/Downloads/multiple-disease-prediction-streamlit-app-main/dataset/Training\\\\glioma\\\\Tr-gl_0352.jpg',\n",
       " 'C:/Users/Shabiul/Downloads/multiple-disease-prediction-streamlit-app-main/dataset/Training\\\\glioma\\\\Tr-gl_0353.jpg',\n",
       " 'C:/Users/Shabiul/Downloads/multiple-disease-prediction-streamlit-app-main/dataset/Training\\\\glioma\\\\Tr-gl_0354.jpg',\n",
       " 'C:/Users/Shabiul/Downloads/multiple-disease-prediction-streamlit-app-main/dataset/Training\\\\glioma\\\\Tr-gl_0355.jpg',\n",
       " 'C:/Users/Shabiul/Downloads/multiple-disease-prediction-streamlit-app-main/dataset/Training\\\\glioma\\\\Tr-gl_0356.jpg',\n",
       " 'C:/Users/Shabiul/Downloads/multiple-disease-prediction-streamlit-app-main/dataset/Training\\\\glioma\\\\Tr-gl_0357.jpg',\n",
       " 'C:/Users/Shabiul/Downloads/multiple-disease-prediction-streamlit-app-main/dataset/Training\\\\glioma\\\\Tr-gl_0358.jpg',\n",
       " 'C:/Users/Shabiul/Downloads/multiple-disease-prediction-streamlit-app-main/dataset/Training\\\\glioma\\\\Tr-gl_0359.jpg',\n",
       " 'C:/Users/Shabiul/Downloads/multiple-disease-prediction-streamlit-app-main/dataset/Training\\\\glioma\\\\Tr-gl_0360.jpg',\n",
       " 'C:/Users/Shabiul/Downloads/multiple-disease-prediction-streamlit-app-main/dataset/Training\\\\glioma\\\\Tr-gl_0361.jpg',\n",
       " 'C:/Users/Shabiul/Downloads/multiple-disease-prediction-streamlit-app-main/dataset/Training\\\\glioma\\\\Tr-gl_0362.jpg',\n",
       " 'C:/Users/Shabiul/Downloads/multiple-disease-prediction-streamlit-app-main/dataset/Training\\\\glioma\\\\Tr-gl_0363.jpg',\n",
       " 'C:/Users/Shabiul/Downloads/multiple-disease-prediction-streamlit-app-main/dataset/Training\\\\glioma\\\\Tr-gl_0364.jpg',\n",
       " 'C:/Users/Shabiul/Downloads/multiple-disease-prediction-streamlit-app-main/dataset/Training\\\\glioma\\\\Tr-gl_0365.jpg',\n",
       " 'C:/Users/Shabiul/Downloads/multiple-disease-prediction-streamlit-app-main/dataset/Training\\\\glioma\\\\Tr-gl_0366.jpg',\n",
       " 'C:/Users/Shabiul/Downloads/multiple-disease-prediction-streamlit-app-main/dataset/Training\\\\glioma\\\\Tr-gl_0367.jpg',\n",
       " 'C:/Users/Shabiul/Downloads/multiple-disease-prediction-streamlit-app-main/dataset/Training\\\\glioma\\\\Tr-gl_0368.jpg',\n",
       " 'C:/Users/Shabiul/Downloads/multiple-disease-prediction-streamlit-app-main/dataset/Training\\\\glioma\\\\Tr-gl_0369.jpg',\n",
       " 'C:/Users/Shabiul/Downloads/multiple-disease-prediction-streamlit-app-main/dataset/Training\\\\glioma\\\\Tr-gl_0370.jpg',\n",
       " 'C:/Users/Shabiul/Downloads/multiple-disease-prediction-streamlit-app-main/dataset/Training\\\\glioma\\\\Tr-gl_0371.jpg',\n",
       " 'C:/Users/Shabiul/Downloads/multiple-disease-prediction-streamlit-app-main/dataset/Training\\\\glioma\\\\Tr-gl_0372.jpg',\n",
       " 'C:/Users/Shabiul/Downloads/multiple-disease-prediction-streamlit-app-main/dataset/Training\\\\glioma\\\\Tr-gl_0373.jpg',\n",
       " 'C:/Users/Shabiul/Downloads/multiple-disease-prediction-streamlit-app-main/dataset/Training\\\\glioma\\\\Tr-gl_0374.jpg',\n",
       " 'C:/Users/Shabiul/Downloads/multiple-disease-prediction-streamlit-app-main/dataset/Training\\\\glioma\\\\Tr-gl_0375.jpg',\n",
       " 'C:/Users/Shabiul/Downloads/multiple-disease-prediction-streamlit-app-main/dataset/Training\\\\glioma\\\\Tr-gl_0376.jpg',\n",
       " 'C:/Users/Shabiul/Downloads/multiple-disease-prediction-streamlit-app-main/dataset/Training\\\\glioma\\\\Tr-gl_0377.jpg',\n",
       " 'C:/Users/Shabiul/Downloads/multiple-disease-prediction-streamlit-app-main/dataset/Training\\\\glioma\\\\Tr-gl_0378.jpg',\n",
       " 'C:/Users/Shabiul/Downloads/multiple-disease-prediction-streamlit-app-main/dataset/Training\\\\glioma\\\\Tr-gl_0379.jpg',\n",
       " 'C:/Users/Shabiul/Downloads/multiple-disease-prediction-streamlit-app-main/dataset/Training\\\\glioma\\\\Tr-gl_0380.jpg',\n",
       " 'C:/Users/Shabiul/Downloads/multiple-disease-prediction-streamlit-app-main/dataset/Training\\\\glioma\\\\Tr-gl_0381.jpg',\n",
       " 'C:/Users/Shabiul/Downloads/multiple-disease-prediction-streamlit-app-main/dataset/Training\\\\glioma\\\\Tr-gl_0382.jpg',\n",
       " 'C:/Users/Shabiul/Downloads/multiple-disease-prediction-streamlit-app-main/dataset/Training\\\\glioma\\\\Tr-gl_0383.jpg',\n",
       " 'C:/Users/Shabiul/Downloads/multiple-disease-prediction-streamlit-app-main/dataset/Training\\\\glioma\\\\Tr-gl_0384.jpg',\n",
       " 'C:/Users/Shabiul/Downloads/multiple-disease-prediction-streamlit-app-main/dataset/Training\\\\glioma\\\\Tr-gl_0385.jpg',\n",
       " 'C:/Users/Shabiul/Downloads/multiple-disease-prediction-streamlit-app-main/dataset/Training\\\\glioma\\\\Tr-gl_0386.jpg',\n",
       " 'C:/Users/Shabiul/Downloads/multiple-disease-prediction-streamlit-app-main/dataset/Training\\\\glioma\\\\Tr-gl_0387.jpg',\n",
       " 'C:/Users/Shabiul/Downloads/multiple-disease-prediction-streamlit-app-main/dataset/Training\\\\glioma\\\\Tr-gl_0388.jpg',\n",
       " 'C:/Users/Shabiul/Downloads/multiple-disease-prediction-streamlit-app-main/dataset/Training\\\\glioma\\\\Tr-gl_0389.jpg',\n",
       " 'C:/Users/Shabiul/Downloads/multiple-disease-prediction-streamlit-app-main/dataset/Training\\\\glioma\\\\Tr-gl_0390.jpg',\n",
       " 'C:/Users/Shabiul/Downloads/multiple-disease-prediction-streamlit-app-main/dataset/Training\\\\glioma\\\\Tr-gl_0391.jpg',\n",
       " 'C:/Users/Shabiul/Downloads/multiple-disease-prediction-streamlit-app-main/dataset/Training\\\\glioma\\\\Tr-gl_0392.jpg',\n",
       " 'C:/Users/Shabiul/Downloads/multiple-disease-prediction-streamlit-app-main/dataset/Training\\\\glioma\\\\Tr-gl_0393.jpg',\n",
       " 'C:/Users/Shabiul/Downloads/multiple-disease-prediction-streamlit-app-main/dataset/Training\\\\glioma\\\\Tr-gl_0394.jpg',\n",
       " 'C:/Users/Shabiul/Downloads/multiple-disease-prediction-streamlit-app-main/dataset/Training\\\\glioma\\\\Tr-gl_0395.jpg',\n",
       " 'C:/Users/Shabiul/Downloads/multiple-disease-prediction-streamlit-app-main/dataset/Training\\\\glioma\\\\Tr-gl_0396.jpg',\n",
       " 'C:/Users/Shabiul/Downloads/multiple-disease-prediction-streamlit-app-main/dataset/Training\\\\glioma\\\\Tr-gl_0397.jpg',\n",
       " 'C:/Users/Shabiul/Downloads/multiple-disease-prediction-streamlit-app-main/dataset/Training\\\\glioma\\\\Tr-gl_0398.jpg',\n",
       " 'C:/Users/Shabiul/Downloads/multiple-disease-prediction-streamlit-app-main/dataset/Training\\\\glioma\\\\Tr-gl_0399.jpg',\n",
       " 'C:/Users/Shabiul/Downloads/multiple-disease-prediction-streamlit-app-main/dataset/Training\\\\glioma\\\\Tr-gl_0400.jpg',\n",
       " 'C:/Users/Shabiul/Downloads/multiple-disease-prediction-streamlit-app-main/dataset/Training\\\\glioma\\\\Tr-gl_0401.jpg',\n",
       " 'C:/Users/Shabiul/Downloads/multiple-disease-prediction-streamlit-app-main/dataset/Training\\\\glioma\\\\Tr-gl_0402.jpg',\n",
       " 'C:/Users/Shabiul/Downloads/multiple-disease-prediction-streamlit-app-main/dataset/Training\\\\glioma\\\\Tr-gl_0403.jpg',\n",
       " 'C:/Users/Shabiul/Downloads/multiple-disease-prediction-streamlit-app-main/dataset/Training\\\\glioma\\\\Tr-gl_0404.jpg',\n",
       " 'C:/Users/Shabiul/Downloads/multiple-disease-prediction-streamlit-app-main/dataset/Training\\\\glioma\\\\Tr-gl_0405.jpg',\n",
       " 'C:/Users/Shabiul/Downloads/multiple-disease-prediction-streamlit-app-main/dataset/Training\\\\glioma\\\\Tr-gl_0406.jpg',\n",
       " 'C:/Users/Shabiul/Downloads/multiple-disease-prediction-streamlit-app-main/dataset/Training\\\\glioma\\\\Tr-gl_0407.jpg',\n",
       " 'C:/Users/Shabiul/Downloads/multiple-disease-prediction-streamlit-app-main/dataset/Training\\\\glioma\\\\Tr-gl_0408.jpg',\n",
       " 'C:/Users/Shabiul/Downloads/multiple-disease-prediction-streamlit-app-main/dataset/Training\\\\glioma\\\\Tr-gl_0409.jpg',\n",
       " 'C:/Users/Shabiul/Downloads/multiple-disease-prediction-streamlit-app-main/dataset/Training\\\\glioma\\\\Tr-gl_0410.jpg',\n",
       " 'C:/Users/Shabiul/Downloads/multiple-disease-prediction-streamlit-app-main/dataset/Training\\\\glioma\\\\Tr-gl_0411.jpg',\n",
       " 'C:/Users/Shabiul/Downloads/multiple-disease-prediction-streamlit-app-main/dataset/Training\\\\glioma\\\\Tr-gl_0412.jpg',\n",
       " 'C:/Users/Shabiul/Downloads/multiple-disease-prediction-streamlit-app-main/dataset/Training\\\\glioma\\\\Tr-gl_0413.jpg',\n",
       " 'C:/Users/Shabiul/Downloads/multiple-disease-prediction-streamlit-app-main/dataset/Training\\\\glioma\\\\Tr-gl_0414.jpg',\n",
       " 'C:/Users/Shabiul/Downloads/multiple-disease-prediction-streamlit-app-main/dataset/Training\\\\glioma\\\\Tr-gl_0415.jpg',\n",
       " 'C:/Users/Shabiul/Downloads/multiple-disease-prediction-streamlit-app-main/dataset/Training\\\\glioma\\\\Tr-gl_0416.jpg',\n",
       " 'C:/Users/Shabiul/Downloads/multiple-disease-prediction-streamlit-app-main/dataset/Training\\\\glioma\\\\Tr-gl_0417.jpg',\n",
       " 'C:/Users/Shabiul/Downloads/multiple-disease-prediction-streamlit-app-main/dataset/Training\\\\glioma\\\\Tr-gl_0418.jpg',\n",
       " 'C:/Users/Shabiul/Downloads/multiple-disease-prediction-streamlit-app-main/dataset/Training\\\\glioma\\\\Tr-gl_0419.jpg',\n",
       " 'C:/Users/Shabiul/Downloads/multiple-disease-prediction-streamlit-app-main/dataset/Training\\\\glioma\\\\Tr-gl_0420.jpg',\n",
       " 'C:/Users/Shabiul/Downloads/multiple-disease-prediction-streamlit-app-main/dataset/Training\\\\glioma\\\\Tr-gl_0421.jpg',\n",
       " 'C:/Users/Shabiul/Downloads/multiple-disease-prediction-streamlit-app-main/dataset/Training\\\\glioma\\\\Tr-gl_0422.jpg',\n",
       " 'C:/Users/Shabiul/Downloads/multiple-disease-prediction-streamlit-app-main/dataset/Training\\\\glioma\\\\Tr-gl_0423.jpg',\n",
       " 'C:/Users/Shabiul/Downloads/multiple-disease-prediction-streamlit-app-main/dataset/Training\\\\glioma\\\\Tr-gl_0424.jpg',\n",
       " 'C:/Users/Shabiul/Downloads/multiple-disease-prediction-streamlit-app-main/dataset/Training\\\\glioma\\\\Tr-gl_0425.jpg',\n",
       " 'C:/Users/Shabiul/Downloads/multiple-disease-prediction-streamlit-app-main/dataset/Training\\\\glioma\\\\Tr-gl_0426.jpg',\n",
       " 'C:/Users/Shabiul/Downloads/multiple-disease-prediction-streamlit-app-main/dataset/Training\\\\glioma\\\\Tr-gl_0427.jpg',\n",
       " 'C:/Users/Shabiul/Downloads/multiple-disease-prediction-streamlit-app-main/dataset/Training\\\\glioma\\\\Tr-gl_0428.jpg',\n",
       " 'C:/Users/Shabiul/Downloads/multiple-disease-prediction-streamlit-app-main/dataset/Training\\\\glioma\\\\Tr-gl_0429.jpg',\n",
       " 'C:/Users/Shabiul/Downloads/multiple-disease-prediction-streamlit-app-main/dataset/Training\\\\glioma\\\\Tr-gl_0430.jpg',\n",
       " 'C:/Users/Shabiul/Downloads/multiple-disease-prediction-streamlit-app-main/dataset/Training\\\\glioma\\\\Tr-gl_0431.jpg',\n",
       " 'C:/Users/Shabiul/Downloads/multiple-disease-prediction-streamlit-app-main/dataset/Training\\\\glioma\\\\Tr-gl_0432.jpg',\n",
       " 'C:/Users/Shabiul/Downloads/multiple-disease-prediction-streamlit-app-main/dataset/Training\\\\glioma\\\\Tr-gl_0433.jpg',\n",
       " 'C:/Users/Shabiul/Downloads/multiple-disease-prediction-streamlit-app-main/dataset/Training\\\\glioma\\\\Tr-gl_0434.jpg',\n",
       " 'C:/Users/Shabiul/Downloads/multiple-disease-prediction-streamlit-app-main/dataset/Training\\\\glioma\\\\Tr-gl_0435.jpg',\n",
       " 'C:/Users/Shabiul/Downloads/multiple-disease-prediction-streamlit-app-main/dataset/Training\\\\glioma\\\\Tr-gl_0436.jpg',\n",
       " 'C:/Users/Shabiul/Downloads/multiple-disease-prediction-streamlit-app-main/dataset/Training\\\\glioma\\\\Tr-gl_0437.jpg',\n",
       " 'C:/Users/Shabiul/Downloads/multiple-disease-prediction-streamlit-app-main/dataset/Training\\\\glioma\\\\Tr-gl_0438.jpg',\n",
       " 'C:/Users/Shabiul/Downloads/multiple-disease-prediction-streamlit-app-main/dataset/Training\\\\glioma\\\\Tr-gl_0439.jpg',\n",
       " 'C:/Users/Shabiul/Downloads/multiple-disease-prediction-streamlit-app-main/dataset/Training\\\\glioma\\\\Tr-gl_0440.jpg',\n",
       " 'C:/Users/Shabiul/Downloads/multiple-disease-prediction-streamlit-app-main/dataset/Training\\\\glioma\\\\Tr-gl_0441.jpg',\n",
       " 'C:/Users/Shabiul/Downloads/multiple-disease-prediction-streamlit-app-main/dataset/Training\\\\glioma\\\\Tr-gl_0442.jpg',\n",
       " 'C:/Users/Shabiul/Downloads/multiple-disease-prediction-streamlit-app-main/dataset/Training\\\\glioma\\\\Tr-gl_0443.jpg',\n",
       " 'C:/Users/Shabiul/Downloads/multiple-disease-prediction-streamlit-app-main/dataset/Training\\\\glioma\\\\Tr-gl_0444.jpg',\n",
       " 'C:/Users/Shabiul/Downloads/multiple-disease-prediction-streamlit-app-main/dataset/Training\\\\glioma\\\\Tr-gl_0445.jpg',\n",
       " 'C:/Users/Shabiul/Downloads/multiple-disease-prediction-streamlit-app-main/dataset/Training\\\\glioma\\\\Tr-gl_0446.jpg',\n",
       " 'C:/Users/Shabiul/Downloads/multiple-disease-prediction-streamlit-app-main/dataset/Training\\\\glioma\\\\Tr-gl_0447.jpg',\n",
       " 'C:/Users/Shabiul/Downloads/multiple-disease-prediction-streamlit-app-main/dataset/Training\\\\glioma\\\\Tr-gl_0448.jpg',\n",
       " 'C:/Users/Shabiul/Downloads/multiple-disease-prediction-streamlit-app-main/dataset/Training\\\\glioma\\\\Tr-gl_0449.jpg',\n",
       " 'C:/Users/Shabiul/Downloads/multiple-disease-prediction-streamlit-app-main/dataset/Training\\\\glioma\\\\Tr-gl_0450.jpg',\n",
       " 'C:/Users/Shabiul/Downloads/multiple-disease-prediction-streamlit-app-main/dataset/Training\\\\glioma\\\\Tr-gl_0451.jpg',\n",
       " 'C:/Users/Shabiul/Downloads/multiple-disease-prediction-streamlit-app-main/dataset/Training\\\\glioma\\\\Tr-gl_0452.jpg',\n",
       " 'C:/Users/Shabiul/Downloads/multiple-disease-prediction-streamlit-app-main/dataset/Training\\\\glioma\\\\Tr-gl_0453.jpg',\n",
       " 'C:/Users/Shabiul/Downloads/multiple-disease-prediction-streamlit-app-main/dataset/Training\\\\glioma\\\\Tr-gl_0454.jpg',\n",
       " 'C:/Users/Shabiul/Downloads/multiple-disease-prediction-streamlit-app-main/dataset/Training\\\\glioma\\\\Tr-gl_0455.jpg',\n",
       " 'C:/Users/Shabiul/Downloads/multiple-disease-prediction-streamlit-app-main/dataset/Training\\\\glioma\\\\Tr-gl_0456.jpg',\n",
       " 'C:/Users/Shabiul/Downloads/multiple-disease-prediction-streamlit-app-main/dataset/Training\\\\glioma\\\\Tr-gl_0457.jpg',\n",
       " 'C:/Users/Shabiul/Downloads/multiple-disease-prediction-streamlit-app-main/dataset/Training\\\\glioma\\\\Tr-gl_0458.jpg',\n",
       " 'C:/Users/Shabiul/Downloads/multiple-disease-prediction-streamlit-app-main/dataset/Training\\\\glioma\\\\Tr-gl_0459.jpg',\n",
       " 'C:/Users/Shabiul/Downloads/multiple-disease-prediction-streamlit-app-main/dataset/Training\\\\glioma\\\\Tr-gl_0460.jpg',\n",
       " 'C:/Users/Shabiul/Downloads/multiple-disease-prediction-streamlit-app-main/dataset/Training\\\\glioma\\\\Tr-gl_0461.jpg',\n",
       " 'C:/Users/Shabiul/Downloads/multiple-disease-prediction-streamlit-app-main/dataset/Training\\\\glioma\\\\Tr-gl_0462.jpg',\n",
       " 'C:/Users/Shabiul/Downloads/multiple-disease-prediction-streamlit-app-main/dataset/Training\\\\glioma\\\\Tr-gl_0463.jpg',\n",
       " 'C:/Users/Shabiul/Downloads/multiple-disease-prediction-streamlit-app-main/dataset/Training\\\\glioma\\\\Tr-gl_0464.jpg',\n",
       " 'C:/Users/Shabiul/Downloads/multiple-disease-prediction-streamlit-app-main/dataset/Training\\\\glioma\\\\Tr-gl_0465.jpg',\n",
       " 'C:/Users/Shabiul/Downloads/multiple-disease-prediction-streamlit-app-main/dataset/Training\\\\glioma\\\\Tr-gl_0466.jpg',\n",
       " 'C:/Users/Shabiul/Downloads/multiple-disease-prediction-streamlit-app-main/dataset/Training\\\\glioma\\\\Tr-gl_0467.jpg',\n",
       " 'C:/Users/Shabiul/Downloads/multiple-disease-prediction-streamlit-app-main/dataset/Training\\\\glioma\\\\Tr-gl_0468.jpg',\n",
       " 'C:/Users/Shabiul/Downloads/multiple-disease-prediction-streamlit-app-main/dataset/Training\\\\glioma\\\\Tr-gl_0469.jpg',\n",
       " 'C:/Users/Shabiul/Downloads/multiple-disease-prediction-streamlit-app-main/dataset/Training\\\\glioma\\\\Tr-gl_0470.jpg',\n",
       " 'C:/Users/Shabiul/Downloads/multiple-disease-prediction-streamlit-app-main/dataset/Training\\\\glioma\\\\Tr-gl_0471.jpg',\n",
       " 'C:/Users/Shabiul/Downloads/multiple-disease-prediction-streamlit-app-main/dataset/Training\\\\glioma\\\\Tr-gl_0472.jpg',\n",
       " 'C:/Users/Shabiul/Downloads/multiple-disease-prediction-streamlit-app-main/dataset/Training\\\\glioma\\\\Tr-gl_0473.jpg',\n",
       " 'C:/Users/Shabiul/Downloads/multiple-disease-prediction-streamlit-app-main/dataset/Training\\\\glioma\\\\Tr-gl_0474.jpg',\n",
       " 'C:/Users/Shabiul/Downloads/multiple-disease-prediction-streamlit-app-main/dataset/Training\\\\glioma\\\\Tr-gl_0475.jpg',\n",
       " 'C:/Users/Shabiul/Downloads/multiple-disease-prediction-streamlit-app-main/dataset/Training\\\\glioma\\\\Tr-gl_0476.jpg',\n",
       " 'C:/Users/Shabiul/Downloads/multiple-disease-prediction-streamlit-app-main/dataset/Training\\\\glioma\\\\Tr-gl_0477.jpg',\n",
       " 'C:/Users/Shabiul/Downloads/multiple-disease-prediction-streamlit-app-main/dataset/Training\\\\glioma\\\\Tr-gl_0478.jpg',\n",
       " 'C:/Users/Shabiul/Downloads/multiple-disease-prediction-streamlit-app-main/dataset/Training\\\\glioma\\\\Tr-gl_0479.jpg',\n",
       " 'C:/Users/Shabiul/Downloads/multiple-disease-prediction-streamlit-app-main/dataset/Training\\\\glioma\\\\Tr-gl_0480.jpg',\n",
       " 'C:/Users/Shabiul/Downloads/multiple-disease-prediction-streamlit-app-main/dataset/Training\\\\glioma\\\\Tr-gl_0481.jpg',\n",
       " 'C:/Users/Shabiul/Downloads/multiple-disease-prediction-streamlit-app-main/dataset/Training\\\\glioma\\\\Tr-gl_0482.jpg',\n",
       " 'C:/Users/Shabiul/Downloads/multiple-disease-prediction-streamlit-app-main/dataset/Training\\\\glioma\\\\Tr-gl_0483.jpg',\n",
       " 'C:/Users/Shabiul/Downloads/multiple-disease-prediction-streamlit-app-main/dataset/Training\\\\glioma\\\\Tr-gl_0484.jpg',\n",
       " 'C:/Users/Shabiul/Downloads/multiple-disease-prediction-streamlit-app-main/dataset/Training\\\\glioma\\\\Tr-gl_0485.jpg',\n",
       " 'C:/Users/Shabiul/Downloads/multiple-disease-prediction-streamlit-app-main/dataset/Training\\\\glioma\\\\Tr-gl_0486.jpg',\n",
       " 'C:/Users/Shabiul/Downloads/multiple-disease-prediction-streamlit-app-main/dataset/Training\\\\glioma\\\\Tr-gl_0487.jpg',\n",
       " 'C:/Users/Shabiul/Downloads/multiple-disease-prediction-streamlit-app-main/dataset/Training\\\\glioma\\\\Tr-gl_0488.jpg',\n",
       " 'C:/Users/Shabiul/Downloads/multiple-disease-prediction-streamlit-app-main/dataset/Training\\\\glioma\\\\Tr-gl_0489.jpg',\n",
       " 'C:/Users/Shabiul/Downloads/multiple-disease-prediction-streamlit-app-main/dataset/Training\\\\glioma\\\\Tr-gl_0490.jpg',\n",
       " 'C:/Users/Shabiul/Downloads/multiple-disease-prediction-streamlit-app-main/dataset/Training\\\\glioma\\\\Tr-gl_0491.jpg',\n",
       " 'C:/Users/Shabiul/Downloads/multiple-disease-prediction-streamlit-app-main/dataset/Training\\\\glioma\\\\Tr-gl_0492.jpg',\n",
       " 'C:/Users/Shabiul/Downloads/multiple-disease-prediction-streamlit-app-main/dataset/Training\\\\glioma\\\\Tr-gl_0493.jpg',\n",
       " 'C:/Users/Shabiul/Downloads/multiple-disease-prediction-streamlit-app-main/dataset/Training\\\\glioma\\\\Tr-gl_0494.jpg',\n",
       " 'C:/Users/Shabiul/Downloads/multiple-disease-prediction-streamlit-app-main/dataset/Training\\\\glioma\\\\Tr-gl_0495.jpg',\n",
       " 'C:/Users/Shabiul/Downloads/multiple-disease-prediction-streamlit-app-main/dataset/Training\\\\glioma\\\\Tr-gl_0496.jpg',\n",
       " 'C:/Users/Shabiul/Downloads/multiple-disease-prediction-streamlit-app-main/dataset/Training\\\\glioma\\\\Tr-gl_0497.jpg',\n",
       " 'C:/Users/Shabiul/Downloads/multiple-disease-prediction-streamlit-app-main/dataset/Training\\\\glioma\\\\Tr-gl_0498.jpg',\n",
       " 'C:/Users/Shabiul/Downloads/multiple-disease-prediction-streamlit-app-main/dataset/Training\\\\glioma\\\\Tr-gl_0499.jpg',\n",
       " 'C:/Users/Shabiul/Downloads/multiple-disease-prediction-streamlit-app-main/dataset/Training\\\\glioma\\\\Tr-gl_0500.jpg',\n",
       " 'C:/Users/Shabiul/Downloads/multiple-disease-prediction-streamlit-app-main/dataset/Training\\\\glioma\\\\Tr-gl_0501.jpg',\n",
       " 'C:/Users/Shabiul/Downloads/multiple-disease-prediction-streamlit-app-main/dataset/Training\\\\glioma\\\\Tr-gl_0502.jpg',\n",
       " 'C:/Users/Shabiul/Downloads/multiple-disease-prediction-streamlit-app-main/dataset/Training\\\\glioma\\\\Tr-gl_0503.jpg',\n",
       " 'C:/Users/Shabiul/Downloads/multiple-disease-prediction-streamlit-app-main/dataset/Training\\\\glioma\\\\Tr-gl_0504.jpg',\n",
       " 'C:/Users/Shabiul/Downloads/multiple-disease-prediction-streamlit-app-main/dataset/Training\\\\glioma\\\\Tr-gl_0505.jpg',\n",
       " 'C:/Users/Shabiul/Downloads/multiple-disease-prediction-streamlit-app-main/dataset/Training\\\\glioma\\\\Tr-gl_0506.jpg',\n",
       " 'C:/Users/Shabiul/Downloads/multiple-disease-prediction-streamlit-app-main/dataset/Training\\\\glioma\\\\Tr-gl_0507.jpg',\n",
       " 'C:/Users/Shabiul/Downloads/multiple-disease-prediction-streamlit-app-main/dataset/Training\\\\glioma\\\\Tr-gl_0508.jpg',\n",
       " 'C:/Users/Shabiul/Downloads/multiple-disease-prediction-streamlit-app-main/dataset/Training\\\\glioma\\\\Tr-gl_0509.jpg',\n",
       " 'C:/Users/Shabiul/Downloads/multiple-disease-prediction-streamlit-app-main/dataset/Training\\\\glioma\\\\Tr-gl_0510.jpg',\n",
       " 'C:/Users/Shabiul/Downloads/multiple-disease-prediction-streamlit-app-main/dataset/Training\\\\glioma\\\\Tr-gl_0511.jpg',\n",
       " 'C:/Users/Shabiul/Downloads/multiple-disease-prediction-streamlit-app-main/dataset/Training\\\\glioma\\\\Tr-gl_0512.jpg',\n",
       " 'C:/Users/Shabiul/Downloads/multiple-disease-prediction-streamlit-app-main/dataset/Training\\\\glioma\\\\Tr-gl_0513.jpg',\n",
       " 'C:/Users/Shabiul/Downloads/multiple-disease-prediction-streamlit-app-main/dataset/Training\\\\glioma\\\\Tr-gl_0514.jpg',\n",
       " 'C:/Users/Shabiul/Downloads/multiple-disease-prediction-streamlit-app-main/dataset/Training\\\\glioma\\\\Tr-gl_0515.jpg',\n",
       " 'C:/Users/Shabiul/Downloads/multiple-disease-prediction-streamlit-app-main/dataset/Training\\\\glioma\\\\Tr-gl_0516.jpg',\n",
       " 'C:/Users/Shabiul/Downloads/multiple-disease-prediction-streamlit-app-main/dataset/Training\\\\glioma\\\\Tr-gl_0517.jpg',\n",
       " 'C:/Users/Shabiul/Downloads/multiple-disease-prediction-streamlit-app-main/dataset/Training\\\\glioma\\\\Tr-gl_0518.jpg',\n",
       " 'C:/Users/Shabiul/Downloads/multiple-disease-prediction-streamlit-app-main/dataset/Training\\\\glioma\\\\Tr-gl_0519.jpg',\n",
       " 'C:/Users/Shabiul/Downloads/multiple-disease-prediction-streamlit-app-main/dataset/Training\\\\glioma\\\\Tr-gl_0520.jpg',\n",
       " 'C:/Users/Shabiul/Downloads/multiple-disease-prediction-streamlit-app-main/dataset/Training\\\\glioma\\\\Tr-gl_0521.jpg',\n",
       " 'C:/Users/Shabiul/Downloads/multiple-disease-prediction-streamlit-app-main/dataset/Training\\\\glioma\\\\Tr-gl_0522.jpg',\n",
       " 'C:/Users/Shabiul/Downloads/multiple-disease-prediction-streamlit-app-main/dataset/Training\\\\glioma\\\\Tr-gl_0523.jpg',\n",
       " 'C:/Users/Shabiul/Downloads/multiple-disease-prediction-streamlit-app-main/dataset/Training\\\\glioma\\\\Tr-gl_0524.jpg',\n",
       " 'C:/Users/Shabiul/Downloads/multiple-disease-prediction-streamlit-app-main/dataset/Training\\\\glioma\\\\Tr-gl_0525.jpg',\n",
       " 'C:/Users/Shabiul/Downloads/multiple-disease-prediction-streamlit-app-main/dataset/Training\\\\glioma\\\\Tr-gl_0526.jpg',\n",
       " 'C:/Users/Shabiul/Downloads/multiple-disease-prediction-streamlit-app-main/dataset/Training\\\\glioma\\\\Tr-gl_0527.jpg',\n",
       " 'C:/Users/Shabiul/Downloads/multiple-disease-prediction-streamlit-app-main/dataset/Training\\\\glioma\\\\Tr-gl_0528.jpg',\n",
       " 'C:/Users/Shabiul/Downloads/multiple-disease-prediction-streamlit-app-main/dataset/Training\\\\glioma\\\\Tr-gl_0529.jpg',\n",
       " 'C:/Users/Shabiul/Downloads/multiple-disease-prediction-streamlit-app-main/dataset/Training\\\\glioma\\\\Tr-gl_0530.jpg',\n",
       " 'C:/Users/Shabiul/Downloads/multiple-disease-prediction-streamlit-app-main/dataset/Training\\\\glioma\\\\Tr-gl_0531.jpg',\n",
       " 'C:/Users/Shabiul/Downloads/multiple-disease-prediction-streamlit-app-main/dataset/Training\\\\glioma\\\\Tr-gl_0532.jpg',\n",
       " 'C:/Users/Shabiul/Downloads/multiple-disease-prediction-streamlit-app-main/dataset/Training\\\\glioma\\\\Tr-gl_0533.jpg',\n",
       " 'C:/Users/Shabiul/Downloads/multiple-disease-prediction-streamlit-app-main/dataset/Training\\\\glioma\\\\Tr-gl_0534.jpg',\n",
       " 'C:/Users/Shabiul/Downloads/multiple-disease-prediction-streamlit-app-main/dataset/Training\\\\glioma\\\\Tr-gl_0535.jpg',\n",
       " 'C:/Users/Shabiul/Downloads/multiple-disease-prediction-streamlit-app-main/dataset/Training\\\\glioma\\\\Tr-gl_0536.jpg',\n",
       " 'C:/Users/Shabiul/Downloads/multiple-disease-prediction-streamlit-app-main/dataset/Training\\\\glioma\\\\Tr-gl_0537.jpg',\n",
       " 'C:/Users/Shabiul/Downloads/multiple-disease-prediction-streamlit-app-main/dataset/Training\\\\glioma\\\\Tr-gl_0538.jpg',\n",
       " 'C:/Users/Shabiul/Downloads/multiple-disease-prediction-streamlit-app-main/dataset/Training\\\\glioma\\\\Tr-gl_0539.jpg',\n",
       " 'C:/Users/Shabiul/Downloads/multiple-disease-prediction-streamlit-app-main/dataset/Training\\\\glioma\\\\Tr-gl_0540.jpg',\n",
       " 'C:/Users/Shabiul/Downloads/multiple-disease-prediction-streamlit-app-main/dataset/Training\\\\glioma\\\\Tr-gl_0541.jpg',\n",
       " 'C:/Users/Shabiul/Downloads/multiple-disease-prediction-streamlit-app-main/dataset/Training\\\\glioma\\\\Tr-gl_0542.jpg',\n",
       " 'C:/Users/Shabiul/Downloads/multiple-disease-prediction-streamlit-app-main/dataset/Training\\\\glioma\\\\Tr-gl_0543.jpg',\n",
       " 'C:/Users/Shabiul/Downloads/multiple-disease-prediction-streamlit-app-main/dataset/Training\\\\glioma\\\\Tr-gl_0544.jpg',\n",
       " 'C:/Users/Shabiul/Downloads/multiple-disease-prediction-streamlit-app-main/dataset/Training\\\\glioma\\\\Tr-gl_0545.jpg',\n",
       " 'C:/Users/Shabiul/Downloads/multiple-disease-prediction-streamlit-app-main/dataset/Training\\\\glioma\\\\Tr-gl_0546.jpg',\n",
       " 'C:/Users/Shabiul/Downloads/multiple-disease-prediction-streamlit-app-main/dataset/Training\\\\glioma\\\\Tr-gl_0547.jpg',\n",
       " 'C:/Users/Shabiul/Downloads/multiple-disease-prediction-streamlit-app-main/dataset/Training\\\\glioma\\\\Tr-gl_0548.jpg',\n",
       " 'C:/Users/Shabiul/Downloads/multiple-disease-prediction-streamlit-app-main/dataset/Training\\\\glioma\\\\Tr-gl_0549.jpg',\n",
       " 'C:/Users/Shabiul/Downloads/multiple-disease-prediction-streamlit-app-main/dataset/Training\\\\glioma\\\\Tr-gl_0550.jpg',\n",
       " 'C:/Users/Shabiul/Downloads/multiple-disease-prediction-streamlit-app-main/dataset/Training\\\\glioma\\\\Tr-gl_0551.jpg',\n",
       " 'C:/Users/Shabiul/Downloads/multiple-disease-prediction-streamlit-app-main/dataset/Training\\\\glioma\\\\Tr-gl_0552.jpg',\n",
       " 'C:/Users/Shabiul/Downloads/multiple-disease-prediction-streamlit-app-main/dataset/Training\\\\glioma\\\\Tr-gl_0553.jpg',\n",
       " 'C:/Users/Shabiul/Downloads/multiple-disease-prediction-streamlit-app-main/dataset/Training\\\\glioma\\\\Tr-gl_0554.jpg',\n",
       " 'C:/Users/Shabiul/Downloads/multiple-disease-prediction-streamlit-app-main/dataset/Training\\\\glioma\\\\Tr-gl_0555.jpg',\n",
       " 'C:/Users/Shabiul/Downloads/multiple-disease-prediction-streamlit-app-main/dataset/Training\\\\glioma\\\\Tr-gl_0556.jpg',\n",
       " 'C:/Users/Shabiul/Downloads/multiple-disease-prediction-streamlit-app-main/dataset/Training\\\\glioma\\\\Tr-gl_0557.jpg',\n",
       " 'C:/Users/Shabiul/Downloads/multiple-disease-prediction-streamlit-app-main/dataset/Training\\\\glioma\\\\Tr-gl_0558.jpg',\n",
       " 'C:/Users/Shabiul/Downloads/multiple-disease-prediction-streamlit-app-main/dataset/Training\\\\glioma\\\\Tr-gl_0559.jpg',\n",
       " 'C:/Users/Shabiul/Downloads/multiple-disease-prediction-streamlit-app-main/dataset/Training\\\\glioma\\\\Tr-gl_0560.jpg',\n",
       " 'C:/Users/Shabiul/Downloads/multiple-disease-prediction-streamlit-app-main/dataset/Training\\\\glioma\\\\Tr-gl_0561.jpg',\n",
       " 'C:/Users/Shabiul/Downloads/multiple-disease-prediction-streamlit-app-main/dataset/Training\\\\glioma\\\\Tr-gl_0562.jpg',\n",
       " 'C:/Users/Shabiul/Downloads/multiple-disease-prediction-streamlit-app-main/dataset/Training\\\\glioma\\\\Tr-gl_0563.jpg',\n",
       " 'C:/Users/Shabiul/Downloads/multiple-disease-prediction-streamlit-app-main/dataset/Training\\\\glioma\\\\Tr-gl_0564.jpg',\n",
       " 'C:/Users/Shabiul/Downloads/multiple-disease-prediction-streamlit-app-main/dataset/Training\\\\glioma\\\\Tr-gl_0565.jpg',\n",
       " 'C:/Users/Shabiul/Downloads/multiple-disease-prediction-streamlit-app-main/dataset/Training\\\\glioma\\\\Tr-gl_0566.jpg',\n",
       " 'C:/Users/Shabiul/Downloads/multiple-disease-prediction-streamlit-app-main/dataset/Training\\\\glioma\\\\Tr-gl_0567.jpg',\n",
       " 'C:/Users/Shabiul/Downloads/multiple-disease-prediction-streamlit-app-main/dataset/Training\\\\glioma\\\\Tr-gl_0568.jpg',\n",
       " 'C:/Users/Shabiul/Downloads/multiple-disease-prediction-streamlit-app-main/dataset/Training\\\\glioma\\\\Tr-gl_0569.jpg',\n",
       " 'C:/Users/Shabiul/Downloads/multiple-disease-prediction-streamlit-app-main/dataset/Training\\\\glioma\\\\Tr-gl_0570.jpg',\n",
       " 'C:/Users/Shabiul/Downloads/multiple-disease-prediction-streamlit-app-main/dataset/Training\\\\glioma\\\\Tr-gl_0571.jpg',\n",
       " 'C:/Users/Shabiul/Downloads/multiple-disease-prediction-streamlit-app-main/dataset/Training\\\\glioma\\\\Tr-gl_0572.jpg',\n",
       " 'C:/Users/Shabiul/Downloads/multiple-disease-prediction-streamlit-app-main/dataset/Training\\\\glioma\\\\Tr-gl_0573.jpg',\n",
       " 'C:/Users/Shabiul/Downloads/multiple-disease-prediction-streamlit-app-main/dataset/Training\\\\glioma\\\\Tr-gl_0574.jpg',\n",
       " 'C:/Users/Shabiul/Downloads/multiple-disease-prediction-streamlit-app-main/dataset/Training\\\\glioma\\\\Tr-gl_0575.jpg',\n",
       " 'C:/Users/Shabiul/Downloads/multiple-disease-prediction-streamlit-app-main/dataset/Training\\\\glioma\\\\Tr-gl_0576.jpg',\n",
       " 'C:/Users/Shabiul/Downloads/multiple-disease-prediction-streamlit-app-main/dataset/Training\\\\glioma\\\\Tr-gl_0577.jpg',\n",
       " 'C:/Users/Shabiul/Downloads/multiple-disease-prediction-streamlit-app-main/dataset/Training\\\\glioma\\\\Tr-gl_0578.jpg',\n",
       " 'C:/Users/Shabiul/Downloads/multiple-disease-prediction-streamlit-app-main/dataset/Training\\\\glioma\\\\Tr-gl_0579.jpg',\n",
       " 'C:/Users/Shabiul/Downloads/multiple-disease-prediction-streamlit-app-main/dataset/Training\\\\glioma\\\\Tr-gl_0580.jpg',\n",
       " 'C:/Users/Shabiul/Downloads/multiple-disease-prediction-streamlit-app-main/dataset/Training\\\\glioma\\\\Tr-gl_0581.jpg',\n",
       " 'C:/Users/Shabiul/Downloads/multiple-disease-prediction-streamlit-app-main/dataset/Training\\\\glioma\\\\Tr-gl_0582.jpg',\n",
       " 'C:/Users/Shabiul/Downloads/multiple-disease-prediction-streamlit-app-main/dataset/Training\\\\glioma\\\\Tr-gl_0583.jpg',\n",
       " 'C:/Users/Shabiul/Downloads/multiple-disease-prediction-streamlit-app-main/dataset/Training\\\\glioma\\\\Tr-gl_0584.jpg',\n",
       " 'C:/Users/Shabiul/Downloads/multiple-disease-prediction-streamlit-app-main/dataset/Training\\\\glioma\\\\Tr-gl_0585.jpg',\n",
       " 'C:/Users/Shabiul/Downloads/multiple-disease-prediction-streamlit-app-main/dataset/Training\\\\glioma\\\\Tr-gl_0586.jpg',\n",
       " 'C:/Users/Shabiul/Downloads/multiple-disease-prediction-streamlit-app-main/dataset/Training\\\\glioma\\\\Tr-gl_0587.jpg',\n",
       " 'C:/Users/Shabiul/Downloads/multiple-disease-prediction-streamlit-app-main/dataset/Training\\\\glioma\\\\Tr-gl_0588.jpg',\n",
       " 'C:/Users/Shabiul/Downloads/multiple-disease-prediction-streamlit-app-main/dataset/Training\\\\glioma\\\\Tr-gl_0589.jpg',\n",
       " 'C:/Users/Shabiul/Downloads/multiple-disease-prediction-streamlit-app-main/dataset/Training\\\\glioma\\\\Tr-gl_0590.jpg',\n",
       " 'C:/Users/Shabiul/Downloads/multiple-disease-prediction-streamlit-app-main/dataset/Training\\\\glioma\\\\Tr-gl_0591.jpg',\n",
       " 'C:/Users/Shabiul/Downloads/multiple-disease-prediction-streamlit-app-main/dataset/Training\\\\glioma\\\\Tr-gl_0592.jpg',\n",
       " 'C:/Users/Shabiul/Downloads/multiple-disease-prediction-streamlit-app-main/dataset/Training\\\\glioma\\\\Tr-gl_0593.jpg',\n",
       " 'C:/Users/Shabiul/Downloads/multiple-disease-prediction-streamlit-app-main/dataset/Training\\\\glioma\\\\Tr-gl_0594.jpg',\n",
       " 'C:/Users/Shabiul/Downloads/multiple-disease-prediction-streamlit-app-main/dataset/Training\\\\glioma\\\\Tr-gl_0595.jpg',\n",
       " 'C:/Users/Shabiul/Downloads/multiple-disease-prediction-streamlit-app-main/dataset/Training\\\\glioma\\\\Tr-gl_0596.jpg',\n",
       " 'C:/Users/Shabiul/Downloads/multiple-disease-prediction-streamlit-app-main/dataset/Training\\\\glioma\\\\Tr-gl_0597.jpg',\n",
       " 'C:/Users/Shabiul/Downloads/multiple-disease-prediction-streamlit-app-main/dataset/Training\\\\glioma\\\\Tr-gl_0598.jpg',\n",
       " 'C:/Users/Shabiul/Downloads/multiple-disease-prediction-streamlit-app-main/dataset/Training\\\\glioma\\\\Tr-gl_0599.jpg',\n",
       " 'C:/Users/Shabiul/Downloads/multiple-disease-prediction-streamlit-app-main/dataset/Training\\\\glioma\\\\Tr-gl_0600.jpg',\n",
       " 'C:/Users/Shabiul/Downloads/multiple-disease-prediction-streamlit-app-main/dataset/Training\\\\glioma\\\\Tr-gl_0601.jpg',\n",
       " 'C:/Users/Shabiul/Downloads/multiple-disease-prediction-streamlit-app-main/dataset/Training\\\\glioma\\\\Tr-gl_0602.jpg',\n",
       " 'C:/Users/Shabiul/Downloads/multiple-disease-prediction-streamlit-app-main/dataset/Training\\\\glioma\\\\Tr-gl_0603.jpg',\n",
       " 'C:/Users/Shabiul/Downloads/multiple-disease-prediction-streamlit-app-main/dataset/Training\\\\glioma\\\\Tr-gl_0604.jpg',\n",
       " 'C:/Users/Shabiul/Downloads/multiple-disease-prediction-streamlit-app-main/dataset/Training\\\\glioma\\\\Tr-gl_0605.jpg',\n",
       " 'C:/Users/Shabiul/Downloads/multiple-disease-prediction-streamlit-app-main/dataset/Training\\\\glioma\\\\Tr-gl_0606.jpg',\n",
       " 'C:/Users/Shabiul/Downloads/multiple-disease-prediction-streamlit-app-main/dataset/Training\\\\glioma\\\\Tr-gl_0607.jpg',\n",
       " 'C:/Users/Shabiul/Downloads/multiple-disease-prediction-streamlit-app-main/dataset/Training\\\\glioma\\\\Tr-gl_0608.jpg',\n",
       " 'C:/Users/Shabiul/Downloads/multiple-disease-prediction-streamlit-app-main/dataset/Training\\\\glioma\\\\Tr-gl_0609.jpg',\n",
       " 'C:/Users/Shabiul/Downloads/multiple-disease-prediction-streamlit-app-main/dataset/Training\\\\glioma\\\\Tr-gl_0610.jpg',\n",
       " 'C:/Users/Shabiul/Downloads/multiple-disease-prediction-streamlit-app-main/dataset/Training\\\\glioma\\\\Tr-gl_0611.jpg',\n",
       " 'C:/Users/Shabiul/Downloads/multiple-disease-prediction-streamlit-app-main/dataset/Training\\\\glioma\\\\Tr-gl_0612.jpg',\n",
       " 'C:/Users/Shabiul/Downloads/multiple-disease-prediction-streamlit-app-main/dataset/Training\\\\glioma\\\\Tr-gl_0613.jpg',\n",
       " 'C:/Users/Shabiul/Downloads/multiple-disease-prediction-streamlit-app-main/dataset/Training\\\\glioma\\\\Tr-gl_0614.jpg',\n",
       " 'C:/Users/Shabiul/Downloads/multiple-disease-prediction-streamlit-app-main/dataset/Training\\\\glioma\\\\Tr-gl_0615.jpg',\n",
       " 'C:/Users/Shabiul/Downloads/multiple-disease-prediction-streamlit-app-main/dataset/Training\\\\glioma\\\\Tr-gl_0616.jpg',\n",
       " 'C:/Users/Shabiul/Downloads/multiple-disease-prediction-streamlit-app-main/dataset/Training\\\\glioma\\\\Tr-gl_0617.jpg',\n",
       " 'C:/Users/Shabiul/Downloads/multiple-disease-prediction-streamlit-app-main/dataset/Training\\\\glioma\\\\Tr-gl_0618.jpg',\n",
       " 'C:/Users/Shabiul/Downloads/multiple-disease-prediction-streamlit-app-main/dataset/Training\\\\glioma\\\\Tr-gl_0619.jpg',\n",
       " 'C:/Users/Shabiul/Downloads/multiple-disease-prediction-streamlit-app-main/dataset/Training\\\\glioma\\\\Tr-gl_0620.jpg',\n",
       " 'C:/Users/Shabiul/Downloads/multiple-disease-prediction-streamlit-app-main/dataset/Training\\\\glioma\\\\Tr-gl_0621.jpg',\n",
       " 'C:/Users/Shabiul/Downloads/multiple-disease-prediction-streamlit-app-main/dataset/Training\\\\glioma\\\\Tr-gl_0622.jpg',\n",
       " 'C:/Users/Shabiul/Downloads/multiple-disease-prediction-streamlit-app-main/dataset/Training\\\\glioma\\\\Tr-gl_0623.jpg',\n",
       " 'C:/Users/Shabiul/Downloads/multiple-disease-prediction-streamlit-app-main/dataset/Training\\\\glioma\\\\Tr-gl_0624.jpg',\n",
       " 'C:/Users/Shabiul/Downloads/multiple-disease-prediction-streamlit-app-main/dataset/Training\\\\glioma\\\\Tr-gl_0625.jpg',\n",
       " 'C:/Users/Shabiul/Downloads/multiple-disease-prediction-streamlit-app-main/dataset/Training\\\\glioma\\\\Tr-gl_0626.jpg',\n",
       " 'C:/Users/Shabiul/Downloads/multiple-disease-prediction-streamlit-app-main/dataset/Training\\\\glioma\\\\Tr-gl_0627.jpg',\n",
       " 'C:/Users/Shabiul/Downloads/multiple-disease-prediction-streamlit-app-main/dataset/Training\\\\glioma\\\\Tr-gl_0628.jpg',\n",
       " 'C:/Users/Shabiul/Downloads/multiple-disease-prediction-streamlit-app-main/dataset/Training\\\\glioma\\\\Tr-gl_0629.jpg',\n",
       " 'C:/Users/Shabiul/Downloads/multiple-disease-prediction-streamlit-app-main/dataset/Training\\\\glioma\\\\Tr-gl_0630.jpg',\n",
       " 'C:/Users/Shabiul/Downloads/multiple-disease-prediction-streamlit-app-main/dataset/Training\\\\glioma\\\\Tr-gl_0631.jpg',\n",
       " 'C:/Users/Shabiul/Downloads/multiple-disease-prediction-streamlit-app-main/dataset/Training\\\\glioma\\\\Tr-gl_0632.jpg',\n",
       " 'C:/Users/Shabiul/Downloads/multiple-disease-prediction-streamlit-app-main/dataset/Training\\\\glioma\\\\Tr-gl_0633.jpg',\n",
       " 'C:/Users/Shabiul/Downloads/multiple-disease-prediction-streamlit-app-main/dataset/Training\\\\glioma\\\\Tr-gl_0634.jpg',\n",
       " 'C:/Users/Shabiul/Downloads/multiple-disease-prediction-streamlit-app-main/dataset/Training\\\\glioma\\\\Tr-gl_0635.jpg',\n",
       " 'C:/Users/Shabiul/Downloads/multiple-disease-prediction-streamlit-app-main/dataset/Training\\\\glioma\\\\Tr-gl_0636.jpg',\n",
       " 'C:/Users/Shabiul/Downloads/multiple-disease-prediction-streamlit-app-main/dataset/Training\\\\glioma\\\\Tr-gl_0637.jpg',\n",
       " 'C:/Users/Shabiul/Downloads/multiple-disease-prediction-streamlit-app-main/dataset/Training\\\\glioma\\\\Tr-gl_0638.jpg',\n",
       " 'C:/Users/Shabiul/Downloads/multiple-disease-prediction-streamlit-app-main/dataset/Training\\\\glioma\\\\Tr-gl_0639.jpg',\n",
       " 'C:/Users/Shabiul/Downloads/multiple-disease-prediction-streamlit-app-main/dataset/Training\\\\glioma\\\\Tr-gl_0640.jpg',\n",
       " 'C:/Users/Shabiul/Downloads/multiple-disease-prediction-streamlit-app-main/dataset/Training\\\\glioma\\\\Tr-gl_0641.jpg',\n",
       " 'C:/Users/Shabiul/Downloads/multiple-disease-prediction-streamlit-app-main/dataset/Training\\\\glioma\\\\Tr-gl_0642.jpg',\n",
       " 'C:/Users/Shabiul/Downloads/multiple-disease-prediction-streamlit-app-main/dataset/Training\\\\glioma\\\\Tr-gl_0643.jpg',\n",
       " 'C:/Users/Shabiul/Downloads/multiple-disease-prediction-streamlit-app-main/dataset/Training\\\\glioma\\\\Tr-gl_0644.jpg',\n",
       " 'C:/Users/Shabiul/Downloads/multiple-disease-prediction-streamlit-app-main/dataset/Training\\\\glioma\\\\Tr-gl_0645.jpg',\n",
       " 'C:/Users/Shabiul/Downloads/multiple-disease-prediction-streamlit-app-main/dataset/Training\\\\glioma\\\\Tr-gl_0646.jpg',\n",
       " 'C:/Users/Shabiul/Downloads/multiple-disease-prediction-streamlit-app-main/dataset/Training\\\\glioma\\\\Tr-gl_0647.jpg',\n",
       " 'C:/Users/Shabiul/Downloads/multiple-disease-prediction-streamlit-app-main/dataset/Training\\\\glioma\\\\Tr-gl_0648.jpg',\n",
       " 'C:/Users/Shabiul/Downloads/multiple-disease-prediction-streamlit-app-main/dataset/Training\\\\glioma\\\\Tr-gl_0649.jpg',\n",
       " 'C:/Users/Shabiul/Downloads/multiple-disease-prediction-streamlit-app-main/dataset/Training\\\\glioma\\\\Tr-gl_0650.jpg',\n",
       " 'C:/Users/Shabiul/Downloads/multiple-disease-prediction-streamlit-app-main/dataset/Training\\\\glioma\\\\Tr-gl_0651.jpg',\n",
       " 'C:/Users/Shabiul/Downloads/multiple-disease-prediction-streamlit-app-main/dataset/Training\\\\glioma\\\\Tr-gl_0652.jpg',\n",
       " 'C:/Users/Shabiul/Downloads/multiple-disease-prediction-streamlit-app-main/dataset/Training\\\\glioma\\\\Tr-gl_0653.jpg',\n",
       " 'C:/Users/Shabiul/Downloads/multiple-disease-prediction-streamlit-app-main/dataset/Training\\\\glioma\\\\Tr-gl_0654.jpg',\n",
       " 'C:/Users/Shabiul/Downloads/multiple-disease-prediction-streamlit-app-main/dataset/Training\\\\glioma\\\\Tr-gl_0655.jpg',\n",
       " 'C:/Users/Shabiul/Downloads/multiple-disease-prediction-streamlit-app-main/dataset/Training\\\\glioma\\\\Tr-gl_0656.jpg',\n",
       " 'C:/Users/Shabiul/Downloads/multiple-disease-prediction-streamlit-app-main/dataset/Training\\\\glioma\\\\Tr-gl_0657.jpg',\n",
       " 'C:/Users/Shabiul/Downloads/multiple-disease-prediction-streamlit-app-main/dataset/Training\\\\glioma\\\\Tr-gl_0658.jpg',\n",
       " 'C:/Users/Shabiul/Downloads/multiple-disease-prediction-streamlit-app-main/dataset/Training\\\\glioma\\\\Tr-gl_0659.jpg',\n",
       " 'C:/Users/Shabiul/Downloads/multiple-disease-prediction-streamlit-app-main/dataset/Training\\\\glioma\\\\Tr-gl_0660.jpg',\n",
       " 'C:/Users/Shabiul/Downloads/multiple-disease-prediction-streamlit-app-main/dataset/Training\\\\glioma\\\\Tr-gl_0661.jpg',\n",
       " 'C:/Users/Shabiul/Downloads/multiple-disease-prediction-streamlit-app-main/dataset/Training\\\\glioma\\\\Tr-gl_0662.jpg',\n",
       " 'C:/Users/Shabiul/Downloads/multiple-disease-prediction-streamlit-app-main/dataset/Training\\\\glioma\\\\Tr-gl_0663.jpg',\n",
       " 'C:/Users/Shabiul/Downloads/multiple-disease-prediction-streamlit-app-main/dataset/Training\\\\glioma\\\\Tr-gl_0664.jpg',\n",
       " 'C:/Users/Shabiul/Downloads/multiple-disease-prediction-streamlit-app-main/dataset/Training\\\\glioma\\\\Tr-gl_0665.jpg',\n",
       " 'C:/Users/Shabiul/Downloads/multiple-disease-prediction-streamlit-app-main/dataset/Training\\\\glioma\\\\Tr-gl_0666.jpg',\n",
       " 'C:/Users/Shabiul/Downloads/multiple-disease-prediction-streamlit-app-main/dataset/Training\\\\glioma\\\\Tr-gl_0667.jpg',\n",
       " 'C:/Users/Shabiul/Downloads/multiple-disease-prediction-streamlit-app-main/dataset/Training\\\\glioma\\\\Tr-gl_0668.jpg',\n",
       " 'C:/Users/Shabiul/Downloads/multiple-disease-prediction-streamlit-app-main/dataset/Training\\\\glioma\\\\Tr-gl_0669.jpg',\n",
       " 'C:/Users/Shabiul/Downloads/multiple-disease-prediction-streamlit-app-main/dataset/Training\\\\glioma\\\\Tr-gl_0670.jpg',\n",
       " 'C:/Users/Shabiul/Downloads/multiple-disease-prediction-streamlit-app-main/dataset/Training\\\\glioma\\\\Tr-gl_0671.jpg',\n",
       " 'C:/Users/Shabiul/Downloads/multiple-disease-prediction-streamlit-app-main/dataset/Training\\\\glioma\\\\Tr-gl_0672.jpg',\n",
       " 'C:/Users/Shabiul/Downloads/multiple-disease-prediction-streamlit-app-main/dataset/Training\\\\glioma\\\\Tr-gl_0673.jpg',\n",
       " 'C:/Users/Shabiul/Downloads/multiple-disease-prediction-streamlit-app-main/dataset/Training\\\\glioma\\\\Tr-gl_0674.jpg',\n",
       " 'C:/Users/Shabiul/Downloads/multiple-disease-prediction-streamlit-app-main/dataset/Training\\\\glioma\\\\Tr-gl_0675.jpg',\n",
       " 'C:/Users/Shabiul/Downloads/multiple-disease-prediction-streamlit-app-main/dataset/Training\\\\glioma\\\\Tr-gl_0676.jpg',\n",
       " 'C:/Users/Shabiul/Downloads/multiple-disease-prediction-streamlit-app-main/dataset/Training\\\\glioma\\\\Tr-gl_0677.jpg',\n",
       " 'C:/Users/Shabiul/Downloads/multiple-disease-prediction-streamlit-app-main/dataset/Training\\\\glioma\\\\Tr-gl_0678.jpg',\n",
       " 'C:/Users/Shabiul/Downloads/multiple-disease-prediction-streamlit-app-main/dataset/Training\\\\glioma\\\\Tr-gl_0679.jpg',\n",
       " 'C:/Users/Shabiul/Downloads/multiple-disease-prediction-streamlit-app-main/dataset/Training\\\\glioma\\\\Tr-gl_0680.jpg',\n",
       " 'C:/Users/Shabiul/Downloads/multiple-disease-prediction-streamlit-app-main/dataset/Training\\\\glioma\\\\Tr-gl_0681.jpg',\n",
       " 'C:/Users/Shabiul/Downloads/multiple-disease-prediction-streamlit-app-main/dataset/Training\\\\glioma\\\\Tr-gl_0682.jpg',\n",
       " 'C:/Users/Shabiul/Downloads/multiple-disease-prediction-streamlit-app-main/dataset/Training\\\\glioma\\\\Tr-gl_0683.jpg',\n",
       " 'C:/Users/Shabiul/Downloads/multiple-disease-prediction-streamlit-app-main/dataset/Training\\\\glioma\\\\Tr-gl_0684.jpg',\n",
       " 'C:/Users/Shabiul/Downloads/multiple-disease-prediction-streamlit-app-main/dataset/Training\\\\glioma\\\\Tr-gl_0685.jpg',\n",
       " 'C:/Users/Shabiul/Downloads/multiple-disease-prediction-streamlit-app-main/dataset/Training\\\\glioma\\\\Tr-gl_0686.jpg',\n",
       " 'C:/Users/Shabiul/Downloads/multiple-disease-prediction-streamlit-app-main/dataset/Training\\\\glioma\\\\Tr-gl_0687.jpg',\n",
       " 'C:/Users/Shabiul/Downloads/multiple-disease-prediction-streamlit-app-main/dataset/Training\\\\glioma\\\\Tr-gl_0688.jpg',\n",
       " 'C:/Users/Shabiul/Downloads/multiple-disease-prediction-streamlit-app-main/dataset/Training\\\\glioma\\\\Tr-gl_0689.jpg',\n",
       " 'C:/Users/Shabiul/Downloads/multiple-disease-prediction-streamlit-app-main/dataset/Training\\\\glioma\\\\Tr-gl_0690.jpg',\n",
       " 'C:/Users/Shabiul/Downloads/multiple-disease-prediction-streamlit-app-main/dataset/Training\\\\glioma\\\\Tr-gl_0691.jpg',\n",
       " 'C:/Users/Shabiul/Downloads/multiple-disease-prediction-streamlit-app-main/dataset/Training\\\\glioma\\\\Tr-gl_0692.jpg',\n",
       " 'C:/Users/Shabiul/Downloads/multiple-disease-prediction-streamlit-app-main/dataset/Training\\\\glioma\\\\Tr-gl_0693.jpg',\n",
       " 'C:/Users/Shabiul/Downloads/multiple-disease-prediction-streamlit-app-main/dataset/Training\\\\glioma\\\\Tr-gl_0694.jpg',\n",
       " 'C:/Users/Shabiul/Downloads/multiple-disease-prediction-streamlit-app-main/dataset/Training\\\\glioma\\\\Tr-gl_0695.jpg',\n",
       " 'C:/Users/Shabiul/Downloads/multiple-disease-prediction-streamlit-app-main/dataset/Training\\\\glioma\\\\Tr-gl_0696.jpg',\n",
       " 'C:/Users/Shabiul/Downloads/multiple-disease-prediction-streamlit-app-main/dataset/Training\\\\glioma\\\\Tr-gl_0697.jpg',\n",
       " 'C:/Users/Shabiul/Downloads/multiple-disease-prediction-streamlit-app-main/dataset/Training\\\\glioma\\\\Tr-gl_0698.jpg',\n",
       " 'C:/Users/Shabiul/Downloads/multiple-disease-prediction-streamlit-app-main/dataset/Training\\\\glioma\\\\Tr-gl_0699.jpg',\n",
       " 'C:/Users/Shabiul/Downloads/multiple-disease-prediction-streamlit-app-main/dataset/Training\\\\glioma\\\\Tr-gl_0700.jpg',\n",
       " 'C:/Users/Shabiul/Downloads/multiple-disease-prediction-streamlit-app-main/dataset/Training\\\\glioma\\\\Tr-gl_0701.jpg',\n",
       " 'C:/Users/Shabiul/Downloads/multiple-disease-prediction-streamlit-app-main/dataset/Training\\\\glioma\\\\Tr-gl_0702.jpg',\n",
       " 'C:/Users/Shabiul/Downloads/multiple-disease-prediction-streamlit-app-main/dataset/Training\\\\glioma\\\\Tr-gl_0703.jpg',\n",
       " 'C:/Users/Shabiul/Downloads/multiple-disease-prediction-streamlit-app-main/dataset/Training\\\\glioma\\\\Tr-gl_0704.jpg',\n",
       " 'C:/Users/Shabiul/Downloads/multiple-disease-prediction-streamlit-app-main/dataset/Training\\\\glioma\\\\Tr-gl_0705.jpg',\n",
       " 'C:/Users/Shabiul/Downloads/multiple-disease-prediction-streamlit-app-main/dataset/Training\\\\glioma\\\\Tr-gl_0706.jpg',\n",
       " 'C:/Users/Shabiul/Downloads/multiple-disease-prediction-streamlit-app-main/dataset/Training\\\\glioma\\\\Tr-gl_0707.jpg',\n",
       " 'C:/Users/Shabiul/Downloads/multiple-disease-prediction-streamlit-app-main/dataset/Training\\\\glioma\\\\Tr-gl_0708.jpg',\n",
       " 'C:/Users/Shabiul/Downloads/multiple-disease-prediction-streamlit-app-main/dataset/Training\\\\glioma\\\\Tr-gl_0709.jpg',\n",
       " 'C:/Users/Shabiul/Downloads/multiple-disease-prediction-streamlit-app-main/dataset/Training\\\\glioma\\\\Tr-gl_0710.jpg',\n",
       " 'C:/Users/Shabiul/Downloads/multiple-disease-prediction-streamlit-app-main/dataset/Training\\\\glioma\\\\Tr-gl_0711.jpg',\n",
       " 'C:/Users/Shabiul/Downloads/multiple-disease-prediction-streamlit-app-main/dataset/Training\\\\glioma\\\\Tr-gl_0712.jpg',\n",
       " 'C:/Users/Shabiul/Downloads/multiple-disease-prediction-streamlit-app-main/dataset/Training\\\\glioma\\\\Tr-gl_0713.jpg',\n",
       " 'C:/Users/Shabiul/Downloads/multiple-disease-prediction-streamlit-app-main/dataset/Training\\\\glioma\\\\Tr-gl_0714.jpg',\n",
       " 'C:/Users/Shabiul/Downloads/multiple-disease-prediction-streamlit-app-main/dataset/Training\\\\glioma\\\\Tr-gl_0715.jpg',\n",
       " 'C:/Users/Shabiul/Downloads/multiple-disease-prediction-streamlit-app-main/dataset/Training\\\\glioma\\\\Tr-gl_0716.jpg',\n",
       " 'C:/Users/Shabiul/Downloads/multiple-disease-prediction-streamlit-app-main/dataset/Training\\\\glioma\\\\Tr-gl_0717.jpg',\n",
       " 'C:/Users/Shabiul/Downloads/multiple-disease-prediction-streamlit-app-main/dataset/Training\\\\glioma\\\\Tr-gl_0718.jpg',\n",
       " 'C:/Users/Shabiul/Downloads/multiple-disease-prediction-streamlit-app-main/dataset/Training\\\\glioma\\\\Tr-gl_0719.jpg',\n",
       " 'C:/Users/Shabiul/Downloads/multiple-disease-prediction-streamlit-app-main/dataset/Training\\\\glioma\\\\Tr-gl_0720.jpg',\n",
       " 'C:/Users/Shabiul/Downloads/multiple-disease-prediction-streamlit-app-main/dataset/Training\\\\glioma\\\\Tr-gl_0721.jpg',\n",
       " 'C:/Users/Shabiul/Downloads/multiple-disease-prediction-streamlit-app-main/dataset/Training\\\\glioma\\\\Tr-gl_0722.jpg',\n",
       " 'C:/Users/Shabiul/Downloads/multiple-disease-prediction-streamlit-app-main/dataset/Training\\\\glioma\\\\Tr-gl_0723.jpg',\n",
       " 'C:/Users/Shabiul/Downloads/multiple-disease-prediction-streamlit-app-main/dataset/Training\\\\glioma\\\\Tr-gl_0724.jpg',\n",
       " 'C:/Users/Shabiul/Downloads/multiple-disease-prediction-streamlit-app-main/dataset/Training\\\\glioma\\\\Tr-gl_0725.jpg',\n",
       " 'C:/Users/Shabiul/Downloads/multiple-disease-prediction-streamlit-app-main/dataset/Training\\\\glioma\\\\Tr-gl_0726.jpg',\n",
       " 'C:/Users/Shabiul/Downloads/multiple-disease-prediction-streamlit-app-main/dataset/Training\\\\glioma\\\\Tr-gl_0727.jpg',\n",
       " 'C:/Users/Shabiul/Downloads/multiple-disease-prediction-streamlit-app-main/dataset/Training\\\\glioma\\\\Tr-gl_0728.jpg',\n",
       " 'C:/Users/Shabiul/Downloads/multiple-disease-prediction-streamlit-app-main/dataset/Training\\\\glioma\\\\Tr-gl_0729.jpg',\n",
       " 'C:/Users/Shabiul/Downloads/multiple-disease-prediction-streamlit-app-main/dataset/Training\\\\glioma\\\\Tr-gl_0730.jpg',\n",
       " 'C:/Users/Shabiul/Downloads/multiple-disease-prediction-streamlit-app-main/dataset/Training\\\\glioma\\\\Tr-gl_0731.jpg',\n",
       " 'C:/Users/Shabiul/Downloads/multiple-disease-prediction-streamlit-app-main/dataset/Training\\\\glioma\\\\Tr-gl_0732.jpg',\n",
       " 'C:/Users/Shabiul/Downloads/multiple-disease-prediction-streamlit-app-main/dataset/Training\\\\glioma\\\\Tr-gl_0733.jpg',\n",
       " 'C:/Users/Shabiul/Downloads/multiple-disease-prediction-streamlit-app-main/dataset/Training\\\\glioma\\\\Tr-gl_0734.jpg',\n",
       " 'C:/Users/Shabiul/Downloads/multiple-disease-prediction-streamlit-app-main/dataset/Training\\\\glioma\\\\Tr-gl_0735.jpg',\n",
       " 'C:/Users/Shabiul/Downloads/multiple-disease-prediction-streamlit-app-main/dataset/Training\\\\glioma\\\\Tr-gl_0736.jpg',\n",
       " 'C:/Users/Shabiul/Downloads/multiple-disease-prediction-streamlit-app-main/dataset/Training\\\\glioma\\\\Tr-gl_0737.jpg',\n",
       " 'C:/Users/Shabiul/Downloads/multiple-disease-prediction-streamlit-app-main/dataset/Training\\\\glioma\\\\Tr-gl_0738.jpg',\n",
       " 'C:/Users/Shabiul/Downloads/multiple-disease-prediction-streamlit-app-main/dataset/Training\\\\glioma\\\\Tr-gl_0739.jpg',\n",
       " 'C:/Users/Shabiul/Downloads/multiple-disease-prediction-streamlit-app-main/dataset/Training\\\\glioma\\\\Tr-gl_0740.jpg',\n",
       " 'C:/Users/Shabiul/Downloads/multiple-disease-prediction-streamlit-app-main/dataset/Training\\\\glioma\\\\Tr-gl_0741.jpg',\n",
       " 'C:/Users/Shabiul/Downloads/multiple-disease-prediction-streamlit-app-main/dataset/Training\\\\glioma\\\\Tr-gl_0742.jpg',\n",
       " 'C:/Users/Shabiul/Downloads/multiple-disease-prediction-streamlit-app-main/dataset/Training\\\\glioma\\\\Tr-gl_0743.jpg',\n",
       " 'C:/Users/Shabiul/Downloads/multiple-disease-prediction-streamlit-app-main/dataset/Training\\\\glioma\\\\Tr-gl_0744.jpg',\n",
       " 'C:/Users/Shabiul/Downloads/multiple-disease-prediction-streamlit-app-main/dataset/Training\\\\glioma\\\\Tr-gl_0745.jpg',\n",
       " 'C:/Users/Shabiul/Downloads/multiple-disease-prediction-streamlit-app-main/dataset/Training\\\\glioma\\\\Tr-gl_0746.jpg',\n",
       " 'C:/Users/Shabiul/Downloads/multiple-disease-prediction-streamlit-app-main/dataset/Training\\\\glioma\\\\Tr-gl_0747.jpg',\n",
       " 'C:/Users/Shabiul/Downloads/multiple-disease-prediction-streamlit-app-main/dataset/Training\\\\glioma\\\\Tr-gl_0748.jpg',\n",
       " 'C:/Users/Shabiul/Downloads/multiple-disease-prediction-streamlit-app-main/dataset/Training\\\\glioma\\\\Tr-gl_0749.jpg',\n",
       " 'C:/Users/Shabiul/Downloads/multiple-disease-prediction-streamlit-app-main/dataset/Training\\\\glioma\\\\Tr-gl_0750.jpg',\n",
       " 'C:/Users/Shabiul/Downloads/multiple-disease-prediction-streamlit-app-main/dataset/Training\\\\glioma\\\\Tr-gl_0751.jpg',\n",
       " 'C:/Users/Shabiul/Downloads/multiple-disease-prediction-streamlit-app-main/dataset/Training\\\\glioma\\\\Tr-gl_0752.jpg',\n",
       " 'C:/Users/Shabiul/Downloads/multiple-disease-prediction-streamlit-app-main/dataset/Training\\\\glioma\\\\Tr-gl_0753.jpg',\n",
       " 'C:/Users/Shabiul/Downloads/multiple-disease-prediction-streamlit-app-main/dataset/Training\\\\glioma\\\\Tr-gl_0754.jpg',\n",
       " 'C:/Users/Shabiul/Downloads/multiple-disease-prediction-streamlit-app-main/dataset/Training\\\\glioma\\\\Tr-gl_0755.jpg',\n",
       " 'C:/Users/Shabiul/Downloads/multiple-disease-prediction-streamlit-app-main/dataset/Training\\\\glioma\\\\Tr-gl_0756.jpg',\n",
       " 'C:/Users/Shabiul/Downloads/multiple-disease-prediction-streamlit-app-main/dataset/Training\\\\glioma\\\\Tr-gl_0757.jpg',\n",
       " 'C:/Users/Shabiul/Downloads/multiple-disease-prediction-streamlit-app-main/dataset/Training\\\\glioma\\\\Tr-gl_0758.jpg',\n",
       " 'C:/Users/Shabiul/Downloads/multiple-disease-prediction-streamlit-app-main/dataset/Training\\\\glioma\\\\Tr-gl_0759.jpg',\n",
       " 'C:/Users/Shabiul/Downloads/multiple-disease-prediction-streamlit-app-main/dataset/Training\\\\glioma\\\\Tr-gl_0760.jpg',\n",
       " 'C:/Users/Shabiul/Downloads/multiple-disease-prediction-streamlit-app-main/dataset/Training\\\\glioma\\\\Tr-gl_0761.jpg',\n",
       " 'C:/Users/Shabiul/Downloads/multiple-disease-prediction-streamlit-app-main/dataset/Training\\\\glioma\\\\Tr-gl_0762.jpg',\n",
       " 'C:/Users/Shabiul/Downloads/multiple-disease-prediction-streamlit-app-main/dataset/Training\\\\glioma\\\\Tr-gl_0763.jpg',\n",
       " 'C:/Users/Shabiul/Downloads/multiple-disease-prediction-streamlit-app-main/dataset/Training\\\\glioma\\\\Tr-gl_0764.jpg',\n",
       " 'C:/Users/Shabiul/Downloads/multiple-disease-prediction-streamlit-app-main/dataset/Training\\\\glioma\\\\Tr-gl_0765.jpg',\n",
       " 'C:/Users/Shabiul/Downloads/multiple-disease-prediction-streamlit-app-main/dataset/Training\\\\glioma\\\\Tr-gl_0766.jpg',\n",
       " 'C:/Users/Shabiul/Downloads/multiple-disease-prediction-streamlit-app-main/dataset/Training\\\\glioma\\\\Tr-gl_0767.jpg',\n",
       " 'C:/Users/Shabiul/Downloads/multiple-disease-prediction-streamlit-app-main/dataset/Training\\\\glioma\\\\Tr-gl_0768.jpg',\n",
       " 'C:/Users/Shabiul/Downloads/multiple-disease-prediction-streamlit-app-main/dataset/Training\\\\glioma\\\\Tr-gl_0769.jpg',\n",
       " 'C:/Users/Shabiul/Downloads/multiple-disease-prediction-streamlit-app-main/dataset/Training\\\\glioma\\\\Tr-gl_0770.jpg',\n",
       " 'C:/Users/Shabiul/Downloads/multiple-disease-prediction-streamlit-app-main/dataset/Training\\\\glioma\\\\Tr-gl_0771.jpg',\n",
       " 'C:/Users/Shabiul/Downloads/multiple-disease-prediction-streamlit-app-main/dataset/Training\\\\glioma\\\\Tr-gl_0772.jpg',\n",
       " 'C:/Users/Shabiul/Downloads/multiple-disease-prediction-streamlit-app-main/dataset/Training\\\\glioma\\\\Tr-gl_0773.jpg',\n",
       " 'C:/Users/Shabiul/Downloads/multiple-disease-prediction-streamlit-app-main/dataset/Training\\\\glioma\\\\Tr-gl_0774.jpg',\n",
       " 'C:/Users/Shabiul/Downloads/multiple-disease-prediction-streamlit-app-main/dataset/Training\\\\glioma\\\\Tr-gl_0775.jpg',\n",
       " 'C:/Users/Shabiul/Downloads/multiple-disease-prediction-streamlit-app-main/dataset/Training\\\\glioma\\\\Tr-gl_0776.jpg',\n",
       " 'C:/Users/Shabiul/Downloads/multiple-disease-prediction-streamlit-app-main/dataset/Training\\\\glioma\\\\Tr-gl_0777.jpg',\n",
       " 'C:/Users/Shabiul/Downloads/multiple-disease-prediction-streamlit-app-main/dataset/Training\\\\glioma\\\\Tr-gl_0778.jpg',\n",
       " 'C:/Users/Shabiul/Downloads/multiple-disease-prediction-streamlit-app-main/dataset/Training\\\\glioma\\\\Tr-gl_0779.jpg',\n",
       " 'C:/Users/Shabiul/Downloads/multiple-disease-prediction-streamlit-app-main/dataset/Training\\\\glioma\\\\Tr-gl_0780.jpg',\n",
       " 'C:/Users/Shabiul/Downloads/multiple-disease-prediction-streamlit-app-main/dataset/Training\\\\glioma\\\\Tr-gl_0781.jpg',\n",
       " 'C:/Users/Shabiul/Downloads/multiple-disease-prediction-streamlit-app-main/dataset/Training\\\\glioma\\\\Tr-gl_0782.jpg',\n",
       " 'C:/Users/Shabiul/Downloads/multiple-disease-prediction-streamlit-app-main/dataset/Training\\\\glioma\\\\Tr-gl_0783.jpg',\n",
       " 'C:/Users/Shabiul/Downloads/multiple-disease-prediction-streamlit-app-main/dataset/Training\\\\glioma\\\\Tr-gl_0784.jpg',\n",
       " 'C:/Users/Shabiul/Downloads/multiple-disease-prediction-streamlit-app-main/dataset/Training\\\\glioma\\\\Tr-gl_0785.jpg',\n",
       " 'C:/Users/Shabiul/Downloads/multiple-disease-prediction-streamlit-app-main/dataset/Training\\\\glioma\\\\Tr-gl_0786.jpg',\n",
       " 'C:/Users/Shabiul/Downloads/multiple-disease-prediction-streamlit-app-main/dataset/Training\\\\glioma\\\\Tr-gl_0787.jpg',\n",
       " 'C:/Users/Shabiul/Downloads/multiple-disease-prediction-streamlit-app-main/dataset/Training\\\\glioma\\\\Tr-gl_0788.jpg',\n",
       " 'C:/Users/Shabiul/Downloads/multiple-disease-prediction-streamlit-app-main/dataset/Training\\\\glioma\\\\Tr-gl_0789.jpg',\n",
       " 'C:/Users/Shabiul/Downloads/multiple-disease-prediction-streamlit-app-main/dataset/Training\\\\glioma\\\\Tr-gl_0790.jpg',\n",
       " 'C:/Users/Shabiul/Downloads/multiple-disease-prediction-streamlit-app-main/dataset/Training\\\\glioma\\\\Tr-gl_0791.jpg',\n",
       " 'C:/Users/Shabiul/Downloads/multiple-disease-prediction-streamlit-app-main/dataset/Training\\\\glioma\\\\Tr-gl_0792.jpg',\n",
       " 'C:/Users/Shabiul/Downloads/multiple-disease-prediction-streamlit-app-main/dataset/Training\\\\glioma\\\\Tr-gl_0793.jpg',\n",
       " 'C:/Users/Shabiul/Downloads/multiple-disease-prediction-streamlit-app-main/dataset/Training\\\\glioma\\\\Tr-gl_0794.jpg',\n",
       " 'C:/Users/Shabiul/Downloads/multiple-disease-prediction-streamlit-app-main/dataset/Training\\\\glioma\\\\Tr-gl_0795.jpg',\n",
       " 'C:/Users/Shabiul/Downloads/multiple-disease-prediction-streamlit-app-main/dataset/Training\\\\glioma\\\\Tr-gl_0796.jpg',\n",
       " 'C:/Users/Shabiul/Downloads/multiple-disease-prediction-streamlit-app-main/dataset/Training\\\\glioma\\\\Tr-gl_0797.jpg',\n",
       " 'C:/Users/Shabiul/Downloads/multiple-disease-prediction-streamlit-app-main/dataset/Training\\\\glioma\\\\Tr-gl_0798.jpg',\n",
       " 'C:/Users/Shabiul/Downloads/multiple-disease-prediction-streamlit-app-main/dataset/Training\\\\glioma\\\\Tr-gl_0799.jpg',\n",
       " 'C:/Users/Shabiul/Downloads/multiple-disease-prediction-streamlit-app-main/dataset/Training\\\\glioma\\\\Tr-gl_0800.jpg',\n",
       " 'C:/Users/Shabiul/Downloads/multiple-disease-prediction-streamlit-app-main/dataset/Training\\\\glioma\\\\Tr-gl_0801.jpg',\n",
       " 'C:/Users/Shabiul/Downloads/multiple-disease-prediction-streamlit-app-main/dataset/Training\\\\glioma\\\\Tr-gl_0802.jpg',\n",
       " 'C:/Users/Shabiul/Downloads/multiple-disease-prediction-streamlit-app-main/dataset/Training\\\\glioma\\\\Tr-gl_0803.jpg',\n",
       " 'C:/Users/Shabiul/Downloads/multiple-disease-prediction-streamlit-app-main/dataset/Training\\\\glioma\\\\Tr-gl_0804.jpg',\n",
       " 'C:/Users/Shabiul/Downloads/multiple-disease-prediction-streamlit-app-main/dataset/Training\\\\glioma\\\\Tr-gl_0805.jpg',\n",
       " 'C:/Users/Shabiul/Downloads/multiple-disease-prediction-streamlit-app-main/dataset/Training\\\\glioma\\\\Tr-gl_0806.jpg',\n",
       " 'C:/Users/Shabiul/Downloads/multiple-disease-prediction-streamlit-app-main/dataset/Training\\\\glioma\\\\Tr-gl_0807.jpg',\n",
       " 'C:/Users/Shabiul/Downloads/multiple-disease-prediction-streamlit-app-main/dataset/Training\\\\glioma\\\\Tr-gl_0808.jpg',\n",
       " 'C:/Users/Shabiul/Downloads/multiple-disease-prediction-streamlit-app-main/dataset/Training\\\\glioma\\\\Tr-gl_0809.jpg',\n",
       " 'C:/Users/Shabiul/Downloads/multiple-disease-prediction-streamlit-app-main/dataset/Training\\\\glioma\\\\Tr-gl_0810.jpg',\n",
       " 'C:/Users/Shabiul/Downloads/multiple-disease-prediction-streamlit-app-main/dataset/Training\\\\glioma\\\\Tr-gl_0811.jpg',\n",
       " 'C:/Users/Shabiul/Downloads/multiple-disease-prediction-streamlit-app-main/dataset/Training\\\\glioma\\\\Tr-gl_0812.jpg',\n",
       " 'C:/Users/Shabiul/Downloads/multiple-disease-prediction-streamlit-app-main/dataset/Training\\\\glioma\\\\Tr-gl_0813.jpg',\n",
       " 'C:/Users/Shabiul/Downloads/multiple-disease-prediction-streamlit-app-main/dataset/Training\\\\glioma\\\\Tr-gl_0814.jpg',\n",
       " 'C:/Users/Shabiul/Downloads/multiple-disease-prediction-streamlit-app-main/dataset/Training\\\\glioma\\\\Tr-gl_0815.jpg',\n",
       " 'C:/Users/Shabiul/Downloads/multiple-disease-prediction-streamlit-app-main/dataset/Training\\\\glioma\\\\Tr-gl_0816.jpg',\n",
       " 'C:/Users/Shabiul/Downloads/multiple-disease-prediction-streamlit-app-main/dataset/Training\\\\glioma\\\\Tr-gl_0817.jpg',\n",
       " 'C:/Users/Shabiul/Downloads/multiple-disease-prediction-streamlit-app-main/dataset/Training\\\\glioma\\\\Tr-gl_0818.jpg',\n",
       " 'C:/Users/Shabiul/Downloads/multiple-disease-prediction-streamlit-app-main/dataset/Training\\\\glioma\\\\Tr-gl_0819.jpg',\n",
       " 'C:/Users/Shabiul/Downloads/multiple-disease-prediction-streamlit-app-main/dataset/Training\\\\glioma\\\\Tr-gl_0820.jpg',\n",
       " 'C:/Users/Shabiul/Downloads/multiple-disease-prediction-streamlit-app-main/dataset/Training\\\\glioma\\\\Tr-gl_0821.jpg',\n",
       " 'C:/Users/Shabiul/Downloads/multiple-disease-prediction-streamlit-app-main/dataset/Training\\\\glioma\\\\Tr-gl_0822.jpg',\n",
       " 'C:/Users/Shabiul/Downloads/multiple-disease-prediction-streamlit-app-main/dataset/Training\\\\glioma\\\\Tr-gl_0823.jpg',\n",
       " 'C:/Users/Shabiul/Downloads/multiple-disease-prediction-streamlit-app-main/dataset/Training\\\\glioma\\\\Tr-gl_0824.jpg',\n",
       " 'C:/Users/Shabiul/Downloads/multiple-disease-prediction-streamlit-app-main/dataset/Training\\\\glioma\\\\Tr-gl_0825.jpg',\n",
       " 'C:/Users/Shabiul/Downloads/multiple-disease-prediction-streamlit-app-main/dataset/Training\\\\glioma\\\\Tr-gl_0826.jpg',\n",
       " 'C:/Users/Shabiul/Downloads/multiple-disease-prediction-streamlit-app-main/dataset/Training\\\\glioma\\\\Tr-gl_0827.jpg',\n",
       " 'C:/Users/Shabiul/Downloads/multiple-disease-prediction-streamlit-app-main/dataset/Training\\\\glioma\\\\Tr-gl_0828.jpg',\n",
       " 'C:/Users/Shabiul/Downloads/multiple-disease-prediction-streamlit-app-main/dataset/Training\\\\glioma\\\\Tr-gl_0829.jpg',\n",
       " 'C:/Users/Shabiul/Downloads/multiple-disease-prediction-streamlit-app-main/dataset/Training\\\\glioma\\\\Tr-gl_0830.jpg',\n",
       " 'C:/Users/Shabiul/Downloads/multiple-disease-prediction-streamlit-app-main/dataset/Training\\\\glioma\\\\Tr-gl_0831.jpg',\n",
       " 'C:/Users/Shabiul/Downloads/multiple-disease-prediction-streamlit-app-main/dataset/Training\\\\glioma\\\\Tr-gl_0832.jpg',\n",
       " 'C:/Users/Shabiul/Downloads/multiple-disease-prediction-streamlit-app-main/dataset/Training\\\\glioma\\\\Tr-gl_0833.jpg',\n",
       " 'C:/Users/Shabiul/Downloads/multiple-disease-prediction-streamlit-app-main/dataset/Training\\\\glioma\\\\Tr-gl_0834.jpg',\n",
       " 'C:/Users/Shabiul/Downloads/multiple-disease-prediction-streamlit-app-main/dataset/Training\\\\glioma\\\\Tr-gl_0835.jpg',\n",
       " 'C:/Users/Shabiul/Downloads/multiple-disease-prediction-streamlit-app-main/dataset/Training\\\\glioma\\\\Tr-gl_0836.jpg',\n",
       " 'C:/Users/Shabiul/Downloads/multiple-disease-prediction-streamlit-app-main/dataset/Training\\\\glioma\\\\Tr-gl_0837.jpg',\n",
       " 'C:/Users/Shabiul/Downloads/multiple-disease-prediction-streamlit-app-main/dataset/Training\\\\glioma\\\\Tr-gl_0838.jpg',\n",
       " 'C:/Users/Shabiul/Downloads/multiple-disease-prediction-streamlit-app-main/dataset/Training\\\\glioma\\\\Tr-gl_0839.jpg',\n",
       " 'C:/Users/Shabiul/Downloads/multiple-disease-prediction-streamlit-app-main/dataset/Training\\\\glioma\\\\Tr-gl_0840.jpg',\n",
       " 'C:/Users/Shabiul/Downloads/multiple-disease-prediction-streamlit-app-main/dataset/Training\\\\glioma\\\\Tr-gl_0841.jpg',\n",
       " 'C:/Users/Shabiul/Downloads/multiple-disease-prediction-streamlit-app-main/dataset/Training\\\\glioma\\\\Tr-gl_0842.jpg',\n",
       " 'C:/Users/Shabiul/Downloads/multiple-disease-prediction-streamlit-app-main/dataset/Training\\\\glioma\\\\Tr-gl_0843.jpg',\n",
       " 'C:/Users/Shabiul/Downloads/multiple-disease-prediction-streamlit-app-main/dataset/Training\\\\glioma\\\\Tr-gl_0844.jpg',\n",
       " 'C:/Users/Shabiul/Downloads/multiple-disease-prediction-streamlit-app-main/dataset/Training\\\\glioma\\\\Tr-gl_0845.jpg',\n",
       " 'C:/Users/Shabiul/Downloads/multiple-disease-prediction-streamlit-app-main/dataset/Training\\\\glioma\\\\Tr-gl_0846.jpg',\n",
       " 'C:/Users/Shabiul/Downloads/multiple-disease-prediction-streamlit-app-main/dataset/Training\\\\glioma\\\\Tr-gl_0847.jpg',\n",
       " 'C:/Users/Shabiul/Downloads/multiple-disease-prediction-streamlit-app-main/dataset/Training\\\\glioma\\\\Tr-gl_0848.jpg',\n",
       " 'C:/Users/Shabiul/Downloads/multiple-disease-prediction-streamlit-app-main/dataset/Training\\\\glioma\\\\Tr-gl_0849.jpg',\n",
       " 'C:/Users/Shabiul/Downloads/multiple-disease-prediction-streamlit-app-main/dataset/Training\\\\glioma\\\\Tr-gl_0850.jpg',\n",
       " 'C:/Users/Shabiul/Downloads/multiple-disease-prediction-streamlit-app-main/dataset/Training\\\\glioma\\\\Tr-gl_0851.jpg',\n",
       " 'C:/Users/Shabiul/Downloads/multiple-disease-prediction-streamlit-app-main/dataset/Training\\\\glioma\\\\Tr-gl_0852.jpg',\n",
       " 'C:/Users/Shabiul/Downloads/multiple-disease-prediction-streamlit-app-main/dataset/Training\\\\glioma\\\\Tr-gl_0853.jpg',\n",
       " 'C:/Users/Shabiul/Downloads/multiple-disease-prediction-streamlit-app-main/dataset/Training\\\\glioma\\\\Tr-gl_0854.jpg',\n",
       " 'C:/Users/Shabiul/Downloads/multiple-disease-prediction-streamlit-app-main/dataset/Training\\\\glioma\\\\Tr-gl_0855.jpg',\n",
       " 'C:/Users/Shabiul/Downloads/multiple-disease-prediction-streamlit-app-main/dataset/Training\\\\glioma\\\\Tr-gl_0856.jpg',\n",
       " 'C:/Users/Shabiul/Downloads/multiple-disease-prediction-streamlit-app-main/dataset/Training\\\\glioma\\\\Tr-gl_0857.jpg',\n",
       " 'C:/Users/Shabiul/Downloads/multiple-disease-prediction-streamlit-app-main/dataset/Training\\\\glioma\\\\Tr-gl_0858.jpg',\n",
       " 'C:/Users/Shabiul/Downloads/multiple-disease-prediction-streamlit-app-main/dataset/Training\\\\glioma\\\\Tr-gl_0859.jpg',\n",
       " 'C:/Users/Shabiul/Downloads/multiple-disease-prediction-streamlit-app-main/dataset/Training\\\\glioma\\\\Tr-gl_0860.jpg',\n",
       " 'C:/Users/Shabiul/Downloads/multiple-disease-prediction-streamlit-app-main/dataset/Training\\\\glioma\\\\Tr-gl_0861.jpg',\n",
       " 'C:/Users/Shabiul/Downloads/multiple-disease-prediction-streamlit-app-main/dataset/Training\\\\glioma\\\\Tr-gl_0862.jpg',\n",
       " 'C:/Users/Shabiul/Downloads/multiple-disease-prediction-streamlit-app-main/dataset/Training\\\\glioma\\\\Tr-gl_0863.jpg',\n",
       " 'C:/Users/Shabiul/Downloads/multiple-disease-prediction-streamlit-app-main/dataset/Training\\\\glioma\\\\Tr-gl_0864.jpg',\n",
       " 'C:/Users/Shabiul/Downloads/multiple-disease-prediction-streamlit-app-main/dataset/Training\\\\glioma\\\\Tr-gl_0865.jpg',\n",
       " 'C:/Users/Shabiul/Downloads/multiple-disease-prediction-streamlit-app-main/dataset/Training\\\\glioma\\\\Tr-gl_0866.jpg',\n",
       " 'C:/Users/Shabiul/Downloads/multiple-disease-prediction-streamlit-app-main/dataset/Training\\\\glioma\\\\Tr-gl_0867.jpg',\n",
       " 'C:/Users/Shabiul/Downloads/multiple-disease-prediction-streamlit-app-main/dataset/Training\\\\glioma\\\\Tr-gl_0868.jpg',\n",
       " 'C:/Users/Shabiul/Downloads/multiple-disease-prediction-streamlit-app-main/dataset/Training\\\\glioma\\\\Tr-gl_0869.jpg',\n",
       " 'C:/Users/Shabiul/Downloads/multiple-disease-prediction-streamlit-app-main/dataset/Training\\\\glioma\\\\Tr-gl_0870.jpg',\n",
       " 'C:/Users/Shabiul/Downloads/multiple-disease-prediction-streamlit-app-main/dataset/Training\\\\glioma\\\\Tr-gl_0871.jpg',\n",
       " 'C:/Users/Shabiul/Downloads/multiple-disease-prediction-streamlit-app-main/dataset/Training\\\\glioma\\\\Tr-gl_0872.jpg',\n",
       " 'C:/Users/Shabiul/Downloads/multiple-disease-prediction-streamlit-app-main/dataset/Training\\\\glioma\\\\Tr-gl_0873.jpg',\n",
       " 'C:/Users/Shabiul/Downloads/multiple-disease-prediction-streamlit-app-main/dataset/Training\\\\glioma\\\\Tr-gl_0874.jpg',\n",
       " 'C:/Users/Shabiul/Downloads/multiple-disease-prediction-streamlit-app-main/dataset/Training\\\\glioma\\\\Tr-gl_0875.jpg',\n",
       " 'C:/Users/Shabiul/Downloads/multiple-disease-prediction-streamlit-app-main/dataset/Training\\\\glioma\\\\Tr-gl_0876.jpg',\n",
       " 'C:/Users/Shabiul/Downloads/multiple-disease-prediction-streamlit-app-main/dataset/Training\\\\glioma\\\\Tr-gl_0877.jpg',\n",
       " 'C:/Users/Shabiul/Downloads/multiple-disease-prediction-streamlit-app-main/dataset/Training\\\\glioma\\\\Tr-gl_0878.jpg',\n",
       " 'C:/Users/Shabiul/Downloads/multiple-disease-prediction-streamlit-app-main/dataset/Training\\\\glioma\\\\Tr-gl_0879.jpg',\n",
       " 'C:/Users/Shabiul/Downloads/multiple-disease-prediction-streamlit-app-main/dataset/Training\\\\glioma\\\\Tr-gl_0880.jpg',\n",
       " 'C:/Users/Shabiul/Downloads/multiple-disease-prediction-streamlit-app-main/dataset/Training\\\\glioma\\\\Tr-gl_0881.jpg',\n",
       " 'C:/Users/Shabiul/Downloads/multiple-disease-prediction-streamlit-app-main/dataset/Training\\\\glioma\\\\Tr-gl_0882.jpg',\n",
       " 'C:/Users/Shabiul/Downloads/multiple-disease-prediction-streamlit-app-main/dataset/Training\\\\glioma\\\\Tr-gl_0883.jpg',\n",
       " 'C:/Users/Shabiul/Downloads/multiple-disease-prediction-streamlit-app-main/dataset/Training\\\\glioma\\\\Tr-gl_0884.jpg',\n",
       " 'C:/Users/Shabiul/Downloads/multiple-disease-prediction-streamlit-app-main/dataset/Training\\\\glioma\\\\Tr-gl_0885.jpg',\n",
       " 'C:/Users/Shabiul/Downloads/multiple-disease-prediction-streamlit-app-main/dataset/Training\\\\glioma\\\\Tr-gl_0886.jpg',\n",
       " 'C:/Users/Shabiul/Downloads/multiple-disease-prediction-streamlit-app-main/dataset/Training\\\\glioma\\\\Tr-gl_0887.jpg',\n",
       " 'C:/Users/Shabiul/Downloads/multiple-disease-prediction-streamlit-app-main/dataset/Training\\\\glioma\\\\Tr-gl_0888.jpg',\n",
       " 'C:/Users/Shabiul/Downloads/multiple-disease-prediction-streamlit-app-main/dataset/Training\\\\glioma\\\\Tr-gl_0889.jpg',\n",
       " 'C:/Users/Shabiul/Downloads/multiple-disease-prediction-streamlit-app-main/dataset/Training\\\\glioma\\\\Tr-gl_0890.jpg',\n",
       " 'C:/Users/Shabiul/Downloads/multiple-disease-prediction-streamlit-app-main/dataset/Training\\\\glioma\\\\Tr-gl_0891.jpg',\n",
       " 'C:/Users/Shabiul/Downloads/multiple-disease-prediction-streamlit-app-main/dataset/Training\\\\glioma\\\\Tr-gl_0892.jpg',\n",
       " 'C:/Users/Shabiul/Downloads/multiple-disease-prediction-streamlit-app-main/dataset/Training\\\\glioma\\\\Tr-gl_0893.jpg',\n",
       " 'C:/Users/Shabiul/Downloads/multiple-disease-prediction-streamlit-app-main/dataset/Training\\\\glioma\\\\Tr-gl_0894.jpg',\n",
       " 'C:/Users/Shabiul/Downloads/multiple-disease-prediction-streamlit-app-main/dataset/Training\\\\glioma\\\\Tr-gl_0895.jpg',\n",
       " 'C:/Users/Shabiul/Downloads/multiple-disease-prediction-streamlit-app-main/dataset/Training\\\\glioma\\\\Tr-gl_0896.jpg',\n",
       " 'C:/Users/Shabiul/Downloads/multiple-disease-prediction-streamlit-app-main/dataset/Training\\\\glioma\\\\Tr-gl_0897.jpg',\n",
       " 'C:/Users/Shabiul/Downloads/multiple-disease-prediction-streamlit-app-main/dataset/Training\\\\glioma\\\\Tr-gl_0898.jpg',\n",
       " 'C:/Users/Shabiul/Downloads/multiple-disease-prediction-streamlit-app-main/dataset/Training\\\\glioma\\\\Tr-gl_0899.jpg',\n",
       " 'C:/Users/Shabiul/Downloads/multiple-disease-prediction-streamlit-app-main/dataset/Training\\\\glioma\\\\Tr-gl_0900.jpg',\n",
       " 'C:/Users/Shabiul/Downloads/multiple-disease-prediction-streamlit-app-main/dataset/Training\\\\glioma\\\\Tr-gl_0901.jpg',\n",
       " 'C:/Users/Shabiul/Downloads/multiple-disease-prediction-streamlit-app-main/dataset/Training\\\\glioma\\\\Tr-gl_0902.jpg',\n",
       " 'C:/Users/Shabiul/Downloads/multiple-disease-prediction-streamlit-app-main/dataset/Training\\\\glioma\\\\Tr-gl_0903.jpg',\n",
       " 'C:/Users/Shabiul/Downloads/multiple-disease-prediction-streamlit-app-main/dataset/Training\\\\glioma\\\\Tr-gl_0904.jpg',\n",
       " 'C:/Users/Shabiul/Downloads/multiple-disease-prediction-streamlit-app-main/dataset/Training\\\\glioma\\\\Tr-gl_0905.jpg',\n",
       " 'C:/Users/Shabiul/Downloads/multiple-disease-prediction-streamlit-app-main/dataset/Training\\\\glioma\\\\Tr-gl_0906.jpg',\n",
       " 'C:/Users/Shabiul/Downloads/multiple-disease-prediction-streamlit-app-main/dataset/Training\\\\glioma\\\\Tr-gl_0907.jpg',\n",
       " 'C:/Users/Shabiul/Downloads/multiple-disease-prediction-streamlit-app-main/dataset/Training\\\\glioma\\\\Tr-gl_0908.jpg',\n",
       " 'C:/Users/Shabiul/Downloads/multiple-disease-prediction-streamlit-app-main/dataset/Training\\\\glioma\\\\Tr-gl_0909.jpg',\n",
       " 'C:/Users/Shabiul/Downloads/multiple-disease-prediction-streamlit-app-main/dataset/Training\\\\glioma\\\\Tr-gl_0910.jpg',\n",
       " 'C:/Users/Shabiul/Downloads/multiple-disease-prediction-streamlit-app-main/dataset/Training\\\\glioma\\\\Tr-gl_0911.jpg',\n",
       " 'C:/Users/Shabiul/Downloads/multiple-disease-prediction-streamlit-app-main/dataset/Training\\\\glioma\\\\Tr-gl_0912.jpg',\n",
       " 'C:/Users/Shabiul/Downloads/multiple-disease-prediction-streamlit-app-main/dataset/Training\\\\glioma\\\\Tr-gl_0913.jpg',\n",
       " 'C:/Users/Shabiul/Downloads/multiple-disease-prediction-streamlit-app-main/dataset/Training\\\\glioma\\\\Tr-gl_0914.jpg',\n",
       " 'C:/Users/Shabiul/Downloads/multiple-disease-prediction-streamlit-app-main/dataset/Training\\\\glioma\\\\Tr-gl_0915.jpg',\n",
       " 'C:/Users/Shabiul/Downloads/multiple-disease-prediction-streamlit-app-main/dataset/Training\\\\glioma\\\\Tr-gl_0916.jpg',\n",
       " 'C:/Users/Shabiul/Downloads/multiple-disease-prediction-streamlit-app-main/dataset/Training\\\\glioma\\\\Tr-gl_0917.jpg',\n",
       " 'C:/Users/Shabiul/Downloads/multiple-disease-prediction-streamlit-app-main/dataset/Training\\\\glioma\\\\Tr-gl_0918.jpg',\n",
       " 'C:/Users/Shabiul/Downloads/multiple-disease-prediction-streamlit-app-main/dataset/Training\\\\glioma\\\\Tr-gl_0919.jpg',\n",
       " 'C:/Users/Shabiul/Downloads/multiple-disease-prediction-streamlit-app-main/dataset/Training\\\\glioma\\\\Tr-gl_0920.jpg',\n",
       " 'C:/Users/Shabiul/Downloads/multiple-disease-prediction-streamlit-app-main/dataset/Training\\\\glioma\\\\Tr-gl_0921.jpg',\n",
       " 'C:/Users/Shabiul/Downloads/multiple-disease-prediction-streamlit-app-main/dataset/Training\\\\glioma\\\\Tr-gl_0922.jpg',\n",
       " 'C:/Users/Shabiul/Downloads/multiple-disease-prediction-streamlit-app-main/dataset/Training\\\\glioma\\\\Tr-gl_0923.jpg',\n",
       " 'C:/Users/Shabiul/Downloads/multiple-disease-prediction-streamlit-app-main/dataset/Training\\\\glioma\\\\Tr-gl_0924.jpg',\n",
       " 'C:/Users/Shabiul/Downloads/multiple-disease-prediction-streamlit-app-main/dataset/Training\\\\glioma\\\\Tr-gl_0925.jpg',\n",
       " 'C:/Users/Shabiul/Downloads/multiple-disease-prediction-streamlit-app-main/dataset/Training\\\\glioma\\\\Tr-gl_0926.jpg',\n",
       " 'C:/Users/Shabiul/Downloads/multiple-disease-prediction-streamlit-app-main/dataset/Training\\\\glioma\\\\Tr-gl_0927.jpg',\n",
       " 'C:/Users/Shabiul/Downloads/multiple-disease-prediction-streamlit-app-main/dataset/Training\\\\glioma\\\\Tr-gl_0928.jpg',\n",
       " 'C:/Users/Shabiul/Downloads/multiple-disease-prediction-streamlit-app-main/dataset/Training\\\\glioma\\\\Tr-gl_0929.jpg',\n",
       " 'C:/Users/Shabiul/Downloads/multiple-disease-prediction-streamlit-app-main/dataset/Training\\\\glioma\\\\Tr-gl_0930.jpg',\n",
       " 'C:/Users/Shabiul/Downloads/multiple-disease-prediction-streamlit-app-main/dataset/Training\\\\glioma\\\\Tr-gl_0931.jpg',\n",
       " 'C:/Users/Shabiul/Downloads/multiple-disease-prediction-streamlit-app-main/dataset/Training\\\\glioma\\\\Tr-gl_0932.jpg',\n",
       " 'C:/Users/Shabiul/Downloads/multiple-disease-prediction-streamlit-app-main/dataset/Training\\\\glioma\\\\Tr-gl_0933.jpg',\n",
       " 'C:/Users/Shabiul/Downloads/multiple-disease-prediction-streamlit-app-main/dataset/Training\\\\glioma\\\\Tr-gl_0934.jpg',\n",
       " 'C:/Users/Shabiul/Downloads/multiple-disease-prediction-streamlit-app-main/dataset/Training\\\\glioma\\\\Tr-gl_0935.jpg',\n",
       " 'C:/Users/Shabiul/Downloads/multiple-disease-prediction-streamlit-app-main/dataset/Training\\\\glioma\\\\Tr-gl_0936.jpg',\n",
       " 'C:/Users/Shabiul/Downloads/multiple-disease-prediction-streamlit-app-main/dataset/Training\\\\glioma\\\\Tr-gl_0937.jpg',\n",
       " 'C:/Users/Shabiul/Downloads/multiple-disease-prediction-streamlit-app-main/dataset/Training\\\\glioma\\\\Tr-gl_0938.jpg',\n",
       " 'C:/Users/Shabiul/Downloads/multiple-disease-prediction-streamlit-app-main/dataset/Training\\\\glioma\\\\Tr-gl_0939.jpg',\n",
       " 'C:/Users/Shabiul/Downloads/multiple-disease-prediction-streamlit-app-main/dataset/Training\\\\glioma\\\\Tr-gl_0940.jpg',\n",
       " 'C:/Users/Shabiul/Downloads/multiple-disease-prediction-streamlit-app-main/dataset/Training\\\\glioma\\\\Tr-gl_0941.jpg',\n",
       " 'C:/Users/Shabiul/Downloads/multiple-disease-prediction-streamlit-app-main/dataset/Training\\\\glioma\\\\Tr-gl_0942.jpg',\n",
       " 'C:/Users/Shabiul/Downloads/multiple-disease-prediction-streamlit-app-main/dataset/Training\\\\glioma\\\\Tr-gl_0943.jpg',\n",
       " 'C:/Users/Shabiul/Downloads/multiple-disease-prediction-streamlit-app-main/dataset/Training\\\\glioma\\\\Tr-gl_0944.jpg',\n",
       " 'C:/Users/Shabiul/Downloads/multiple-disease-prediction-streamlit-app-main/dataset/Training\\\\glioma\\\\Tr-gl_0945.jpg',\n",
       " 'C:/Users/Shabiul/Downloads/multiple-disease-prediction-streamlit-app-main/dataset/Training\\\\glioma\\\\Tr-gl_0946.jpg',\n",
       " 'C:/Users/Shabiul/Downloads/multiple-disease-prediction-streamlit-app-main/dataset/Training\\\\glioma\\\\Tr-gl_0947.jpg',\n",
       " 'C:/Users/Shabiul/Downloads/multiple-disease-prediction-streamlit-app-main/dataset/Training\\\\glioma\\\\Tr-gl_0948.jpg',\n",
       " 'C:/Users/Shabiul/Downloads/multiple-disease-prediction-streamlit-app-main/dataset/Training\\\\glioma\\\\Tr-gl_0949.jpg',\n",
       " 'C:/Users/Shabiul/Downloads/multiple-disease-prediction-streamlit-app-main/dataset/Training\\\\glioma\\\\Tr-gl_0950.jpg',\n",
       " 'C:/Users/Shabiul/Downloads/multiple-disease-prediction-streamlit-app-main/dataset/Training\\\\glioma\\\\Tr-gl_0951.jpg',\n",
       " 'C:/Users/Shabiul/Downloads/multiple-disease-prediction-streamlit-app-main/dataset/Training\\\\glioma\\\\Tr-gl_0952.jpg',\n",
       " 'C:/Users/Shabiul/Downloads/multiple-disease-prediction-streamlit-app-main/dataset/Training\\\\glioma\\\\Tr-gl_0953.jpg',\n",
       " 'C:/Users/Shabiul/Downloads/multiple-disease-prediction-streamlit-app-main/dataset/Training\\\\glioma\\\\Tr-gl_0954.jpg',\n",
       " 'C:/Users/Shabiul/Downloads/multiple-disease-prediction-streamlit-app-main/dataset/Training\\\\glioma\\\\Tr-gl_0955.jpg',\n",
       " 'C:/Users/Shabiul/Downloads/multiple-disease-prediction-streamlit-app-main/dataset/Training\\\\glioma\\\\Tr-gl_0956.jpg',\n",
       " 'C:/Users/Shabiul/Downloads/multiple-disease-prediction-streamlit-app-main/dataset/Training\\\\glioma\\\\Tr-gl_0957.jpg',\n",
       " 'C:/Users/Shabiul/Downloads/multiple-disease-prediction-streamlit-app-main/dataset/Training\\\\glioma\\\\Tr-gl_0958.jpg',\n",
       " 'C:/Users/Shabiul/Downloads/multiple-disease-prediction-streamlit-app-main/dataset/Training\\\\glioma\\\\Tr-gl_0959.jpg',\n",
       " 'C:/Users/Shabiul/Downloads/multiple-disease-prediction-streamlit-app-main/dataset/Training\\\\glioma\\\\Tr-gl_0960.jpg',\n",
       " 'C:/Users/Shabiul/Downloads/multiple-disease-prediction-streamlit-app-main/dataset/Training\\\\glioma\\\\Tr-gl_0961.jpg',\n",
       " 'C:/Users/Shabiul/Downloads/multiple-disease-prediction-streamlit-app-main/dataset/Training\\\\glioma\\\\Tr-gl_0962.jpg',\n",
       " 'C:/Users/Shabiul/Downloads/multiple-disease-prediction-streamlit-app-main/dataset/Training\\\\glioma\\\\Tr-gl_0963.jpg',\n",
       " 'C:/Users/Shabiul/Downloads/multiple-disease-prediction-streamlit-app-main/dataset/Training\\\\glioma\\\\Tr-gl_0964.jpg',\n",
       " 'C:/Users/Shabiul/Downloads/multiple-disease-prediction-streamlit-app-main/dataset/Training\\\\glioma\\\\Tr-gl_0965.jpg',\n",
       " 'C:/Users/Shabiul/Downloads/multiple-disease-prediction-streamlit-app-main/dataset/Training\\\\glioma\\\\Tr-gl_0966.jpg',\n",
       " 'C:/Users/Shabiul/Downloads/multiple-disease-prediction-streamlit-app-main/dataset/Training\\\\glioma\\\\Tr-gl_0967.jpg',\n",
       " 'C:/Users/Shabiul/Downloads/multiple-disease-prediction-streamlit-app-main/dataset/Training\\\\glioma\\\\Tr-gl_0968.jpg',\n",
       " 'C:/Users/Shabiul/Downloads/multiple-disease-prediction-streamlit-app-main/dataset/Training\\\\glioma\\\\Tr-gl_0969.jpg',\n",
       " 'C:/Users/Shabiul/Downloads/multiple-disease-prediction-streamlit-app-main/dataset/Training\\\\glioma\\\\Tr-gl_0970.jpg',\n",
       " 'C:/Users/Shabiul/Downloads/multiple-disease-prediction-streamlit-app-main/dataset/Training\\\\glioma\\\\Tr-gl_0971.jpg',\n",
       " 'C:/Users/Shabiul/Downloads/multiple-disease-prediction-streamlit-app-main/dataset/Training\\\\glioma\\\\Tr-gl_0972.jpg',\n",
       " 'C:/Users/Shabiul/Downloads/multiple-disease-prediction-streamlit-app-main/dataset/Training\\\\glioma\\\\Tr-gl_0973.jpg',\n",
       " 'C:/Users/Shabiul/Downloads/multiple-disease-prediction-streamlit-app-main/dataset/Training\\\\glioma\\\\Tr-gl_0974.jpg',\n",
       " 'C:/Users/Shabiul/Downloads/multiple-disease-prediction-streamlit-app-main/dataset/Training\\\\glioma\\\\Tr-gl_0975.jpg',\n",
       " 'C:/Users/Shabiul/Downloads/multiple-disease-prediction-streamlit-app-main/dataset/Training\\\\glioma\\\\Tr-gl_0976.jpg',\n",
       " 'C:/Users/Shabiul/Downloads/multiple-disease-prediction-streamlit-app-main/dataset/Training\\\\glioma\\\\Tr-gl_0977.jpg',\n",
       " 'C:/Users/Shabiul/Downloads/multiple-disease-prediction-streamlit-app-main/dataset/Training\\\\glioma\\\\Tr-gl_0978.jpg',\n",
       " 'C:/Users/Shabiul/Downloads/multiple-disease-prediction-streamlit-app-main/dataset/Training\\\\glioma\\\\Tr-gl_0979.jpg',\n",
       " 'C:/Users/Shabiul/Downloads/multiple-disease-prediction-streamlit-app-main/dataset/Training\\\\glioma\\\\Tr-gl_0980.jpg',\n",
       " 'C:/Users/Shabiul/Downloads/multiple-disease-prediction-streamlit-app-main/dataset/Training\\\\glioma\\\\Tr-gl_0981.jpg',\n",
       " 'C:/Users/Shabiul/Downloads/multiple-disease-prediction-streamlit-app-main/dataset/Training\\\\glioma\\\\Tr-gl_0982.jpg',\n",
       " 'C:/Users/Shabiul/Downloads/multiple-disease-prediction-streamlit-app-main/dataset/Training\\\\glioma\\\\Tr-gl_0983.jpg',\n",
       " 'C:/Users/Shabiul/Downloads/multiple-disease-prediction-streamlit-app-main/dataset/Training\\\\glioma\\\\Tr-gl_0984.jpg',\n",
       " 'C:/Users/Shabiul/Downloads/multiple-disease-prediction-streamlit-app-main/dataset/Training\\\\glioma\\\\Tr-gl_0985.jpg',\n",
       " 'C:/Users/Shabiul/Downloads/multiple-disease-prediction-streamlit-app-main/dataset/Training\\\\glioma\\\\Tr-gl_0986.jpg',\n",
       " 'C:/Users/Shabiul/Downloads/multiple-disease-prediction-streamlit-app-main/dataset/Training\\\\glioma\\\\Tr-gl_0987.jpg',\n",
       " 'C:/Users/Shabiul/Downloads/multiple-disease-prediction-streamlit-app-main/dataset/Training\\\\glioma\\\\Tr-gl_0988.jpg',\n",
       " 'C:/Users/Shabiul/Downloads/multiple-disease-prediction-streamlit-app-main/dataset/Training\\\\glioma\\\\Tr-gl_0989.jpg',\n",
       " 'C:/Users/Shabiul/Downloads/multiple-disease-prediction-streamlit-app-main/dataset/Training\\\\glioma\\\\Tr-gl_0990.jpg',\n",
       " 'C:/Users/Shabiul/Downloads/multiple-disease-prediction-streamlit-app-main/dataset/Training\\\\glioma\\\\Tr-gl_0991.jpg',\n",
       " 'C:/Users/Shabiul/Downloads/multiple-disease-prediction-streamlit-app-main/dataset/Training\\\\glioma\\\\Tr-gl_0992.jpg',\n",
       " 'C:/Users/Shabiul/Downloads/multiple-disease-prediction-streamlit-app-main/dataset/Training\\\\glioma\\\\Tr-gl_0993.jpg',\n",
       " 'C:/Users/Shabiul/Downloads/multiple-disease-prediction-streamlit-app-main/dataset/Training\\\\glioma\\\\Tr-gl_0994.jpg',\n",
       " 'C:/Users/Shabiul/Downloads/multiple-disease-prediction-streamlit-app-main/dataset/Training\\\\glioma\\\\Tr-gl_0995.jpg',\n",
       " 'C:/Users/Shabiul/Downloads/multiple-disease-prediction-streamlit-app-main/dataset/Training\\\\glioma\\\\Tr-gl_0996.jpg',\n",
       " 'C:/Users/Shabiul/Downloads/multiple-disease-prediction-streamlit-app-main/dataset/Training\\\\glioma\\\\Tr-gl_0997.jpg',\n",
       " 'C:/Users/Shabiul/Downloads/multiple-disease-prediction-streamlit-app-main/dataset/Training\\\\glioma\\\\Tr-gl_0998.jpg',\n",
       " 'C:/Users/Shabiul/Downloads/multiple-disease-prediction-streamlit-app-main/dataset/Training\\\\glioma\\\\Tr-gl_0999.jpg',\n",
       " ...]"
      ]
     },
     "execution_count": 28,
     "metadata": {},
     "output_type": "execute_result"
    }
   ],
   "source": [
    "# extract file path from dataframe\n",
    "\n",
    "file_names = [fname for fname in df[\"File_path\"]]\n",
    "file_names"
   ]
  },
  {
   "cell_type": "code",
   "execution_count": 29,
   "metadata": {
    "id": "iflZc1A46izB",
    "outputId": "91b46e1c-47a1-4c92-f40b-f6dac16c249c"
   },
   "outputs": [
    {
     "data": {
      "image/jpeg": "[encoded data removed]",
      "text/plain": [
       "<IPython.core.display.Image object>"
      ]
     },
     "execution_count": 29,
     "metadata": {},
     "output_type": "execute_result"
    }
   ],
   "source": [
    "# make sure our file path working correctly\n",
    "from IPython.display import Image\n",
    "\n",
    "Image(file_names[0])"
   ]
  },
  {
   "cell_type": "code",
   "execution_count": 30,
   "metadata": {
    "id": "-orVA9hu64Tt",
    "outputId": "7567cda8-f799-4180-a661-e7a0514f5f84"
   },
   "outputs": [
    {
     "data": {
      "text/plain": [
       "'glioma'"
      ]
     },
     "execution_count": 30,
     "metadata": {},
     "output_type": "execute_result"
    }
   ],
   "source": [
    "df[\"Brain_tumor_type\"][0]"
   ]
  },
  {
   "cell_type": "code",
   "execution_count": 31,
   "metadata": {
    "id": "tIIkP9ZO7H8r",
    "outputId": "2cb41d8e-e063-457d-fdb9-aad5733fa95b"
   },
   "outputs": [
    {
     "data": {
      "text/plain": [
       "5712"
      ]
     },
     "execution_count": 31,
     "metadata": {},
     "output_type": "execute_result"
    }
   ],
   "source": [
    "len(df)"
   ]
  },
  {
   "cell_type": "code",
   "execution_count": 33,
   "metadata": {
    "id": "021uhy1X7L6u",
    "outputId": "ec47431a-1315-4069-fda1-d9b70738f788"
   },
   "outputs": [
    {
     "name": "stdout",
     "output_type": "stream",
     "text": [
      "they match !!!!\n"
     ]
    }
   ],
   "source": [
    "# lets check our file_names and actual folder images match\n",
    "\n",
    "base_path = \"C:/Users/Shabiul/Downloads/multiple-disease-prediction-streamlit-app-main/dataset/Training\"\n",
    "categories = [\"glioma\",\"meningioma\",\"notumor\",\"pituitary\"]\n",
    "\n",
    "total_files = sum(len(os.listdir(os.path.join(base_path,category))) for category in categories)\n",
    "\n",
    "if len(file_names) == total_files:\n",
    "  print(\"they match !!!!\")\n",
    "else:\n",
    "  print(\"No it doesn't match :)\")"
   ]
  },
  {
   "cell_type": "code",
   "execution_count": 34,
   "metadata": {
    "id": "K5G8nmhq-KtG",
    "outputId": "13779aa7-47e6-4216-d041-f72ae01b7ee2"
   },
   "outputs": [
    {
     "data": {
      "text/plain": [
       "array(['glioma', 'glioma', 'glioma', ..., 'pituitary', 'pituitary',\n",
       "       'pituitary'], dtype=object)"
      ]
     },
     "execution_count": 34,
     "metadata": {},
     "output_type": "execute_result"
    }
   ],
   "source": [
    "labels=df[\"Brain_tumor_type\"]\n",
    "labels=np.array(labels)\n",
    "labels"
   ]
  },
  {
   "cell_type": "code",
   "execution_count": 35,
   "metadata": {
    "id": "m48KfMM5-V3d",
    "outputId": "aaee59eb-1558-45e6-9add-14e831bbdb20"
   },
   "outputs": [
    {
     "name": "stdout",
     "output_type": "stream",
     "text": [
      "They Match !\n"
     ]
    }
   ],
   "source": [
    "# make sure file names and labels counts are equal\n",
    "\n",
    "if len(file_names) == len(labels):\n",
    "  print(\"They Match !\")\n",
    "else:\n",
    "  print(\"No it doesn't match\")"
   ]
  },
  {
   "cell_type": "code",
   "execution_count": 36,
   "metadata": {
    "id": "xQE__keW-1yq",
    "outputId": "e3ebd34b-0a45-43a1-c85b-18aa32f8c522"
   },
   "outputs": [
    {
     "data": {
      "text/plain": [
       "array(['glioma', 'meningioma', 'notumor', 'pituitary'], dtype=object)"
      ]
     },
     "execution_count": 36,
     "metadata": {},
     "output_type": "execute_result"
    }
   ],
   "source": [
    "unique_brain_tumor_types = np.unique(labels)\n",
    "unique_brain_tumor_types"
   ]
  },
  {
   "cell_type": "code",
   "execution_count": 37,
   "metadata": {
    "id": "KEYALtIH_BX2",
    "outputId": "3bf9baa5-4410-4aac-a801-564cf42679d0"
   },
   "outputs": [
    {
     "data": {
      "text/plain": [
       "4"
      ]
     },
     "execution_count": 37,
     "metadata": {},
     "output_type": "execute_result"
    }
   ],
   "source": [
    "len(unique_brain_tumor_types)"
   ]
  },
  {
   "cell_type": "markdown",
   "metadata": {
    "id": "p19gwYpE_E8w"
   },
   "source": [
    "## So we have 4 types of brain tumor"
   ]
  },
  {
   "cell_type": "code",
   "execution_count": 38,
   "metadata": {
    "id": "pcEqJag1_aJJ",
    "outputId": "49b7624a-390a-4813-8895-2671036445ce"
   },
   "outputs": [
    {
     "data": {
      "text/plain": [
       "[array([ True, False, False, False]),\n",
       " array([ True, False, False, False]),\n",
       " array([ True, False, False, False]),\n",
       " array([ True, False, False, False]),\n",
       " array([ True, False, False, False])]"
      ]
     },
     "execution_count": 38,
     "metadata": {},
     "output_type": "execute_result"
    }
   ],
   "source": [
    "boolean_labels=[label == np.array(unique_brain_tumor_types) for label in labels]\n",
    "boolean_labels[:5]"
   ]
  },
  {
   "cell_type": "code",
   "execution_count": 39,
   "metadata": {
    "id": "cpLkH_WE_qyg",
    "outputId": "9d404f78-cf5c-4ef8-b77c-240e51bbfb51"
   },
   "outputs": [
    {
     "data": {
      "text/plain": [
       "5712"
      ]
     },
     "execution_count": 39,
     "metadata": {},
     "output_type": "execute_result"
    }
   ],
   "source": [
    "len(boolean_labels)"
   ]
  },
  {
   "cell_type": "code",
   "execution_count": 40,
   "metadata": {
    "id": "64vUWmU1_zwt",
    "outputId": "a759e40a-0b4f-4913-aa16-ed6354d48f4d"
   },
   "outputs": [
    {
     "data": {
      "text/plain": [
       "['C:/Users/Shabiul/Downloads/multiple-disease-prediction-streamlit-app-main/dataset/Training\\\\glioma\\\\Tr-glTr_0000.jpg',\n",
       " 'C:/Users/Shabiul/Downloads/multiple-disease-prediction-streamlit-app-main/dataset/Training\\\\glioma\\\\Tr-glTr_0001.jpg']"
      ]
     },
     "execution_count": 40,
     "metadata": {},
     "output_type": "execute_result"
    }
   ],
   "source": [
    "file_names[:2]"
   ]
  },
  {
   "cell_type": "code",
   "execution_count": 41,
   "metadata": {
    "id": "jU2peZBH_3nL"
   },
   "outputs": [],
   "source": [
    "X=file_names\n",
    "Y=boolean_labels"
   ]
  },
  {
   "cell_type": "markdown",
   "metadata": {
    "id": "PA8w9njG_96Y"
   },
   "source": [
    "## **Lets Build Functions**"
   ]
  },
  {
   "cell_type": "code",
   "execution_count": 42,
   "metadata": {
    "id": "l9zzLsVkAO_i"
   },
   "outputs": [
    {
     "name": "stdout",
     "output_type": "stream",
     "text": [
      "WARNING:tensorflow:From c:\\Users\\Shabiul\\Downloads\\multiple-disease-prediction-streamlit-app-main\\.conda\\lib\\site-packages\\tf_keras\\src\\backend.py:873: The name tf.get_default_graph is deprecated. Please use tf.compat.v1.get_default_graph instead.\n",
      "\n"
     ]
    }
   ],
   "source": [
    "## Tuning Images into Tensor\n",
    "\n",
    "IMG_SIZE = 224  # Image size\n",
    "\n",
    "# data augmentation pipeline\n",
    "data_augmentation = keras.Sequential([\n",
    "    keras.layers.RandomFlip(\"horizontal_and_vertical\"),\n",
    "    keras.layers.RandomRotation(0.2),\n",
    "    keras.layers.RandomZoom(0.1),\n",
    "    keras.layers.RandomContrast(0.2)\n",
    "])\n",
    "\n",
    "def process_image(image_path, img_size=IMG_SIZE, augment=False):\n",
    "    \"\"\"\n",
    "    Turn image into a Tensors\n",
    "    \"\"\"\n",
    "    # Load and preprocess the image\n",
    "    image = tf.io.read_file(image_path)  # Read image file as binary\n",
    "    image = tf.image.decode_jpeg(image, channels=3)  # Decode JPEG to tensor\n",
    "    image = tf.image.convert_image_dtype(image, dtype=tf.float32)  # Normalize to [0, 1]\n",
    "    image = tf.image.resize(image, size=[img_size, img_size])  # Resize to target size\n",
    "\n",
    "    if augment:\n",
    "        image = data_augmentation(image)\n",
    "\n",
    "    return image"
   ]
  },
  {
   "cell_type": "code",
   "execution_count": 43,
   "metadata": {
    "id": "5Y26L4I1Atqm"
   },
   "outputs": [],
   "source": [
    "def get_image_label(image_path,label):\n",
    "  image=process_image(image_path)\n",
    "  return image, label"
   ]
  },
  {
   "cell_type": "code",
   "execution_count": 44,
   "metadata": {
    "id": "3fOl6Wy2A3Id",
    "outputId": "f4fef904-494b-490b-b2d8-ce63a47b1b75"
   },
   "outputs": [
    {
     "data": {
      "text/plain": [
       "(<tf.Tensor: shape=(224, 224, 3), dtype=float32, numpy=\n",
       " array([[[0., 0., 0.],\n",
       "         [0., 0., 0.],\n",
       "         [0., 0., 0.],\n",
       "         ...,\n",
       "         [0., 0., 0.],\n",
       "         [0., 0., 0.],\n",
       "         [0., 0., 0.]],\n",
       " \n",
       "        [[0., 0., 0.],\n",
       "         [0., 0., 0.],\n",
       "         [0., 0., 0.],\n",
       "         ...,\n",
       "         [0., 0., 0.],\n",
       "         [0., 0., 0.],\n",
       "         [0., 0., 0.]],\n",
       " \n",
       "        [[0., 0., 0.],\n",
       "         [0., 0., 0.],\n",
       "         [0., 0., 0.],\n",
       "         ...,\n",
       "         [0., 0., 0.],\n",
       "         [0., 0., 0.],\n",
       "         [0., 0., 0.]],\n",
       " \n",
       "        ...,\n",
       " \n",
       "        [[0., 0., 0.],\n",
       "         [0., 0., 0.],\n",
       "         [0., 0., 0.],\n",
       "         ...,\n",
       "         [0., 0., 0.],\n",
       "         [0., 0., 0.],\n",
       "         [0., 0., 0.]],\n",
       " \n",
       "        [[0., 0., 0.],\n",
       "         [0., 0., 0.],\n",
       "         [0., 0., 0.],\n",
       "         ...,\n",
       "         [0., 0., 0.],\n",
       "         [0., 0., 0.],\n",
       "         [0., 0., 0.]],\n",
       " \n",
       "        [[0., 0., 0.],\n",
       "         [0., 0., 0.],\n",
       "         [0., 0., 0.],\n",
       "         ...,\n",
       "         [0., 0., 0.],\n",
       "         [0., 0., 0.],\n",
       "         [0., 0., 0.]]], dtype=float32)>,\n",
       " <tf.Tensor: shape=(4,), dtype=bool, numpy=array([ True, False, False, False])>)"
      ]
     },
     "execution_count": 44,
     "metadata": {},
     "output_type": "execute_result"
    }
   ],
   "source": [
    "# Demo for above function\n",
    "(process_image(X[42]),tf.constant(Y[42]))"
   ]
  },
  {
   "cell_type": "code",
   "execution_count": 45,
   "metadata": {
    "id": "ocb42fc9A8IK"
   },
   "outputs": [],
   "source": [
    "# Define the batch\n",
    "\n",
    "BATCH_SIZE = 32\n",
    "\n",
    "# Create a function to turn data into batches\n",
    "def create_data_batches(X, Y=None, batch_size=BATCH_SIZE, valid_data=False, test_data=False):\n",
    "  \"\"\"\n",
    "  Creates batches of data out of image (X) and label (y) pairs.\n",
    "  Shuffles the data if it's training data but doesn't shuffle if it's validation data.\n",
    "  Also accepts test data as input (no labels).\n",
    "  \"\"\"\n",
    "  if test_data:\n",
    "    print(\"Creating test data batches...\")\n",
    "    data = tf.data.Dataset.from_tensor_slices((tf.constant(X)))\n",
    "    data_batch = data.map(process_image).batch(BATCH_SIZE)\n",
    "    return data_batch\n",
    "\n",
    "  elif valid_data:\n",
    "    print(\"Creating validation data batches...\")\n",
    "    data = tf.data.Dataset.from_tensor_slices((tf.constant(X),\n",
    "                                               tf.constant(Y)))\n",
    "    data_batch = data.map(get_image_label).batch(BATCH_SIZE)\n",
    "    return data_batch\n",
    "\n",
    "  else:\n",
    "    print(\"Creating training data batches...\")\n",
    "    # Turn filepaths and labels into Tensors\n",
    "    data = tf.data.Dataset.from_tensor_slices((tf.constant(X),\n",
    "                                               tf.constant(Y)))\n",
    "    # Shuffling pathnames and labels before mapping image processor\n",
    "    data = data.shuffle(buffer_size=len(X))\n",
    "\n",
    "    data = data.map(get_image_label)\n",
    "\n",
    "    # Turn the training data into batches\n",
    "    data_batch = data.batch(BATCH_SIZE)\n",
    "  return data_batch"
   ]
  },
  {
   "cell_type": "code",
   "execution_count": 46,
   "metadata": {
    "id": "MAUg8_bpB0EO"
   },
   "outputs": [],
   "source": [
    "\n",
    "\n",
    "import matplotlib.pyplot as plt\n",
    "\n",
    "# Create a function for viewing images in a data batch\n",
    "def show_10_images(images, labels):\n",
    "  \"\"\"\n",
    "  Displays a plot of 25 images and their labels from a data batch.\n",
    "  \"\"\"\n",
    "  # Setup the figure\n",
    "  plt.figure(figsize=(10, 10))\n",
    "  # Loop through 10 to display 10 images\n",
    "  for i in range(10):\n",
    "    # Create subplots (5 rows, 5 columns)\n",
    "    ax = plt.subplot(5, 5, i+1)\n",
    "    # Display an image\n",
    "    plt.imshow(images[i])\n",
    "    # Add the image label as the title\n",
    "    plt.title(unique_brain_tumor_types[labels[i].argmax()])\n",
    "    # Turn the grid lines off\n",
    "    plt.axis(\"off\")"
   ]
  },
  {
   "cell_type": "code",
   "execution_count": 47,
   "metadata": {
    "id": "xyWezB9fCF3y",
    "outputId": "052795e0-a168-4559-b886-9d545d5f00ad"
   },
   "outputs": [
    {
     "name": "stdout",
     "output_type": "stream",
     "text": [
      "Path to model files: https://tfhub.dev/google/imagenet/resnet_v2_50/feature_vector/5\n"
     ]
    }
   ],
   "source": [
    "# Lets import model from kaggle hub\n",
    "# Setup input shape to the model\n",
    "INPUT_SHAPE = [None, IMG_SIZE, IMG_SIZE, 3] # batch, height, width, colour channels\n",
    "\n",
    "# Setup output shape of our model\n",
    "OUTPUT_SHAPE = len(unique_brain_tumor_types)\n",
    "\n",
    "# Download latest version we are going to use resnet_v2_50 model\n",
    "MODEL_URL = \"https://tfhub.dev/google/imagenet/resnet_v2_50/feature_vector/5\"\n",
    "\n",
    "print(\"Path to model files:\", MODEL_URL)"
   ]
  },
  {
   "cell_type": "code",
   "execution_count": 48,
   "metadata": {
    "id": "CnErp73JCTzy",
    "outputId": "81fa7261-a315-4ab4-c5e2-71b63842bce5"
   },
   "outputs": [
    {
     "name": "stdout",
     "output_type": "stream",
     "text": [
      "WARNING:tensorflow:From c:\\Users\\Shabiul\\Downloads\\multiple-disease-prediction-streamlit-app-main\\.conda\\lib\\site-packages\\tensorflow_hub\\resolver.py:120: The name tf.gfile.MakeDirs is deprecated. Please use tf.io.gfile.makedirs instead.\n",
      "\n"
     ]
    },
    {
     "name": "stderr",
     "output_type": "stream",
     "text": [
      "WARNING:tensorflow:From c:\\Users\\Shabiul\\Downloads\\multiple-disease-prediction-streamlit-app-main\\.conda\\lib\\site-packages\\tensorflow_hub\\resolver.py:120: The name tf.gfile.MakeDirs is deprecated. Please use tf.io.gfile.makedirs instead.\n",
      "\n"
     ]
    },
    {
     "name": "stdout",
     "output_type": "stream",
     "text": [
      "WARNING:tensorflow:From c:\\Users\\Shabiul\\Downloads\\multiple-disease-prediction-streamlit-app-main\\.conda\\lib\\site-packages\\tensorflow_hub\\module_v2.py:126: The name tf.saved_model.load_v2 is deprecated. Please use tf.compat.v2.saved_model.load instead.\n",
      "\n"
     ]
    },
    {
     "name": "stderr",
     "output_type": "stream",
     "text": [
      "WARNING:tensorflow:From c:\\Users\\Shabiul\\Downloads\\multiple-disease-prediction-streamlit-app-main\\.conda\\lib\\site-packages\\tensorflow_hub\\module_v2.py:126: The name tf.saved_model.load_v2 is deprecated. Please use tf.compat.v2.saved_model.load instead.\n",
      "\n"
     ]
    },
    {
     "data": {
      "text/plain": [
       "<tensorflow_hub.keras_layer.KerasLayer at 0x2439b8b5540>"
      ]
     },
     "execution_count": 48,
     "metadata": {},
     "output_type": "execute_result"
    }
   ],
   "source": [
    "import tensorflow_hub as hub\n",
    "layer = hub.KerasLayer(MODEL_URL, trainable=False)\n",
    "layer\n",
    "# model is ready to go"
   ]
  },
  {
   "cell_type": "code",
   "execution_count": 49,
   "metadata": {
    "id": "IOb95vkJCYjZ",
    "outputId": "9da8acee-59c5-4b5a-a600-9251085cc9aa"
   },
   "outputs": [
    {
     "name": "stdout",
     "output_type": "stream",
     "text": [
      "Requirement already satisfied: tf_keras in c:\\users\\shabiul\\downloads\\multiple-disease-prediction-streamlit-app-main\\.conda\\lib\\site-packages (2.18.0)\n",
      "Requirement already satisfied: tensorflow<2.19,>=2.18 in c:\\users\\shabiul\\downloads\\multiple-disease-prediction-streamlit-app-main\\.conda\\lib\\site-packages (from tf_keras) (2.18.0)\n",
      "Requirement already satisfied: tensorflow-intel==2.18.0 in c:\\users\\shabiul\\downloads\\multiple-disease-prediction-streamlit-app-main\\.conda\\lib\\site-packages (from tensorflow<2.19,>=2.18->tf_keras) (2.18.0)\n",
      "Requirement already satisfied: absl-py>=1.0.0 in c:\\users\\shabiul\\downloads\\multiple-disease-prediction-streamlit-app-main\\.conda\\lib\\site-packages (from tensorflow-intel==2.18.0->tensorflow<2.19,>=2.18->tf_keras) (2.1.0)\n",
      "Requirement already satisfied: astunparse>=1.6.0 in c:\\users\\shabiul\\downloads\\multiple-disease-prediction-streamlit-app-main\\.conda\\lib\\site-packages (from tensorflow-intel==2.18.0->tensorflow<2.19,>=2.18->tf_keras) (1.6.3)\n",
      "Requirement already satisfied: flatbuffers>=24.3.25 in c:\\users\\shabiul\\downloads\\multiple-disease-prediction-streamlit-app-main\\.conda\\lib\\site-packages (from tensorflow-intel==2.18.0->tensorflow<2.19,>=2.18->tf_keras) (25.1.24)\n",
      "Requirement already satisfied: gast!=0.5.0,!=0.5.1,!=0.5.2,>=0.2.1 in c:\\users\\shabiul\\downloads\\multiple-disease-prediction-streamlit-app-main\\.conda\\lib\\site-packages (from tensorflow-intel==2.18.0->tensorflow<2.19,>=2.18->tf_keras) (0.4.0)\n",
      "Requirement already satisfied: google-pasta>=0.1.1 in c:\\users\\shabiul\\downloads\\multiple-disease-prediction-streamlit-app-main\\.conda\\lib\\site-packages (from tensorflow-intel==2.18.0->tensorflow<2.19,>=2.18->tf_keras) (0.2.0)\n",
      "Requirement already satisfied: libclang>=13.0.0 in c:\\users\\shabiul\\downloads\\multiple-disease-prediction-streamlit-app-main\\.conda\\lib\\site-packages (from tensorflow-intel==2.18.0->tensorflow<2.19,>=2.18->tf_keras) (18.1.1)\n",
      "Requirement already satisfied: opt-einsum>=2.3.2 in c:\\users\\shabiul\\downloads\\multiple-disease-prediction-streamlit-app-main\\.conda\\lib\\site-packages (from tensorflow-intel==2.18.0->tensorflow<2.19,>=2.18->tf_keras) (3.4.0)\n",
      "Requirement already satisfied: packaging in c:\\users\\shabiul\\downloads\\multiple-disease-prediction-streamlit-app-main\\.conda\\lib\\site-packages (from tensorflow-intel==2.18.0->tensorflow<2.19,>=2.18->tf_keras) (24.2)\n",
      "Collecting protobuf!=4.21.0,!=4.21.1,!=4.21.2,!=4.21.3,!=4.21.4,!=4.21.5,<6.0.0dev,>=3.20.3 (from tensorflow-intel==2.18.0->tensorflow<2.19,>=2.18->tf_keras)\n",
      "  Using cached protobuf-5.29.3-cp310-abi3-win_amd64.whl.metadata (592 bytes)\n",
      "Requirement already satisfied: requests<3,>=2.21.0 in c:\\users\\shabiul\\downloads\\multiple-disease-prediction-streamlit-app-main\\.conda\\lib\\site-packages (from tensorflow-intel==2.18.0->tensorflow<2.19,>=2.18->tf_keras) (2.32.3)\n",
      "Requirement already satisfied: setuptools in c:\\users\\shabiul\\downloads\\multiple-disease-prediction-streamlit-app-main\\.conda\\lib\\site-packages (from tensorflow-intel==2.18.0->tensorflow<2.19,>=2.18->tf_keras) (75.8.0)\n",
      "Requirement already satisfied: six>=1.12.0 in c:\\users\\shabiul\\downloads\\multiple-disease-prediction-streamlit-app-main\\.conda\\lib\\site-packages (from tensorflow-intel==2.18.0->tensorflow<2.19,>=2.18->tf_keras) (1.17.0)\n",
      "Requirement already satisfied: termcolor>=1.1.0 in c:\\users\\shabiul\\downloads\\multiple-disease-prediction-streamlit-app-main\\.conda\\lib\\site-packages (from tensorflow-intel==2.18.0->tensorflow<2.19,>=2.18->tf_keras) (2.5.0)\n",
      "Requirement already satisfied: typing-extensions>=3.6.6 in c:\\users\\shabiul\\downloads\\multiple-disease-prediction-streamlit-app-main\\.conda\\lib\\site-packages (from tensorflow-intel==2.18.0->tensorflow<2.19,>=2.18->tf_keras) (4.12.2)\n",
      "Requirement already satisfied: wrapt>=1.11.0 in c:\\users\\shabiul\\downloads\\multiple-disease-prediction-streamlit-app-main\\.conda\\lib\\site-packages (from tensorflow-intel==2.18.0->tensorflow<2.19,>=2.18->tf_keras) (1.17.2)\n",
      "Requirement already satisfied: grpcio<2.0,>=1.24.3 in c:\\users\\shabiul\\downloads\\multiple-disease-prediction-streamlit-app-main\\.conda\\lib\\site-packages (from tensorflow-intel==2.18.0->tensorflow<2.19,>=2.18->tf_keras) (1.70.0)\n",
      "Collecting tensorboard<2.19,>=2.18 (from tensorflow-intel==2.18.0->tensorflow<2.19,>=2.18->tf_keras)\n",
      "  Using cached tensorboard-2.18.0-py3-none-any.whl.metadata (1.6 kB)\n",
      "Collecting keras>=3.5.0 (from tensorflow-intel==2.18.0->tensorflow<2.19,>=2.18->tf_keras)\n",
      "  Using cached keras-3.8.0-py3-none-any.whl.metadata (5.8 kB)\n",
      "Requirement already satisfied: numpy<2.1.0,>=1.26.0 in c:\\users\\shabiul\\downloads\\multiple-disease-prediction-streamlit-app-main\\.conda\\lib\\site-packages (from tensorflow-intel==2.18.0->tensorflow<2.19,>=2.18->tf_keras) (2.0.2)\n",
      "Requirement already satisfied: h5py>=3.11.0 in c:\\users\\shabiul\\downloads\\multiple-disease-prediction-streamlit-app-main\\.conda\\lib\\site-packages (from tensorflow-intel==2.18.0->tensorflow<2.19,>=2.18->tf_keras) (3.12.1)\n",
      "Requirement already satisfied: ml-dtypes<0.5.0,>=0.4.0 in c:\\users\\shabiul\\downloads\\multiple-disease-prediction-streamlit-app-main\\.conda\\lib\\site-packages (from tensorflow-intel==2.18.0->tensorflow<2.19,>=2.18->tf_keras) (0.4.1)\n",
      "Requirement already satisfied: tensorflow-io-gcs-filesystem>=0.23.1 in c:\\users\\shabiul\\downloads\\multiple-disease-prediction-streamlit-app-main\\.conda\\lib\\site-packages (from tensorflow-intel==2.18.0->tensorflow<2.19,>=2.18->tf_keras) (0.31.0)\n",
      "Requirement already satisfied: wheel<1.0,>=0.23.0 in c:\\users\\shabiul\\downloads\\multiple-disease-prediction-streamlit-app-main\\.conda\\lib\\site-packages (from astunparse>=1.6.0->tensorflow-intel==2.18.0->tensorflow<2.19,>=2.18->tf_keras) (0.45.1)\n",
      "Requirement already satisfied: rich in c:\\users\\shabiul\\downloads\\multiple-disease-prediction-streamlit-app-main\\.conda\\lib\\site-packages (from keras>=3.5.0->tensorflow-intel==2.18.0->tensorflow<2.19,>=2.18->tf_keras) (13.9.4)\n",
      "Requirement already satisfied: namex in c:\\users\\shabiul\\downloads\\multiple-disease-prediction-streamlit-app-main\\.conda\\lib\\site-packages (from keras>=3.5.0->tensorflow-intel==2.18.0->tensorflow<2.19,>=2.18->tf_keras) (0.0.8)\n",
      "Requirement already satisfied: optree in c:\\users\\shabiul\\downloads\\multiple-disease-prediction-streamlit-app-main\\.conda\\lib\\site-packages (from keras>=3.5.0->tensorflow-intel==2.18.0->tensorflow<2.19,>=2.18->tf_keras) (0.14.0)\n",
      "Requirement already satisfied: charset-normalizer<4,>=2 in c:\\users\\shabiul\\downloads\\multiple-disease-prediction-streamlit-app-main\\.conda\\lib\\site-packages (from requests<3,>=2.21.0->tensorflow-intel==2.18.0->tensorflow<2.19,>=2.18->tf_keras) (3.4.1)\n",
      "Requirement already satisfied: idna<4,>=2.5 in c:\\users\\shabiul\\downloads\\multiple-disease-prediction-streamlit-app-main\\.conda\\lib\\site-packages (from requests<3,>=2.21.0->tensorflow-intel==2.18.0->tensorflow<2.19,>=2.18->tf_keras) (3.10)\n",
      "Requirement already satisfied: urllib3<3,>=1.21.1 in c:\\users\\shabiul\\downloads\\multiple-disease-prediction-streamlit-app-main\\.conda\\lib\\site-packages (from requests<3,>=2.21.0->tensorflow-intel==2.18.0->tensorflow<2.19,>=2.18->tf_keras) (2.3.0)\n",
      "Requirement already satisfied: certifi>=2017.4.17 in c:\\users\\shabiul\\downloads\\multiple-disease-prediction-streamlit-app-main\\.conda\\lib\\site-packages (from requests<3,>=2.21.0->tensorflow-intel==2.18.0->tensorflow<2.19,>=2.18->tf_keras) (2025.1.31)\n",
      "Requirement already satisfied: markdown>=2.6.8 in c:\\users\\shabiul\\downloads\\multiple-disease-prediction-streamlit-app-main\\.conda\\lib\\site-packages (from tensorboard<2.19,>=2.18->tensorflow-intel==2.18.0->tensorflow<2.19,>=2.18->tf_keras) (3.7)\n",
      "Collecting tensorboard-data-server<0.8.0,>=0.7.0 (from tensorboard<2.19,>=2.18->tensorflow-intel==2.18.0->tensorflow<2.19,>=2.18->tf_keras)\n",
      "  Using cached tensorboard_data_server-0.7.2-py3-none-any.whl.metadata (1.1 kB)\n",
      "Requirement already satisfied: werkzeug>=1.0.1 in c:\\users\\shabiul\\downloads\\multiple-disease-prediction-streamlit-app-main\\.conda\\lib\\site-packages (from tensorboard<2.19,>=2.18->tensorflow-intel==2.18.0->tensorflow<2.19,>=2.18->tf_keras) (3.1.3)\n",
      "Requirement already satisfied: MarkupSafe>=2.1.1 in c:\\users\\shabiul\\downloads\\multiple-disease-prediction-streamlit-app-main\\.conda\\lib\\site-packages (from werkzeug>=1.0.1->tensorboard<2.19,>=2.18->tensorflow-intel==2.18.0->tensorflow<2.19,>=2.18->tf_keras) (3.0.2)\n",
      "Requirement already satisfied: markdown-it-py>=2.2.0 in c:\\users\\shabiul\\downloads\\multiple-disease-prediction-streamlit-app-main\\.conda\\lib\\site-packages (from rich->keras>=3.5.0->tensorflow-intel==2.18.0->tensorflow<2.19,>=2.18->tf_keras) (3.0.0)\n",
      "Requirement already satisfied: pygments<3.0.0,>=2.13.0 in c:\\users\\shabiul\\downloads\\multiple-disease-prediction-streamlit-app-main\\.conda\\lib\\site-packages (from rich->keras>=3.5.0->tensorflow-intel==2.18.0->tensorflow<2.19,>=2.18->tf_keras) (2.19.1)\n",
      "Requirement already satisfied: mdurl~=0.1 in c:\\users\\shabiul\\downloads\\multiple-disease-prediction-streamlit-app-main\\.conda\\lib\\site-packages (from markdown-it-py>=2.2.0->rich->keras>=3.5.0->tensorflow-intel==2.18.0->tensorflow<2.19,>=2.18->tf_keras) (0.1.2)\n",
      "Using cached keras-3.8.0-py3-none-any.whl (1.3 MB)\n",
      "Using cached protobuf-5.29.3-cp310-abi3-win_amd64.whl (434 kB)\n",
      "Using cached tensorboard-2.18.0-py3-none-any.whl (5.5 MB)\n",
      "Using cached tensorboard_data_server-0.7.2-py3-none-any.whl (2.4 kB)\n",
      "Installing collected packages: tensorboard-data-server, protobuf, tensorboard, keras\n",
      "  Attempting uninstall: tensorboard-data-server\n",
      "    Found existing installation: tensorboard-data-server 0.6.1\n",
      "    Uninstalling tensorboard-data-server-0.6.1:\n",
      "      Successfully uninstalled tensorboard-data-server-0.6.1\n",
      "  Attempting uninstall: protobuf\n",
      "    Found existing installation: protobuf 3.19.6\n",
      "    Uninstalling protobuf-3.19.6:\n",
      "      Successfully uninstalled protobuf-3.19.6\n",
      "  Attempting uninstall: tensorboard\n",
      "    Found existing installation: tensorboard 2.10.1\n",
      "    Uninstalling tensorboard-2.10.1:\n",
      "      Successfully uninstalled tensorboard-2.10.1\n",
      "  Attempting uninstall: keras\n",
      "    Found existing installation: keras 2.10.0\n",
      "    Uninstalling keras-2.10.0:\n",
      "      Successfully uninstalled keras-2.10.0\n",
      "Successfully installed keras-3.8.0 protobuf-5.29.3 tensorboard-2.18.0 tensorboard-data-server-0.7.2\n",
      "Note: you may need to restart the kernel to use updated packages.\n"
     ]
    }
   ],
   "source": [
    "%pip install tf_keras"
   ]
  },
  {
   "cell_type": "code",
   "execution_count": 50,
   "metadata": {
    "id": "Juu4glnuCdpP"
   },
   "outputs": [],
   "source": [
    "# Create a function which builds a Keras model\n",
    "def create_model(input_shape=INPUT_SHAPE, output_shape=OUTPUT_SHAPE, model_url=MODEL_URL):\n",
    "  print(\"Building model with:\", MODEL_URL)\n",
    "\n",
    "  # Setup the model layers\n",
    "  model = keras.Sequential([\n",
    "    hub.KerasLayer(MODEL_URL), # Layer 1 (input layer)\n",
    "    keras.layers.Dense(units=OUTPUT_SHAPE,\n",
    "                          activation=\"softmax\") # Layer 2 (output layer)\n",
    "  ])\n",
    "\n",
    "  # Compile the model\n",
    "  model.compile(\n",
    "      loss=keras.losses.CategoricalCrossentropy(),\n",
    "      optimizer=keras.optimizers.Adam(),\n",
    "      metrics=[\"accuracy\"]\n",
    "  )\n",
    "\n",
    "  # Build the model\n",
    "  model.build(INPUT_SHAPE)\n",
    "\n",
    "  return model"
   ]
  },
  {
   "cell_type": "code",
   "execution_count": 51,
   "metadata": {
    "id": "R_B8l00oCMre",
    "outputId": "a86d2cc3-b49f-4489-c07c-99143cdfad72"
   },
   "outputs": [
    {
     "name": "stdout",
     "output_type": "stream",
     "text": [
      "Building model with: https://tfhub.dev/google/imagenet/resnet_v2_50/feature_vector/5\n",
      "Model: \"sequential_1\"\n",
      "_________________________________________________________________\n",
      " Layer (type)                Output Shape              Param #   \n",
      "=================================================================\n",
      " keras_layer_1 (KerasLayer)  (None, 2048)              23564800  \n",
      "                                                                 \n",
      " dense (Dense)               (None, 4)                 8196      \n",
      "                                                                 \n",
      "=================================================================\n",
      "Total params: 23572996 (89.92 MB)\n",
      "Trainable params: 8196 (32.02 KB)\n",
      "Non-trainable params: 23564800 (89.89 MB)\n",
      "_________________________________________________________________\n"
     ]
    }
   ],
   "source": [
    "model=create_model()\n",
    "model.summary()"
   ]
  },
  {
   "cell_type": "markdown",
   "metadata": {
    "id": "0dU0Df5jCuqN"
   },
   "source": [
    "##Excellent"
   ]
  },
  {
   "cell_type": "code",
   "execution_count": 52,
   "metadata": {
    "id": "eoTi6S_NCh5N"
   },
   "outputs": [],
   "source": [
    "# Load TensorBoard notebook extension\n",
    "%load_ext tensorboard\n",
    "\n",
    "# this is the magic function"
   ]
  },
  {
   "cell_type": "code",
   "execution_count": 53,
   "metadata": {
    "id": "nUXlWHbRC6fK"
   },
   "outputs": [],
   "source": [
    "import datetime\n",
    "import os\n",
    "\n",
    "\n",
    "# Create a function to build a TensorBoard callback\n",
    "def create_tensorboard_callback():\n",
    "  # Create a log directory for storing TensorBoard logs\n",
    "  logdir = os.path.join(\"/logs\",\n",
    "\n",
    "  # Make it so the logs get tracked whenever we run an experiment (%year%month%day-%hour%minites% seconds)\n",
    "  datetime.datetime.now().strftime(\"%Y%m%d-%H%M%S\"))\n",
    "  return keras.callbacks.TensorBoard(logdir)\n",
    "\n",
    "  # it will store model records in logdir (log folder) which is iam created specifically to store experiment data"
   ]
  },
  {
   "cell_type": "code",
   "execution_count": 54,
   "metadata": {
    "id": "jmcMG-RKDKoK"
   },
   "outputs": [],
   "source": [
    "# Create early stopping callback to prevent overfitting\n",
    "early_stopping = keras.callbacks.EarlyStopping(monitor=\"val_accuracy\",\n",
    "                                                  patience=3)"
   ]
  },
  {
   "cell_type": "code",
   "execution_count": 55,
   "metadata": {
    "id": "nVqu8o_GDQJW"
   },
   "outputs": [],
   "source": [
    "NUM_EPOCHS = 100 #@param {type:\"slider\", min:10, max:100, step:10}"
   ]
  },
  {
   "cell_type": "code",
   "execution_count": 56,
   "metadata": {
    "id": "o3-omcN5DUJw"
   },
   "outputs": [],
   "source": [
    "# Build a function to train and return a trained model\n",
    "def train_model():\n",
    "  \"\"\"\n",
    "  Trains a given model and returns the trained version.\n",
    "  \"\"\"\n",
    "  model = create_model()\n",
    "  tensorboard = create_tensorboard_callback()\n",
    "\n",
    "  # Fit the model to the data\n",
    "  model.fit(x=train_data,\n",
    "            epochs=NUM_EPOCHS,\n",
    "            validation_data=valid_data,\n",
    "            validation_freq=1,\n",
    "            callbacks=[tensorboard, early_stopping])\n",
    "  # Return the fitted model\n",
    "  return model"
   ]
  },
  {
   "cell_type": "code",
   "execution_count": 57,
   "metadata": {
    "id": "XpdZ0c8oDjr1"
   },
   "outputs": [],
   "source": [
    "\n",
    "def get_pred_label(prediction_probabilities):\n",
    "  \"\"\"\n",
    "  Turns an array of prediction probabilities into a label.\n",
    "  \"\"\"\n",
    "  return unique_brain_tumor_types[np.argmax(prediction_probabilities)]"
   ]
  },
  {
   "cell_type": "code",
   "execution_count": 58,
   "metadata": {
    "id": "7J6i_laNDn5p"
   },
   "outputs": [],
   "source": [
    "## lets unbatch then only we are able to visualize\n",
    "# Create a function to unbatch a batch dataset\n",
    "\n",
    "def unbatchify(data, include_labels=True):\n",
    "    \"\"\"\n",
    "function for unbatch\n",
    "    \"\"\"\n",
    "    images = []\n",
    "    labels = []\n",
    "\n",
    "    # Loop through unbatched data\n",
    "    for item in data.unbatch().as_numpy_iterator():\n",
    "        if include_labels:\n",
    "            image, label = item\n",
    "            images.append(image)\n",
    "            labels.append(unique_brain_tumor_types[np.argmax(label)])\n",
    "        else:\n",
    "            image = item\n",
    "            images.append(image)\n",
    "\n",
    "    return (images, labels) if include_labels else images"
   ]
  },
  {
   "cell_type": "code",
   "execution_count": 59,
   "metadata": {
    "id": "_o2pjF-4D3Hq"
   },
   "outputs": [],
   "source": [
    "def plot_pred(prediction_probabilities, labels, images, n=1):\n",
    "  \"\"\"\n",
    "  View the prediction, ground truth and image for sample n\n",
    "  \"\"\"\n",
    "  pred_prob, true_label, image = prediction_probabilities[n], labels[n], images[n]\n",
    "\n",
    "  # Get the pred label\n",
    "  pred_label = get_pred_label(pred_prob)\n",
    "\n",
    "  # Plot image & remove ticks\n",
    "  plt.imshow(image)\n",
    "  plt.xticks([])\n",
    "  plt.yticks([])\n",
    "\n",
    "  # Change the colour of the title depending on if the prediction is right or wrong\n",
    "  if pred_label == true_label:\n",
    "    color = \"green\"\n",
    "  else:\n",
    "    color = \"red\"\n",
    "\n",
    "  # Change plot title to be predicted, probability of prediction and truth label\n",
    "  plt.title(\"{} {:2.0f}% {}\".format(pred_label,\n",
    "                                    np.max(pred_prob)*100,\n",
    "                                    true_label),\n",
    "                                    color=color)"
   ]
  },
  {
   "cell_type": "code",
   "execution_count": 60,
   "metadata": {
    "id": "r0YMnhFzD7xG"
   },
   "outputs": [],
   "source": [
    "def plot_pred_conf(prediction_probabilities, labels, n=1):\n",
    "  \"\"\"\n",
    "  Plus the top 10 highest prediction confidences along with the truth label for sample n.\n",
    "  \"\"\"\n",
    "  pred_prob, true_label = prediction_probabilities[n], labels[n]\n",
    "\n",
    "  # Get the predicted label\n",
    "  pred_label = get_pred_label(pred_prob)\n",
    "\n",
    "  # Find the top 10 prediction confidence indexes\n",
    "  top_10_pred_indexes = pred_prob.argsort()[-10:][::-1]\n",
    "  # Find the top 10 prediction confidence values\n",
    "  top_10_pred_values = pred_prob[top_10_pred_indexes]\n",
    "  # Find the top 10 prediction labels\n",
    "  top_10_pred_labels = unique_brain_tumor_types[top_10_pred_indexes]\n",
    "\n",
    "  # Setup plot\n",
    "  top_plot = plt.bar(np.arange(len(top_10_pred_labels)),\n",
    "                     top_10_pred_values,\n",
    "                     color=\"grey\")\n",
    "  plt.xticks(np.arange(len(top_10_pred_labels)),\n",
    "             labels=top_10_pred_labels,\n",
    "             rotation=\"vertical\")\n",
    "\n",
    "  # Change color of true label\n",
    "  if np.isin(true_label, top_10_pred_labels):\n",
    "    top_plot[np.argmax(top_10_pred_labels == true_label)].set_color(\"green\")\n",
    "  else:\n",
    "    pass"
   ]
  },
  {
   "cell_type": "code",
   "execution_count": 61,
   "metadata": {
    "id": "RBx6UW-5EB7i"
   },
   "outputs": [],
   "source": [
    "# Create a function to save a model\n",
    "def save_model(model, suffix=None):\n",
    "  \"\"\"\n",
    "  Saves a given model in a models directory\n",
    "  \"\"\"\n",
    "  # Create a model directory pathname with current time\n",
    "  modeldir = os.path.join(\"/content/drive/MyDrive/Colab Notebooks/models\",\n",
    "                          datetime.datetime.now().strftime(\"%Y%m%d-%H%M%s\"))\n",
    "  model_path = modeldir + \"-\" + suffix + \".h5\" # save format of model\n",
    "  print(f\"Saving model to: {model_path}...\")\n",
    "  model.save(model_path)\n",
    "  return model_path"
   ]
  },
  {
   "cell_type": "code",
   "execution_count": 62,
   "metadata": {
    "id": "hfDv4vxrEGx7"
   },
   "outputs": [],
   "source": [
    "# Create a function to load a trained model\n",
    "def load_model(model_path):\n",
    "  \"\"\"\n",
    "  Loads a saved model from a specified path.\n",
    "  \"\"\"\n",
    "  print(f\"Loading saved model from: {model_path}\")\n",
    "  model = keras.models.load_model(model_path,\n",
    "                                     custom_objects={\"KerasLayer\":hub.KerasLayer})\n",
    "  return model"
   ]
  },
  {
   "cell_type": "markdown",
   "metadata": {
    "id": "bqfhkqabEKLh"
   },
   "source": [
    "## All functions are ready"
   ]
  },
  {
   "cell_type": "code",
   "execution_count": 63,
   "metadata": {
    "id": "CA96evQhEJNK",
    "outputId": "a16a5380-40b1-4bac-8dc2-4892748e4bbd"
   },
   "outputs": [
    {
     "data": {
      "text/plain": [
       "(5712, 5712)"
      ]
     },
     "execution_count": 63,
     "metadata": {},
     "output_type": "execute_result"
    }
   ],
   "source": [
    "len(X), len(Y)\n",
    "# in this x contain file names and y contain boolean labels"
   ]
  },
  {
   "cell_type": "code",
   "execution_count": 64,
   "metadata": {
    "id": "eh827wEyEVnm",
    "outputId": "1c9bfa84-f8f5-4b42-b61a-7cd713f3ca71"
   },
   "outputs": [
    {
     "name": "stdout",
     "output_type": "stream",
     "text": [
      "Creating training data batches...\n"
     ]
    }
   ],
   "source": [
    "# Create a data batch with the full data set\n",
    "# calling create_data_batches above function\n",
    "full_data = create_data_batches(X, Y)"
   ]
  },
  {
   "cell_type": "code",
   "execution_count": 65,
   "metadata": {
    "id": "hfAdWjl0EZyw",
    "outputId": "c165c60b-b116-4822-e6ef-5ed2a7968168"
   },
   "outputs": [
    {
     "data": {
      "text/plain": [
       "<_BatchDataset element_spec=(TensorSpec(shape=(None, 224, 224, 3), dtype=tf.float32, name=None), TensorSpec(shape=(None, 4), dtype=tf.bool, name=None))>"
      ]
     },
     "execution_count": 65,
     "metadata": {},
     "output_type": "execute_result"
    }
   ],
   "source": [
    "full_data"
   ]
  },
  {
   "cell_type": "code",
   "execution_count": 66,
   "metadata": {
    "id": "Nmm-PWcHEcKB",
    "outputId": "57ac1256-6773-48a7-f2ec-584a0c2f7bcd"
   },
   "outputs": [
    {
     "name": "stdout",
     "output_type": "stream",
     "text": [
      "Building model with: https://tfhub.dev/google/imagenet/resnet_v2_50/feature_vector/5\n"
     ]
    }
   ],
   "source": [
    "full_model = create_model() # create model function we created above"
   ]
  },
  {
   "cell_type": "code",
   "execution_count": 67,
   "metadata": {
    "id": "7JfUCPe9EfMG"
   },
   "outputs": [],
   "source": [
    "# Create full model callbacks\n",
    "# below create tensorboard also we are calling above function\n",
    "full_model_tensorboard = create_tensorboard_callback()\n",
    "full_model_early_stopping = keras.callbacks.EarlyStopping(monitor=\"accuracy\",\n",
    "                                                             patience=3)"
   ]
  },
  {
   "cell_type": "code",
   "execution_count": 68,
   "metadata": {
    "id": "xOUwFyktEiiV",
    "outputId": "75c5cffc-c529-4fd4-9b1c-57bae79bdf33"
   },
   "outputs": [
    {
     "name": "stdout",
     "output_type": "stream",
     "text": [
      "Epoch 1/100\n",
      "WARNING:tensorflow:From c:\\Users\\Shabiul\\Downloads\\multiple-disease-prediction-streamlit-app-main\\.conda\\lib\\site-packages\\tf_keras\\src\\utils\\tf_utils.py:492: The name tf.ragged.RaggedTensorValue is deprecated. Please use tf.compat.v1.ragged.RaggedTensorValue instead.\n",
      "\n"
     ]
    },
    {
     "name": "stderr",
     "output_type": "stream",
     "text": [
      "WARNING:tensorflow:From c:\\Users\\Shabiul\\Downloads\\multiple-disease-prediction-streamlit-app-main\\.conda\\lib\\site-packages\\tf_keras\\src\\utils\\tf_utils.py:492: The name tf.ragged.RaggedTensorValue is deprecated. Please use tf.compat.v1.ragged.RaggedTensorValue instead.\n",
      "\n"
     ]
    },
    {
     "name": "stdout",
     "output_type": "stream",
     "text": [
      "WARNING:tensorflow:From c:\\Users\\Shabiul\\Downloads\\multiple-disease-prediction-streamlit-app-main\\.conda\\lib\\site-packages\\tf_keras\\src\\engine\\base_layer_utils.py:384: The name tf.executing_eagerly_outside_functions is deprecated. Please use tf.compat.v1.executing_eagerly_outside_functions instead.\n",
      "\n"
     ]
    },
    {
     "name": "stderr",
     "output_type": "stream",
     "text": [
      "WARNING:tensorflow:From c:\\Users\\Shabiul\\Downloads\\multiple-disease-prediction-streamlit-app-main\\.conda\\lib\\site-packages\\tf_keras\\src\\engine\\base_layer_utils.py:384: The name tf.executing_eagerly_outside_functions is deprecated. Please use tf.compat.v1.executing_eagerly_outside_functions instead.\n",
      "\n"
     ]
    },
    {
     "name": "stdout",
     "output_type": "stream",
     "text": [
      "179/179 [==============================] - 81s 441ms/step - loss: 0.5687 - accuracy: 0.7903\n",
      "Epoch 2/100\n",
      "179/179 [==============================] - 78s 434ms/step - loss: 0.2909 - accuracy: 0.9004\n",
      "Epoch 3/100\n",
      "179/179 [==============================] - 73s 408ms/step - loss: 0.2222 - accuracy: 0.9279\n",
      "Epoch 4/100\n",
      "179/179 [==============================] - 73s 406ms/step - loss: 0.1851 - accuracy: 0.9380\n",
      "Epoch 5/100\n",
      "179/179 [==============================] - 73s 405ms/step - loss: 0.1598 - accuracy: 0.9505\n",
      "Epoch 6/100\n",
      "179/179 [==============================] - 76s 425ms/step - loss: 0.1428 - accuracy: 0.9519\n",
      "Epoch 7/100\n",
      "179/179 [==============================] - 74s 412ms/step - loss: 0.1254 - accuracy: 0.9622\n",
      "Epoch 8/100\n",
      "179/179 [==============================] - 74s 411ms/step - loss: 0.1139 - accuracy: 0.9653\n",
      "Epoch 9/100\n",
      "179/179 [==============================] - 74s 413ms/step - loss: 0.1033 - accuracy: 0.9695\n",
      "Epoch 10/100\n",
      "179/179 [==============================] - 81s 454ms/step - loss: 0.0958 - accuracy: 0.9730\n",
      "Epoch 11/100\n",
      "179/179 [==============================] - 83s 465ms/step - loss: 0.0886 - accuracy: 0.9760\n",
      "Epoch 12/100\n",
      " 57/179 [========>.....................] - ETA: 51s - loss: 0.0782 - accuracy: 0.9803"
     ]
    },
    {
     "ename": "KeyboardInterrupt",
     "evalue": "",
     "output_type": "error",
     "traceback": [
      "\u001b[1;31m---------------------------------------------------------------------------\u001b[0m",
      "\u001b[1;31mKeyboardInterrupt\u001b[0m                         Traceback (most recent call last)",
      "Cell \u001b[1;32mIn[68], line 2\u001b[0m\n\u001b[0;32m      1\u001b[0m \u001b[38;5;66;03m# Fit the full model to the full data\u001b[39;00m\n\u001b[1;32m----> 2\u001b[0m \u001b[43mfull_model\u001b[49m\u001b[38;5;241;43m.\u001b[39;49m\u001b[43mfit\u001b[49m\u001b[43m(\u001b[49m\u001b[43mx\u001b[49m\u001b[38;5;241;43m=\u001b[39;49m\u001b[43mfull_data\u001b[49m\u001b[43m,\u001b[49m\n\u001b[0;32m      3\u001b[0m \u001b[43m               \u001b[49m\u001b[43mepochs\u001b[49m\u001b[38;5;241;43m=\u001b[39;49m\u001b[43mNUM_EPOCHS\u001b[49m\u001b[43m,\u001b[49m\n\u001b[0;32m      4\u001b[0m \u001b[43m               \u001b[49m\u001b[43mcallbacks\u001b[49m\u001b[38;5;241;43m=\u001b[39;49m\u001b[43m[\u001b[49m\u001b[43mfull_model_tensorboard\u001b[49m\u001b[43m,\u001b[49m\u001b[43m \u001b[49m\u001b[43mfull_model_early_stopping\u001b[49m\u001b[43m]\u001b[49m\u001b[43m)\u001b[49m\n",
      "File \u001b[1;32mc:\\Users\\Shabiul\\Downloads\\multiple-disease-prediction-streamlit-app-main\\.conda\\lib\\site-packages\\tf_keras\\src\\utils\\traceback_utils.py:65\u001b[0m, in \u001b[0;36mfilter_traceback.<locals>.error_handler\u001b[1;34m(*args, **kwargs)\u001b[0m\n\u001b[0;32m     63\u001b[0m filtered_tb \u001b[38;5;241m=\u001b[39m \u001b[38;5;28;01mNone\u001b[39;00m\n\u001b[0;32m     64\u001b[0m \u001b[38;5;28;01mtry\u001b[39;00m:\n\u001b[1;32m---> 65\u001b[0m     \u001b[38;5;28;01mreturn\u001b[39;00m fn(\u001b[38;5;241m*\u001b[39margs, \u001b[38;5;241m*\u001b[39m\u001b[38;5;241m*\u001b[39mkwargs)\n\u001b[0;32m     66\u001b[0m \u001b[38;5;28;01mexcept\u001b[39;00m \u001b[38;5;167;01mException\u001b[39;00m \u001b[38;5;28;01mas\u001b[39;00m e:\n\u001b[0;32m     67\u001b[0m     filtered_tb \u001b[38;5;241m=\u001b[39m _process_traceback_frames(e\u001b[38;5;241m.\u001b[39m__traceback__)\n",
      "File \u001b[1;32mc:\\Users\\Shabiul\\Downloads\\multiple-disease-prediction-streamlit-app-main\\.conda\\lib\\site-packages\\tf_keras\\src\\engine\\training.py:1804\u001b[0m, in \u001b[0;36mModel.fit\u001b[1;34m(self, x, y, batch_size, epochs, verbose, callbacks, validation_split, validation_data, shuffle, class_weight, sample_weight, initial_epoch, steps_per_epoch, validation_steps, validation_batch_size, validation_freq, max_queue_size, workers, use_multiprocessing)\u001b[0m\n\u001b[0;32m   1796\u001b[0m \u001b[38;5;28;01mwith\u001b[39;00m tf\u001b[38;5;241m.\u001b[39mprofiler\u001b[38;5;241m.\u001b[39mexperimental\u001b[38;5;241m.\u001b[39mTrace(\n\u001b[0;32m   1797\u001b[0m     \u001b[38;5;124m\"\u001b[39m\u001b[38;5;124mtrain\u001b[39m\u001b[38;5;124m\"\u001b[39m,\n\u001b[0;32m   1798\u001b[0m     epoch_num\u001b[38;5;241m=\u001b[39mepoch,\n\u001b[1;32m   (...)\u001b[0m\n\u001b[0;32m   1801\u001b[0m     _r\u001b[38;5;241m=\u001b[39m\u001b[38;5;241m1\u001b[39m,\n\u001b[0;32m   1802\u001b[0m ):\n\u001b[0;32m   1803\u001b[0m     callbacks\u001b[38;5;241m.\u001b[39mon_train_batch_begin(step)\n\u001b[1;32m-> 1804\u001b[0m     tmp_logs \u001b[38;5;241m=\u001b[39m \u001b[38;5;28;43mself\u001b[39;49m\u001b[38;5;241;43m.\u001b[39;49m\u001b[43mtrain_function\u001b[49m\u001b[43m(\u001b[49m\u001b[43miterator\u001b[49m\u001b[43m)\u001b[49m\n\u001b[0;32m   1805\u001b[0m     \u001b[38;5;28;01mif\u001b[39;00m data_handler\u001b[38;5;241m.\u001b[39mshould_sync:\n\u001b[0;32m   1806\u001b[0m         context\u001b[38;5;241m.\u001b[39masync_wait()\n",
      "File \u001b[1;32mc:\\Users\\Shabiul\\Downloads\\multiple-disease-prediction-streamlit-app-main\\.conda\\lib\\site-packages\\tensorflow\\python\\util\\traceback_utils.py:150\u001b[0m, in \u001b[0;36mfilter_traceback.<locals>.error_handler\u001b[1;34m(*args, **kwargs)\u001b[0m\n\u001b[0;32m    148\u001b[0m filtered_tb \u001b[38;5;241m=\u001b[39m \u001b[38;5;28;01mNone\u001b[39;00m\n\u001b[0;32m    149\u001b[0m \u001b[38;5;28;01mtry\u001b[39;00m:\n\u001b[1;32m--> 150\u001b[0m   \u001b[38;5;28;01mreturn\u001b[39;00m fn(\u001b[38;5;241m*\u001b[39margs, \u001b[38;5;241m*\u001b[39m\u001b[38;5;241m*\u001b[39mkwargs)\n\u001b[0;32m    151\u001b[0m \u001b[38;5;28;01mexcept\u001b[39;00m \u001b[38;5;167;01mException\u001b[39;00m \u001b[38;5;28;01mas\u001b[39;00m e:\n\u001b[0;32m    152\u001b[0m   filtered_tb \u001b[38;5;241m=\u001b[39m _process_traceback_frames(e\u001b[38;5;241m.\u001b[39m__traceback__)\n",
      "File \u001b[1;32mc:\\Users\\Shabiul\\Downloads\\multiple-disease-prediction-streamlit-app-main\\.conda\\lib\\site-packages\\tensorflow\\python\\eager\\polymorphic_function\\polymorphic_function.py:833\u001b[0m, in \u001b[0;36mFunction.__call__\u001b[1;34m(self, *args, **kwds)\u001b[0m\n\u001b[0;32m    830\u001b[0m compiler \u001b[38;5;241m=\u001b[39m \u001b[38;5;124m\"\u001b[39m\u001b[38;5;124mxla\u001b[39m\u001b[38;5;124m\"\u001b[39m \u001b[38;5;28;01mif\u001b[39;00m \u001b[38;5;28mself\u001b[39m\u001b[38;5;241m.\u001b[39m_jit_compile \u001b[38;5;28;01melse\u001b[39;00m \u001b[38;5;124m\"\u001b[39m\u001b[38;5;124mnonXla\u001b[39m\u001b[38;5;124m\"\u001b[39m\n\u001b[0;32m    832\u001b[0m \u001b[38;5;28;01mwith\u001b[39;00m OptionalXlaContext(\u001b[38;5;28mself\u001b[39m\u001b[38;5;241m.\u001b[39m_jit_compile):\n\u001b[1;32m--> 833\u001b[0m   result \u001b[38;5;241m=\u001b[39m \u001b[38;5;28mself\u001b[39m\u001b[38;5;241m.\u001b[39m_call(\u001b[38;5;241m*\u001b[39margs, \u001b[38;5;241m*\u001b[39m\u001b[38;5;241m*\u001b[39mkwds)\n\u001b[0;32m    835\u001b[0m new_tracing_count \u001b[38;5;241m=\u001b[39m \u001b[38;5;28mself\u001b[39m\u001b[38;5;241m.\u001b[39mexperimental_get_tracing_count()\n\u001b[0;32m    836\u001b[0m without_tracing \u001b[38;5;241m=\u001b[39m (tracing_count \u001b[38;5;241m==\u001b[39m new_tracing_count)\n",
      "File \u001b[1;32mc:\\Users\\Shabiul\\Downloads\\multiple-disease-prediction-streamlit-app-main\\.conda\\lib\\site-packages\\tensorflow\\python\\eager\\polymorphic_function\\polymorphic_function.py:869\u001b[0m, in \u001b[0;36mFunction._call\u001b[1;34m(self, *args, **kwds)\u001b[0m\n\u001b[0;32m    866\u001b[0m   \u001b[38;5;28mself\u001b[39m\u001b[38;5;241m.\u001b[39m_lock\u001b[38;5;241m.\u001b[39mrelease()\n\u001b[0;32m    867\u001b[0m   \u001b[38;5;66;03m# In this case we have created variables on the first call, so we run the\u001b[39;00m\n\u001b[0;32m    868\u001b[0m   \u001b[38;5;66;03m# defunned version which is guaranteed to never create variables.\u001b[39;00m\n\u001b[1;32m--> 869\u001b[0m   \u001b[38;5;28;01mreturn\u001b[39;00m \u001b[43mtracing_compilation\u001b[49m\u001b[38;5;241;43m.\u001b[39;49m\u001b[43mcall_function\u001b[49m\u001b[43m(\u001b[49m\n\u001b[0;32m    870\u001b[0m \u001b[43m      \u001b[49m\u001b[43margs\u001b[49m\u001b[43m,\u001b[49m\u001b[43m \u001b[49m\u001b[43mkwds\u001b[49m\u001b[43m,\u001b[49m\u001b[43m \u001b[49m\u001b[38;5;28;43mself\u001b[39;49m\u001b[38;5;241;43m.\u001b[39;49m\u001b[43m_no_variable_creation_config\u001b[49m\n\u001b[0;32m    871\u001b[0m \u001b[43m  \u001b[49m\u001b[43m)\u001b[49m\n\u001b[0;32m    872\u001b[0m \u001b[38;5;28;01melif\u001b[39;00m \u001b[38;5;28mself\u001b[39m\u001b[38;5;241m.\u001b[39m_variable_creation_config \u001b[38;5;129;01mis\u001b[39;00m \u001b[38;5;129;01mnot\u001b[39;00m \u001b[38;5;28;01mNone\u001b[39;00m:\n\u001b[0;32m    873\u001b[0m   \u001b[38;5;66;03m# Release the lock early so that multiple threads can perform the call\u001b[39;00m\n\u001b[0;32m    874\u001b[0m   \u001b[38;5;66;03m# in parallel.\u001b[39;00m\n\u001b[0;32m    875\u001b[0m   \u001b[38;5;28mself\u001b[39m\u001b[38;5;241m.\u001b[39m_lock\u001b[38;5;241m.\u001b[39mrelease()\n",
      "File \u001b[1;32mc:\\Users\\Shabiul\\Downloads\\multiple-disease-prediction-streamlit-app-main\\.conda\\lib\\site-packages\\tensorflow\\python\\eager\\polymorphic_function\\tracing_compilation.py:139\u001b[0m, in \u001b[0;36mcall_function\u001b[1;34m(args, kwargs, tracing_options)\u001b[0m\n\u001b[0;32m    137\u001b[0m bound_args \u001b[38;5;241m=\u001b[39m function\u001b[38;5;241m.\u001b[39mfunction_type\u001b[38;5;241m.\u001b[39mbind(\u001b[38;5;241m*\u001b[39margs, \u001b[38;5;241m*\u001b[39m\u001b[38;5;241m*\u001b[39mkwargs)\n\u001b[0;32m    138\u001b[0m flat_inputs \u001b[38;5;241m=\u001b[39m function\u001b[38;5;241m.\u001b[39mfunction_type\u001b[38;5;241m.\u001b[39munpack_inputs(bound_args)\n\u001b[1;32m--> 139\u001b[0m \u001b[38;5;28;01mreturn\u001b[39;00m \u001b[43mfunction\u001b[49m\u001b[38;5;241;43m.\u001b[39;49m\u001b[43m_call_flat\u001b[49m\u001b[43m(\u001b[49m\u001b[43m  \u001b[49m\u001b[38;5;66;43;03m# pylint: disable=protected-access\u001b[39;49;00m\n\u001b[0;32m    140\u001b[0m \u001b[43m    \u001b[49m\u001b[43mflat_inputs\u001b[49m\u001b[43m,\u001b[49m\u001b[43m \u001b[49m\u001b[43mcaptured_inputs\u001b[49m\u001b[38;5;241;43m=\u001b[39;49m\u001b[43mfunction\u001b[49m\u001b[38;5;241;43m.\u001b[39;49m\u001b[43mcaptured_inputs\u001b[49m\n\u001b[0;32m    141\u001b[0m \u001b[43m\u001b[49m\u001b[43m)\u001b[49m\n",
      "File \u001b[1;32mc:\\Users\\Shabiul\\Downloads\\multiple-disease-prediction-streamlit-app-main\\.conda\\lib\\site-packages\\tensorflow\\python\\eager\\polymorphic_function\\concrete_function.py:1322\u001b[0m, in \u001b[0;36mConcreteFunction._call_flat\u001b[1;34m(self, tensor_inputs, captured_inputs)\u001b[0m\n\u001b[0;32m   1318\u001b[0m possible_gradient_type \u001b[38;5;241m=\u001b[39m gradients_util\u001b[38;5;241m.\u001b[39mPossibleTapeGradientTypes(args)\n\u001b[0;32m   1319\u001b[0m \u001b[38;5;28;01mif\u001b[39;00m (possible_gradient_type \u001b[38;5;241m==\u001b[39m gradients_util\u001b[38;5;241m.\u001b[39mPOSSIBLE_GRADIENT_TYPES_NONE\n\u001b[0;32m   1320\u001b[0m     \u001b[38;5;129;01mand\u001b[39;00m executing_eagerly):\n\u001b[0;32m   1321\u001b[0m   \u001b[38;5;66;03m# No tape is watching; skip to running the function.\u001b[39;00m\n\u001b[1;32m-> 1322\u001b[0m   \u001b[38;5;28;01mreturn\u001b[39;00m \u001b[38;5;28;43mself\u001b[39;49m\u001b[38;5;241;43m.\u001b[39;49m\u001b[43m_inference_function\u001b[49m\u001b[38;5;241;43m.\u001b[39;49m\u001b[43mcall_preflattened\u001b[49m\u001b[43m(\u001b[49m\u001b[43margs\u001b[49m\u001b[43m)\u001b[49m\n\u001b[0;32m   1323\u001b[0m forward_backward \u001b[38;5;241m=\u001b[39m \u001b[38;5;28mself\u001b[39m\u001b[38;5;241m.\u001b[39m_select_forward_and_backward_functions(\n\u001b[0;32m   1324\u001b[0m     args,\n\u001b[0;32m   1325\u001b[0m     possible_gradient_type,\n\u001b[0;32m   1326\u001b[0m     executing_eagerly)\n\u001b[0;32m   1327\u001b[0m forward_function, args_with_tangents \u001b[38;5;241m=\u001b[39m forward_backward\u001b[38;5;241m.\u001b[39mforward()\n",
      "File \u001b[1;32mc:\\Users\\Shabiul\\Downloads\\multiple-disease-prediction-streamlit-app-main\\.conda\\lib\\site-packages\\tensorflow\\python\\eager\\polymorphic_function\\atomic_function.py:216\u001b[0m, in \u001b[0;36mAtomicFunction.call_preflattened\u001b[1;34m(self, args)\u001b[0m\n\u001b[0;32m    214\u001b[0m \u001b[38;5;28;01mdef\u001b[39;00m\u001b[38;5;250m \u001b[39m\u001b[38;5;21mcall_preflattened\u001b[39m(\u001b[38;5;28mself\u001b[39m, args: Sequence[core\u001b[38;5;241m.\u001b[39mTensor]) \u001b[38;5;241m-\u001b[39m\u001b[38;5;241m>\u001b[39m Any:\n\u001b[0;32m    215\u001b[0m \u001b[38;5;250m  \u001b[39m\u001b[38;5;124;03m\"\"\"Calls with flattened tensor inputs and returns the structured output.\"\"\"\u001b[39;00m\n\u001b[1;32m--> 216\u001b[0m   flat_outputs \u001b[38;5;241m=\u001b[39m \u001b[38;5;28;43mself\u001b[39;49m\u001b[38;5;241;43m.\u001b[39;49m\u001b[43mcall_flat\u001b[49m\u001b[43m(\u001b[49m\u001b[38;5;241;43m*\u001b[39;49m\u001b[43margs\u001b[49m\u001b[43m)\u001b[49m\n\u001b[0;32m    217\u001b[0m   \u001b[38;5;28;01mreturn\u001b[39;00m \u001b[38;5;28mself\u001b[39m\u001b[38;5;241m.\u001b[39mfunction_type\u001b[38;5;241m.\u001b[39mpack_output(flat_outputs)\n",
      "File \u001b[1;32mc:\\Users\\Shabiul\\Downloads\\multiple-disease-prediction-streamlit-app-main\\.conda\\lib\\site-packages\\tensorflow\\python\\eager\\polymorphic_function\\atomic_function.py:251\u001b[0m, in \u001b[0;36mAtomicFunction.call_flat\u001b[1;34m(self, *args)\u001b[0m\n\u001b[0;32m    249\u001b[0m \u001b[38;5;28;01mwith\u001b[39;00m record\u001b[38;5;241m.\u001b[39mstop_recording():\n\u001b[0;32m    250\u001b[0m   \u001b[38;5;28;01mif\u001b[39;00m \u001b[38;5;28mself\u001b[39m\u001b[38;5;241m.\u001b[39m_bound_context\u001b[38;5;241m.\u001b[39mexecuting_eagerly():\n\u001b[1;32m--> 251\u001b[0m     outputs \u001b[38;5;241m=\u001b[39m \u001b[38;5;28;43mself\u001b[39;49m\u001b[38;5;241;43m.\u001b[39;49m\u001b[43m_bound_context\u001b[49m\u001b[38;5;241;43m.\u001b[39;49m\u001b[43mcall_function\u001b[49m\u001b[43m(\u001b[49m\n\u001b[0;32m    252\u001b[0m \u001b[43m        \u001b[49m\u001b[38;5;28;43mself\u001b[39;49m\u001b[38;5;241;43m.\u001b[39;49m\u001b[43mname\u001b[49m\u001b[43m,\u001b[49m\n\u001b[0;32m    253\u001b[0m \u001b[43m        \u001b[49m\u001b[38;5;28;43mlist\u001b[39;49m\u001b[43m(\u001b[49m\u001b[43margs\u001b[49m\u001b[43m)\u001b[49m\u001b[43m,\u001b[49m\n\u001b[0;32m    254\u001b[0m \u001b[43m        \u001b[49m\u001b[38;5;28;43mlen\u001b[39;49m\u001b[43m(\u001b[49m\u001b[38;5;28;43mself\u001b[39;49m\u001b[38;5;241;43m.\u001b[39;49m\u001b[43mfunction_type\u001b[49m\u001b[38;5;241;43m.\u001b[39;49m\u001b[43mflat_outputs\u001b[49m\u001b[43m)\u001b[49m\u001b[43m,\u001b[49m\n\u001b[0;32m    255\u001b[0m \u001b[43m    \u001b[49m\u001b[43m)\u001b[49m\n\u001b[0;32m    256\u001b[0m   \u001b[38;5;28;01melse\u001b[39;00m:\n\u001b[0;32m    257\u001b[0m     outputs \u001b[38;5;241m=\u001b[39m make_call_op_in_graph(\n\u001b[0;32m    258\u001b[0m         \u001b[38;5;28mself\u001b[39m,\n\u001b[0;32m    259\u001b[0m         \u001b[38;5;28mlist\u001b[39m(args),\n\u001b[0;32m    260\u001b[0m         \u001b[38;5;28mself\u001b[39m\u001b[38;5;241m.\u001b[39m_bound_context\u001b[38;5;241m.\u001b[39mfunction_call_options\u001b[38;5;241m.\u001b[39mas_attrs(),\n\u001b[0;32m    261\u001b[0m     )\n",
      "File \u001b[1;32mc:\\Users\\Shabiul\\Downloads\\multiple-disease-prediction-streamlit-app-main\\.conda\\lib\\site-packages\\tensorflow\\python\\eager\\context.py:1683\u001b[0m, in \u001b[0;36mContext.call_function\u001b[1;34m(self, name, tensor_inputs, num_outputs)\u001b[0m\n\u001b[0;32m   1681\u001b[0m cancellation_context \u001b[38;5;241m=\u001b[39m cancellation\u001b[38;5;241m.\u001b[39mcontext()\n\u001b[0;32m   1682\u001b[0m \u001b[38;5;28;01mif\u001b[39;00m cancellation_context \u001b[38;5;129;01mis\u001b[39;00m \u001b[38;5;28;01mNone\u001b[39;00m:\n\u001b[1;32m-> 1683\u001b[0m   outputs \u001b[38;5;241m=\u001b[39m \u001b[43mexecute\u001b[49m\u001b[38;5;241;43m.\u001b[39;49m\u001b[43mexecute\u001b[49m\u001b[43m(\u001b[49m\n\u001b[0;32m   1684\u001b[0m \u001b[43m      \u001b[49m\u001b[43mname\u001b[49m\u001b[38;5;241;43m.\u001b[39;49m\u001b[43mdecode\u001b[49m\u001b[43m(\u001b[49m\u001b[38;5;124;43m\"\u001b[39;49m\u001b[38;5;124;43mutf-8\u001b[39;49m\u001b[38;5;124;43m\"\u001b[39;49m\u001b[43m)\u001b[49m\u001b[43m,\u001b[49m\n\u001b[0;32m   1685\u001b[0m \u001b[43m      \u001b[49m\u001b[43mnum_outputs\u001b[49m\u001b[38;5;241;43m=\u001b[39;49m\u001b[43mnum_outputs\u001b[49m\u001b[43m,\u001b[49m\n\u001b[0;32m   1686\u001b[0m \u001b[43m      \u001b[49m\u001b[43minputs\u001b[49m\u001b[38;5;241;43m=\u001b[39;49m\u001b[43mtensor_inputs\u001b[49m\u001b[43m,\u001b[49m\n\u001b[0;32m   1687\u001b[0m \u001b[43m      \u001b[49m\u001b[43mattrs\u001b[49m\u001b[38;5;241;43m=\u001b[39;49m\u001b[43mattrs\u001b[49m\u001b[43m,\u001b[49m\n\u001b[0;32m   1688\u001b[0m \u001b[43m      \u001b[49m\u001b[43mctx\u001b[49m\u001b[38;5;241;43m=\u001b[39;49m\u001b[38;5;28;43mself\u001b[39;49m\u001b[43m,\u001b[49m\n\u001b[0;32m   1689\u001b[0m \u001b[43m  \u001b[49m\u001b[43m)\u001b[49m\n\u001b[0;32m   1690\u001b[0m \u001b[38;5;28;01melse\u001b[39;00m:\n\u001b[0;32m   1691\u001b[0m   outputs \u001b[38;5;241m=\u001b[39m execute\u001b[38;5;241m.\u001b[39mexecute_with_cancellation(\n\u001b[0;32m   1692\u001b[0m       name\u001b[38;5;241m.\u001b[39mdecode(\u001b[38;5;124m\"\u001b[39m\u001b[38;5;124mutf-8\u001b[39m\u001b[38;5;124m\"\u001b[39m),\n\u001b[0;32m   1693\u001b[0m       num_outputs\u001b[38;5;241m=\u001b[39mnum_outputs,\n\u001b[1;32m   (...)\u001b[0m\n\u001b[0;32m   1697\u001b[0m       cancellation_manager\u001b[38;5;241m=\u001b[39mcancellation_context,\n\u001b[0;32m   1698\u001b[0m   )\n",
      "File \u001b[1;32mc:\\Users\\Shabiul\\Downloads\\multiple-disease-prediction-streamlit-app-main\\.conda\\lib\\site-packages\\tensorflow\\python\\eager\\execute.py:53\u001b[0m, in \u001b[0;36mquick_execute\u001b[1;34m(op_name, num_outputs, inputs, attrs, ctx, name)\u001b[0m\n\u001b[0;32m     51\u001b[0m \u001b[38;5;28;01mtry\u001b[39;00m:\n\u001b[0;32m     52\u001b[0m   ctx\u001b[38;5;241m.\u001b[39mensure_initialized()\n\u001b[1;32m---> 53\u001b[0m   tensors \u001b[38;5;241m=\u001b[39m \u001b[43mpywrap_tfe\u001b[49m\u001b[38;5;241;43m.\u001b[39;49m\u001b[43mTFE_Py_Execute\u001b[49m\u001b[43m(\u001b[49m\u001b[43mctx\u001b[49m\u001b[38;5;241;43m.\u001b[39;49m\u001b[43m_handle\u001b[49m\u001b[43m,\u001b[49m\u001b[43m \u001b[49m\u001b[43mdevice_name\u001b[49m\u001b[43m,\u001b[49m\u001b[43m \u001b[49m\u001b[43mop_name\u001b[49m\u001b[43m,\u001b[49m\n\u001b[0;32m     54\u001b[0m \u001b[43m                                      \u001b[49m\u001b[43minputs\u001b[49m\u001b[43m,\u001b[49m\u001b[43m \u001b[49m\u001b[43mattrs\u001b[49m\u001b[43m,\u001b[49m\u001b[43m \u001b[49m\u001b[43mnum_outputs\u001b[49m\u001b[43m)\u001b[49m\n\u001b[0;32m     55\u001b[0m \u001b[38;5;28;01mexcept\u001b[39;00m core\u001b[38;5;241m.\u001b[39m_NotOkStatusException \u001b[38;5;28;01mas\u001b[39;00m e:\n\u001b[0;32m     56\u001b[0m   \u001b[38;5;28;01mif\u001b[39;00m name \u001b[38;5;129;01mis\u001b[39;00m \u001b[38;5;129;01mnot\u001b[39;00m \u001b[38;5;28;01mNone\u001b[39;00m:\n",
      "\u001b[1;31mKeyboardInterrupt\u001b[0m: "
     ]
    }
   ],
   "source": [
    "# Fit the full model to the full data\n",
    "full_model.fit(x=full_data,\n",
    "               epochs=NUM_EPOCHS,\n",
    "               callbacks=[full_model_tensorboard, full_model_early_stopping])"
   ]
  },
  {
   "cell_type": "code",
   "execution_count": null,
   "metadata": {
    "id": "vNK_9_rbEp9p",
    "outputId": "fb1202fb-6276-4f2b-e3a2-5ab1e9f03ad8"
   },
   "outputs": [],
   "source": [
    "# lets visualize our full data model performance using tensorboard\n",
    "\n",
    "%tensorboard --logdir  /content/drive/MyDrive/logs/20250105-060607"
   ]
  },
  {
   "cell_type": "code",
   "execution_count": 74,
   "metadata": {
    "id": "Ej4OTGjUG_14",
    "outputId": "c1e043fc-bbf6-4a68-da25-ca731dc7687c"
   },
   "outputs": [
    {
     "name": "stdout",
     "output_type": "stream",
     "text": [
      "Model saved successfully at: C:/Users/Shabiul/Downloads/multiple-disease-prediction-streamlit-app-main/saved_models\\brain-tumor-detection-full-image-set-resnetv2_50.h5\n"
     ]
    }
   ],
   "source": [
    "import os\n",
    "\n",
    "# Ensure the directory exists\n",
    "save_dir = \"C:/Users/Shabiul/Downloads/multiple-disease-prediction-streamlit-app-main/saved_models\"\n",
    "os.makedirs(save_dir, exist_ok=True)\n",
    "\n",
    "# Define the model save path\n",
    "model_save_path = os.path.join(save_dir, \"brain-tumor-detection-full-image-set-resnetv2_50.h5\")\n",
    "\n",
    "# Save the full model (architecture + weights + optimizer state)\n",
    "full_model.save(model_save_path)\n",
    "\n",
    "print(f\"Model saved successfully at: {model_save_path}\")\n"
   ]
  },
  {
   "cell_type": "code",
   "execution_count": 75,
   "metadata": {
    "id": "E33Jg9VNHaU4",
    "outputId": "4a376b87-7dda-48cd-c203-f76886eb5388"
   },
   "outputs": [
    {
     "name": "stdout",
     "output_type": "stream",
     "text": [
      "Loading saved model from: C:/Users/Shabiul/Downloads/multiple-disease-prediction-streamlit-app-main/saved_models/brain-tumor-detection-full-image-set-resnetv2_50.h5\n"
     ]
    }
   ],
   "source": [
    "# now load our full data set trained model\n",
    "\n",
    "loaded_full_model = load_model('C:/Users/Shabiul/Downloads/multiple-disease-prediction-streamlit-app-main/saved_models/brain-tumor-detection-full-image-set-resnetv2_50.h5')"
   ]
  },
  {
   "cell_type": "markdown",
   "metadata": {
    "id": "OYT_Th2CHtYU"
   },
   "source": [
    "# **Excellent Lets Strat Prediction with Valid data**"
   ]
  },
  {
   "cell_type": "code",
   "execution_count": 76,
   "metadata": {
    "id": "kAeUGOaqH5mv"
   },
   "outputs": [
    {
     "ename": "FileNotFoundError",
     "evalue": "[WinError 3] The system cannot find the path specified: '/content/drive/MyDrive/Brain Tumour Project /valid data'",
     "output_type": "error",
     "traceback": [
      "\u001b[1;31m---------------------------------------------------------------------------\u001b[0m",
      "\u001b[1;31mFileNotFoundError\u001b[0m                         Traceback (most recent call last)",
      "Cell \u001b[1;32mIn[76], line 5\u001b[0m\n\u001b[0;32m      3\u001b[0m \u001b[38;5;66;03m# Load valid data paths and labels\u001b[39;00m\n\u001b[0;32m      4\u001b[0m valid_data \u001b[38;5;241m=\u001b[39m []\n\u001b[1;32m----> 5\u001b[0m \u001b[38;5;28;01mfor\u001b[39;00m folder_name \u001b[38;5;129;01min\u001b[39;00m \u001b[43mos\u001b[49m\u001b[38;5;241;43m.\u001b[39;49m\u001b[43mlistdir\u001b[49m\u001b[43m(\u001b[49m\u001b[43mvalid_base_path\u001b[49m\u001b[43m)\u001b[49m:\n\u001b[0;32m      6\u001b[0m     folder_path \u001b[38;5;241m=\u001b[39m os\u001b[38;5;241m.\u001b[39mpath\u001b[38;5;241m.\u001b[39mjoin(valid_base_path, folder_name)\n\u001b[0;32m      7\u001b[0m     \u001b[38;5;28;01mif\u001b[39;00m os\u001b[38;5;241m.\u001b[39mpath\u001b[38;5;241m.\u001b[39misdir(folder_path):\n",
      "\u001b[1;31mFileNotFoundError\u001b[0m: [WinError 3] The system cannot find the path specified: '/content/drive/MyDrive/Brain Tumour Project /valid data'"
     ]
    }
   ],
   "source": [
    "valid_base_path = '/content/drive/MyDrive/Brain Tumour Project /valid data'\n",
    "\n",
    "# Load valid data paths and labels\n",
    "valid_data = []\n",
    "for folder_name in os.listdir(valid_base_path):\n",
    "    folder_path = os.path.join(valid_base_path, folder_name)\n",
    "    if os.path.isdir(folder_path):\n",
    "        for file_name in os.listdir(folder_path):\n",
    "            file_path = os.path.join(folder_path, file_name)\n",
    "            if os.path.isfile(file_path):\n",
    "                valid_data.append({'File_Path': file_path, 'Brain_tumour_type': folder_name})\n",
    "\n",
    "# Convert the list to a DataFrame\n",
    "valid_df = pd.DataFrame(valid_data)\n",
    "\n",
    "# Extract valid file paths and labels\n",
    "X_valid = [fname for fname in valid_df[\"File_Path\"]]\n",
    "Y_valid = [unique_brain_tumor_types.tolist().index(label) for label in valid_df[\"Brain_tumour_type\"]]\n",
    "\n",
    "\n",
    "# Convert labels to one-hot encoding\n",
    "Y_valid_one_hot = tf.keras.utils.to_categorical(Y_valid, num_classes=len(unique_brain_tumor_types))\n"
   ]
  },
  {
   "cell_type": "code",
   "execution_count": null,
   "metadata": {
    "id": "3SKvmmLqIYex",
    "outputId": "ca022696-83df-4afc-cbb2-32ec315c8b3e"
   },
   "outputs": [],
   "source": [
    "valid_df"
   ]
  },
  {
   "cell_type": "code",
   "execution_count": null,
   "metadata": {
    "id": "5vHX1cd0IaeD",
    "outputId": "f16ee853-05b6-4463-a117-6148e70786ba"
   },
   "outputs": [],
   "source": [
    "valid_data_batch = create_data_batches(X_valid, Y_valid_one_hot, valid_data=True)\n",
    " # making batches for valid data # create data batch function we already created above see function section"
   ]
  },
  {
   "cell_type": "code",
   "execution_count": null,
   "metadata": {
    "id": "x5dkHewrIsK7",
    "outputId": "1c282c65-8cf8-402f-90be-f44f8bdcc8ed"
   },
   "outputs": [],
   "source": [
    "# Make predictions on the valid data\n",
    "valid_predictions = loaded_full_model.predict(valid_data_batch, verbose=1)\n",
    "\n",
    "# Convert prediction probabilities to labels\n",
    "valid_pred_labels = [unique_brain_tumor_types[np.argmax(pred)] for pred in valid_predictions]\n"
   ]
  },
  {
   "cell_type": "code",
   "execution_count": null,
   "metadata": {
    "id": "3JJaLt4rIynT"
   },
   "outputs": [],
   "source": [
    "# Convert one-hot encoded labels to original labels\n",
    "valid_true_labels = [unique_brain_tumor_types[np.argmax(label)] for label in Y_valid_one_hot]"
   ]
  },
  {
   "cell_type": "code",
   "execution_count": null,
   "metadata": {
    "id": "J6x4GlDnJBcE",
    "outputId": "63f5fc71-a356-4600-e6f3-6522b7b31849"
   },
   "outputs": [],
   "source": [
    "valid_predictions"
   ]
  },
  {
   "cell_type": "code",
   "execution_count": null,
   "metadata": {
    "id": "LkIJttQmJFEr",
    "outputId": "4a31c2ca-b660-48aa-b9cf-64f4e344dcf4"
   },
   "outputs": [],
   "source": [
    "# visualize our predictions with label\n",
    "\n",
    "valid_images,_ = unbatchify(valid_data_batch)\n",
    "\n",
    "num_images_to_display = 10\n",
    "\n",
    "plt.figure(figsize=(15, 5 * num_images_to_display))\n",
    "\n",
    "for i in range(num_images_to_display):\n",
    "    # Plot the image and its predicted labels\n",
    "    plt.subplot(num_images_to_display, 2, 2 * i + 1)\n",
    "    plot_pred(prediction_probabilities=valid_predictions,\n",
    "              labels=valid_true_labels,\n",
    "              images=valid_images,\n",
    "              n=i)\n",
    "\n",
    "    # Plot the prediction confidence\n",
    "    plt.subplot(num_images_to_display, 2, 2 * i + 2)\n",
    "    plot_pred_conf(prediction_probabilities=valid_predictions,\n",
    "                   labels=valid_true_labels,\n",
    "                   n=i)\n",
    "\n",
    "plt.tight_layout()\n",
    "plt.show()\n"
   ]
  },
  {
   "cell_type": "markdown",
   "metadata": {
    "id": "lZaNGtpOJpG4"
   },
   "source": [
    "# **lets test our model with test data set here we go**"
   ]
  },
  {
   "cell_type": "code",
   "execution_count": 77,
   "metadata": {
    "id": "-QB53eILKPh-"
   },
   "outputs": [],
   "source": [
    "# our test data contains labels also\n",
    "\n",
    "test_base_path = 'C:/Users/Shabiul/Downloads/multiple-disease-prediction-streamlit-app-main/dataset/Training'\n",
    "\n",
    "# Load test data paths and labels\n",
    "test_data = []\n",
    "for folder_name in os.listdir(test_base_path):\n",
    "    folder_path = os.path.join(test_base_path, folder_name)\n",
    "    if os.path.isdir(folder_path):\n",
    "        for file_name in os.listdir(folder_path):\n",
    "            file_path = os.path.join(folder_path, file_name)\n",
    "            if os.path.isfile(file_path):\n",
    "                test_data.append({'File_Path': file_path, 'Brain_tumour_type': folder_name})\n",
    "\n",
    "\n",
    "test_df = pd.DataFrame(test_data)\n",
    "\n",
    "# Extract valid file paths and labels\n",
    "X_test = [fname for fname in test_df[\"File_Path\"]]\n",
    "Y_test = [unique_brain_tumor_types.tolist().index(label) for label in test_df[\"Brain_tumour_type\"]]\n",
    "\n",
    "\n",
    "# Convert labels to one-hot encoding\n",
    "Y_test_one_hot = tf.keras.utils.to_categorical(Y_test, num_classes=len(unique_brain_tumor_types))"
   ]
  },
  {
   "cell_type": "code",
   "execution_count": 78,
   "metadata": {
    "id": "OnIrbpp4Kqhx",
    "outputId": "f5a24e64-59f4-46d9-f7fb-3a901f4c50c4"
   },
   "outputs": [
    {
     "data": {
      "text/html": [
       "<div>\n",
       "<style scoped>\n",
       "    .dataframe tbody tr th:only-of-type {\n",
       "        vertical-align: middle;\n",
       "    }\n",
       "\n",
       "    .dataframe tbody tr th {\n",
       "        vertical-align: top;\n",
       "    }\n",
       "\n",
       "    .dataframe thead th {\n",
       "        text-align: right;\n",
       "    }\n",
       "</style>\n",
       "<table border=\"1\" class=\"dataframe\">\n",
       "  <thead>\n",
       "    <tr style=\"text-align: right;\">\n",
       "      <th></th>\n",
       "      <th>File_Path</th>\n",
       "      <th>Brain_tumour_type</th>\n",
       "    </tr>\n",
       "  </thead>\n",
       "  <tbody>\n",
       "    <tr>\n",
       "      <th>0</th>\n",
       "      <td>C:/Users/Shabiul/Downloads/multiple-disease-pr...</td>\n",
       "      <td>glioma</td>\n",
       "    </tr>\n",
       "    <tr>\n",
       "      <th>1</th>\n",
       "      <td>C:/Users/Shabiul/Downloads/multiple-disease-pr...</td>\n",
       "      <td>glioma</td>\n",
       "    </tr>\n",
       "    <tr>\n",
       "      <th>2</th>\n",
       "      <td>C:/Users/Shabiul/Downloads/multiple-disease-pr...</td>\n",
       "      <td>glioma</td>\n",
       "    </tr>\n",
       "    <tr>\n",
       "      <th>3</th>\n",
       "      <td>C:/Users/Shabiul/Downloads/multiple-disease-pr...</td>\n",
       "      <td>glioma</td>\n",
       "    </tr>\n",
       "    <tr>\n",
       "      <th>4</th>\n",
       "      <td>C:/Users/Shabiul/Downloads/multiple-disease-pr...</td>\n",
       "      <td>glioma</td>\n",
       "    </tr>\n",
       "    <tr>\n",
       "      <th>...</th>\n",
       "      <td>...</td>\n",
       "      <td>...</td>\n",
       "    </tr>\n",
       "    <tr>\n",
       "      <th>5707</th>\n",
       "      <td>C:/Users/Shabiul/Downloads/multiple-disease-pr...</td>\n",
       "      <td>pituitary</td>\n",
       "    </tr>\n",
       "    <tr>\n",
       "      <th>5708</th>\n",
       "      <td>C:/Users/Shabiul/Downloads/multiple-disease-pr...</td>\n",
       "      <td>pituitary</td>\n",
       "    </tr>\n",
       "    <tr>\n",
       "      <th>5709</th>\n",
       "      <td>C:/Users/Shabiul/Downloads/multiple-disease-pr...</td>\n",
       "      <td>pituitary</td>\n",
       "    </tr>\n",
       "    <tr>\n",
       "      <th>5710</th>\n",
       "      <td>C:/Users/Shabiul/Downloads/multiple-disease-pr...</td>\n",
       "      <td>pituitary</td>\n",
       "    </tr>\n",
       "    <tr>\n",
       "      <th>5711</th>\n",
       "      <td>C:/Users/Shabiul/Downloads/multiple-disease-pr...</td>\n",
       "      <td>pituitary</td>\n",
       "    </tr>\n",
       "  </tbody>\n",
       "</table>\n",
       "<p>5712 rows × 2 columns</p>\n",
       "</div>"
      ],
      "text/plain": [
       "                                              File_Path Brain_tumour_type\n",
       "0     C:/Users/Shabiul/Downloads/multiple-disease-pr...            glioma\n",
       "1     C:/Users/Shabiul/Downloads/multiple-disease-pr...            glioma\n",
       "2     C:/Users/Shabiul/Downloads/multiple-disease-pr...            glioma\n",
       "3     C:/Users/Shabiul/Downloads/multiple-disease-pr...            glioma\n",
       "4     C:/Users/Shabiul/Downloads/multiple-disease-pr...            glioma\n",
       "...                                                 ...               ...\n",
       "5707  C:/Users/Shabiul/Downloads/multiple-disease-pr...         pituitary\n",
       "5708  C:/Users/Shabiul/Downloads/multiple-disease-pr...         pituitary\n",
       "5709  C:/Users/Shabiul/Downloads/multiple-disease-pr...         pituitary\n",
       "5710  C:/Users/Shabiul/Downloads/multiple-disease-pr...         pituitary\n",
       "5711  C:/Users/Shabiul/Downloads/multiple-disease-pr...         pituitary\n",
       "\n",
       "[5712 rows x 2 columns]"
      ]
     },
     "execution_count": 78,
     "metadata": {},
     "output_type": "execute_result"
    }
   ],
   "source": [
    "test_df"
   ]
  },
  {
   "cell_type": "code",
   "execution_count": 79,
   "metadata": {
    "id": "-kz_ksk7Ktkq",
    "outputId": "3a3ccf9f-9ff6-4647-b4d6-5bc035f451c0"
   },
   "outputs": [
    {
     "name": "stdout",
     "output_type": "stream",
     "text": [
      "Creating test data batches...\n"
     ]
    }
   ],
   "source": [
    "test_data_batch = create_data_batches(X_test, Y_test_one_hot, test_data=True) # making batches"
   ]
  },
  {
   "cell_type": "code",
   "execution_count": 80,
   "metadata": {
    "id": "f9b_YdRlKz7e",
    "outputId": "60ef39ae-3414-4a3b-fec1-9b7757bca00e"
   },
   "outputs": [
    {
     "name": "stdout",
     "output_type": "stream",
     "text": [
      "179/179 [==============================] - 79s 441ms/step\n"
     ]
    }
   ],
   "source": [
    "# Make predictions on the test data\n",
    "test_predictions = loaded_full_model.predict(test_data_batch, verbose=1)\n",
    "\n",
    "# Convert prediction probabilities to labels\n",
    "test_pred_labels = [unique_brain_tumor_types[np.argmax(pred)] for pred in test_predictions]"
   ]
  },
  {
   "cell_type": "code",
   "execution_count": 81,
   "metadata": {
    "id": "MBtVXIEBK80X"
   },
   "outputs": [],
   "source": [
    "# Convert one-hot encoded labels to original labels\n",
    "test_true_labels = [unique_brain_tumor_types[np.argmax(label)] for label in Y_test_one_hot]"
   ]
  },
  {
   "cell_type": "code",
   "execution_count": 82,
   "metadata": {
    "id": "Q0hQVz3hLDMy",
    "outputId": "78391ce2-ecd8-4f66-8a69-5b2339f1dbad"
   },
   "outputs": [
    {
     "data": {
      "text/plain": [
       "array([[9.85349238e-01, 4.18939535e-03, 1.04612764e-02, 1.18662854e-07],\n",
       "       [9.99817193e-01, 1.65029793e-04, 1.20480427e-05, 5.72158979e-06],\n",
       "       [9.80250120e-01, 1.94151122e-02, 3.28723196e-04, 6.09830204e-06],\n",
       "       ...,\n",
       "       [6.02307264e-04, 2.23061442e-03, 2.29604229e-05, 9.97144163e-01],\n",
       "       [4.58749868e-02, 2.90993918e-02, 2.29404512e-04, 9.24796164e-01],\n",
       "       [1.88824226e-04, 2.35881004e-02, 2.14851229e-06, 9.76220965e-01]],\n",
       "      dtype=float32)"
      ]
     },
     "execution_count": 82,
     "metadata": {},
     "output_type": "execute_result"
    }
   ],
   "source": [
    "test_predictions"
   ]
  },
  {
   "cell_type": "code",
   "execution_count": 84,
   "metadata": {},
   "outputs": [
    {
     "name": "stdout",
     "output_type": "stream",
     "text": [
      "Collecting scikit-learn\n",
      "  Downloading scikit_learn-1.6.1-cp310-cp310-win_amd64.whl.metadata (15 kB)\n",
      "Requirement already satisfied: numpy>=1.19.5 in c:\\users\\shabiul\\downloads\\multiple-disease-prediction-streamlit-app-main\\.conda\\lib\\site-packages (from scikit-learn) (2.0.2)\n",
      "Collecting scipy>=1.6.0 (from scikit-learn)\n",
      "  Downloading scipy-1.15.1-cp310-cp310-win_amd64.whl.metadata (60 kB)\n",
      "Collecting joblib>=1.2.0 (from scikit-learn)\n",
      "  Using cached joblib-1.4.2-py3-none-any.whl.metadata (5.4 kB)\n",
      "Collecting threadpoolctl>=3.1.0 (from scikit-learn)\n",
      "  Using cached threadpoolctl-3.5.0-py3-none-any.whl.metadata (13 kB)\n",
      "Downloading scikit_learn-1.6.1-cp310-cp310-win_amd64.whl (11.1 MB)\n",
      "   ---------------------------------------- 0.0/11.1 MB ? eta -:--:--\n",
      "   ---------- ----------------------------- 2.9/11.1 MB 15.2 MB/s eta 0:00:01\n",
      "   ------------------- -------------------- 5.5/11.1 MB 14.0 MB/s eta 0:00:01\n",
      "   --------------------------- ------------ 7.6/11.1 MB 12.4 MB/s eta 0:00:01\n",
      "   --------------------------------- ------ 9.4/11.1 MB 11.5 MB/s eta 0:00:01\n",
      "   ---------------------------------------- 11.1/11.1 MB 11.0 MB/s eta 0:00:00\n",
      "Using cached joblib-1.4.2-py3-none-any.whl (301 kB)\n",
      "Downloading scipy-1.15.1-cp310-cp310-win_amd64.whl (43.9 MB)\n",
      "   ---------------------------------------- 0.0/43.9 MB ? eta -:--:--\n",
      "   - -------------------------------------- 2.1/43.9 MB 9.8 MB/s eta 0:00:05\n",
      "   --- ------------------------------------ 4.2/43.9 MB 10.5 MB/s eta 0:00:04\n",
      "   ----- ---------------------------------- 6.6/43.9 MB 10.6 MB/s eta 0:00:04\n",
      "   -------- ------------------------------- 9.4/43.9 MB 11.3 MB/s eta 0:00:04\n",
      "   ----------- ---------------------------- 12.3/43.9 MB 11.7 MB/s eta 0:00:03\n",
      "   ------------- -------------------------- 14.9/43.9 MB 11.9 MB/s eta 0:00:03\n",
      "   ---------------- ----------------------- 18.1/43.9 MB 12.1 MB/s eta 0:00:03\n",
      "   ------------------- -------------------- 21.0/43.9 MB 12.4 MB/s eta 0:00:02\n",
      "   --------------------- ------------------ 23.9/43.9 MB 12.5 MB/s eta 0:00:02\n",
      "   ------------------------ --------------- 26.7/43.9 MB 12.5 MB/s eta 0:00:02\n",
      "   -------------------------- ------------- 29.6/43.9 MB 12.7 MB/s eta 0:00:02\n",
      "   ----------------------------- ---------- 32.5/43.9 MB 12.7 MB/s eta 0:00:01\n",
      "   ------------------------------- -------- 35.1/43.9 MB 12.7 MB/s eta 0:00:01\n",
      "   ---------------------------------- ----- 37.7/43.9 MB 12.8 MB/s eta 0:00:01\n",
      "   ------------------------------------- -- 40.6/43.9 MB 12.8 MB/s eta 0:00:01\n",
      "   ---------------------------------------  43.3/43.9 MB 12.7 MB/s eta 0:00:01\n",
      "   ---------------------------------------- 43.9/43.9 MB 12.6 MB/s eta 0:00:00\n",
      "Using cached threadpoolctl-3.5.0-py3-none-any.whl (18 kB)\n",
      "Installing collected packages: threadpoolctl, scipy, joblib, scikit-learn\n",
      "Successfully installed joblib-1.4.2 scikit-learn-1.6.1 scipy-1.15.1 threadpoolctl-3.5.0\n",
      "Note: you may need to restart the kernel to use updated packages.\n"
     ]
    }
   ],
   "source": [
    "%pip install scikit-learn"
   ]
  },
  {
   "cell_type": "code",
   "execution_count": 85,
   "metadata": {
    "id": "zcAkenBMLOjz",
    "outputId": "d7b10152-f595-43a9-eace-b22428a7a96e"
   },
   "outputs": [
    {
     "name": "stdout",
     "output_type": "stream",
     "text": [
      "Accuracy: 0.9837\n"
     ]
    }
   ],
   "source": [
    "# lets check test data accuracy\n",
    "from sklearn.metrics import accuracy_score\n",
    "accuracy_test = accuracy_score(test_true_labels, test_pred_labels)\n",
    "print(f'Accuracy: {accuracy_test:.4f}')\n",
    "\n"
   ]
  },
  {
   "cell_type": "markdown",
   "metadata": {
    "id": "JJp5XQeLLe_2"
   },
   "source": [
    "##**Excellent our model achieved 80% accuracy in test data**\n",
    "> I am consider this is a good improvement.on my previous attempt my model predict just 20% Successfully but know it reached 80% on my second attempt and this is my first deep learning project.so iam really happy for this improvement"
   ]
  },
  {
   "cell_type": "markdown",
   "metadata": {
    "id": "RPNYhFqhLliL"
   },
   "source": [
    "##**Evaluation Metrics For Test Data**"
   ]
  },
  {
   "cell_type": "code",
   "execution_count": 87,
   "metadata": {},
   "outputs": [
    {
     "name": "stdout",
     "output_type": "stream",
     "text": [
      "Collecting seaborn\n",
      "  Using cached seaborn-0.13.2-py3-none-any.whl.metadata (5.4 kB)\n",
      "Requirement already satisfied: numpy!=1.24.0,>=1.20 in c:\\users\\shabiul\\downloads\\multiple-disease-prediction-streamlit-app-main\\.conda\\lib\\site-packages (from seaborn) (2.0.2)\n",
      "Requirement already satisfied: pandas>=1.2 in c:\\users\\shabiul\\downloads\\multiple-disease-prediction-streamlit-app-main\\.conda\\lib\\site-packages (from seaborn) (2.2.3)\n",
      "Requirement already satisfied: matplotlib!=3.6.1,>=3.4 in c:\\users\\shabiul\\downloads\\multiple-disease-prediction-streamlit-app-main\\.conda\\lib\\site-packages (from seaborn) (3.10.0)\n",
      "Requirement already satisfied: contourpy>=1.0.1 in c:\\users\\shabiul\\downloads\\multiple-disease-prediction-streamlit-app-main\\.conda\\lib\\site-packages (from matplotlib!=3.6.1,>=3.4->seaborn) (1.3.1)\n",
      "Requirement already satisfied: cycler>=0.10 in c:\\users\\shabiul\\downloads\\multiple-disease-prediction-streamlit-app-main\\.conda\\lib\\site-packages (from matplotlib!=3.6.1,>=3.4->seaborn) (0.12.1)\n",
      "Requirement already satisfied: fonttools>=4.22.0 in c:\\users\\shabiul\\downloads\\multiple-disease-prediction-streamlit-app-main\\.conda\\lib\\site-packages (from matplotlib!=3.6.1,>=3.4->seaborn) (4.56.0)\n",
      "Requirement already satisfied: kiwisolver>=1.3.1 in c:\\users\\shabiul\\downloads\\multiple-disease-prediction-streamlit-app-main\\.conda\\lib\\site-packages (from matplotlib!=3.6.1,>=3.4->seaborn) (1.4.8)\n",
      "Requirement already satisfied: packaging>=20.0 in c:\\users\\shabiul\\downloads\\multiple-disease-prediction-streamlit-app-main\\.conda\\lib\\site-packages (from matplotlib!=3.6.1,>=3.4->seaborn) (24.2)\n",
      "Requirement already satisfied: pillow>=8 in c:\\users\\shabiul\\downloads\\multiple-disease-prediction-streamlit-app-main\\.conda\\lib\\site-packages (from matplotlib!=3.6.1,>=3.4->seaborn) (11.1.0)\n",
      "Requirement already satisfied: pyparsing>=2.3.1 in c:\\users\\shabiul\\downloads\\multiple-disease-prediction-streamlit-app-main\\.conda\\lib\\site-packages (from matplotlib!=3.6.1,>=3.4->seaborn) (3.2.1)\n",
      "Requirement already satisfied: python-dateutil>=2.7 in c:\\users\\shabiul\\downloads\\multiple-disease-prediction-streamlit-app-main\\.conda\\lib\\site-packages (from matplotlib!=3.6.1,>=3.4->seaborn) (2.9.0.post0)\n",
      "Requirement already satisfied: pytz>=2020.1 in c:\\users\\shabiul\\downloads\\multiple-disease-prediction-streamlit-app-main\\.conda\\lib\\site-packages (from pandas>=1.2->seaborn) (2025.1)\n",
      "Requirement already satisfied: tzdata>=2022.7 in c:\\users\\shabiul\\downloads\\multiple-disease-prediction-streamlit-app-main\\.conda\\lib\\site-packages (from pandas>=1.2->seaborn) (2025.1)\n",
      "Requirement already satisfied: six>=1.5 in c:\\users\\shabiul\\downloads\\multiple-disease-prediction-streamlit-app-main\\.conda\\lib\\site-packages (from python-dateutil>=2.7->matplotlib!=3.6.1,>=3.4->seaborn) (1.17.0)\n",
      "Using cached seaborn-0.13.2-py3-none-any.whl (294 kB)\n",
      "Installing collected packages: seaborn\n",
      "Successfully installed seaborn-0.13.2\n",
      "Note: you may need to restart the kernel to use updated packages.\n"
     ]
    }
   ],
   "source": [
    "%pip install seaborn"
   ]
  },
  {
   "cell_type": "code",
   "execution_count": 88,
   "metadata": {
    "id": "R3E1SR4gMP-M",
    "outputId": "b80a0791-8ce8-4f4c-aae6-ae130c818c68"
   },
   "outputs": [
    {
     "data": {
      "image/png": "[encoded data removed]",
      "text/plain": [
       "<Figure size 1000x600 with 2 Axes>"
      ]
     },
     "metadata": {},
     "output_type": "display_data"
    }
   ],
   "source": [
    "from sklearn.metrics import confusion_matrix\n",
    "import seaborn as sns\n",
    "import matplotlib.pyplot as plt\n",
    "\n",
    "# Generate confusion matrix\n",
    "con_mx = confusion_matrix(test_true_labels, test_pred_labels)\n",
    "\n",
    "# Plot confusion matrix\n",
    "plt.figure(figsize=(10, 6))\n",
    "sns.heatmap(con_mx, annot=True, fmt='d', cmap='Blues', xticklabels=unique_brain_tumor_types, yticklabels=unique_brain_tumor_types)\n",
    "plt.title(\"Confusion Matrix\")\n",
    "plt.xlabel(\"Predicted Label\")\n",
    "plt.ylabel(\"True Label\")\n",
    "plt.show()"
   ]
  },
  {
   "cell_type": "code",
   "execution_count": 89,
   "metadata": {
    "id": "J6M0UgFLMaFR",
    "outputId": "1252a08a-a0e1-4441-eaca-a701e1561600"
   },
   "outputs": [
    {
     "name": "stdout",
     "output_type": "stream",
     "text": [
      "              precision    recall  f1-score   support\n",
      "\n",
      "      glioma       0.99      0.96      0.98      1321\n",
      "  meningioma       0.96      0.98      0.97      1339\n",
      "     notumor       0.99      1.00      1.00      1595\n",
      "   pituitary       0.99      0.99      0.99      1457\n",
      "\n",
      "    accuracy                           0.98      5712\n",
      "   macro avg       0.98      0.98      0.98      5712\n",
      "weighted avg       0.98      0.98      0.98      5712\n",
      "\n"
     ]
    }
   ],
   "source": [
    "# classification report\n",
    "from sklearn.metrics import classification_report\n",
    "\n",
    "test_report = classification_report(test_true_labels, test_pred_labels, target_names=unique_brain_tumor_types)\n",
    "print(test_report)"
   ]
  },
  {
   "cell_type": "code",
   "execution_count": 90,
   "metadata": {
    "id": "kwNvAn7GMyn9",
    "outputId": "0a266c72-e02e-46ab-dabe-f3737a0e660b"
   },
   "outputs": [
    {
     "data": {
      "image/png": "[encoded data removed]",
      "text/plain": [
       "<Figure size 1000x800 with 1 Axes>"
      ]
     },
     "metadata": {},
     "output_type": "display_data"
    }
   ],
   "source": [
    "from sklearn.metrics import roc_curve, auc\n",
    "from sklearn.preprocessing import label_binarize\n",
    "\n",
    "# One-hot encode the true labels for multi-class ROC\n",
    "test_true_labels_bin = label_binarize(test_true_labels, classes=unique_brain_tumor_types)\n",
    "\n",
    "# Compute ROC curve and AUC for each class\n",
    "fpr, tpr, roc_auc = {}, {}, {}\n",
    "for i in range(len(unique_brain_tumor_types)):\n",
    "    fpr[i], tpr[i], _ = roc_curve(test_true_labels_bin[:, i], test_predictions[:, i])\n",
    "    roc_auc[i] = auc(fpr[i], tpr[i])\n",
    "\n",
    "# Plot ROC curve\n",
    "plt.figure(figsize=(10, 8))\n",
    "for i in range(len(unique_brain_tumor_types)):\n",
    "    plt.plot(fpr[i], tpr[i], label=f'ROC curve for {unique_brain_tumor_types[i]} (area = {roc_auc[i]:.2f})')\n",
    "\n",
    "plt.plot([0, 1], [0, 1], 'k--')\n",
    "plt.xlabel('False Positive Rate')\n",
    "plt.ylabel('True Positive Rate')\n",
    "plt.title('ROC Curve (One-vs-Rest)')\n",
    "plt.legend(loc=\"lower right\")\n",
    "plt.show()"
   ]
  },
  {
   "cell_type": "markdown",
   "metadata": {
    "id": "LOV8goRKNXod"
   },
   "source": [
    "# **THANK YOU**"
   ]
  },
  {
   "cell_type": "code",
   "execution_count": 92,
   "metadata": {},
   "outputs": [
    {
     "name": "stdout",
     "output_type": "stream",
     "text": [
      "Collecting image\n",
      "  Downloading image-1.5.33.tar.gz (15 kB)\n",
      "  Preparing metadata (setup.py): started\n",
      "  Preparing metadata (setup.py): finished with status 'done'\n",
      "Requirement already satisfied: pillow in c:\\users\\shabiul\\downloads\\multiple-disease-prediction-streamlit-app-main\\.conda\\lib\\site-packages (from image) (11.1.0)\n",
      "Collecting django (from image)\n",
      "  Downloading Django-5.1.6-py3-none-any.whl.metadata (4.2 kB)\n",
      "Requirement already satisfied: six in c:\\users\\shabiul\\downloads\\multiple-disease-prediction-streamlit-app-main\\.conda\\lib\\site-packages (from image) (1.17.0)\n",
      "Collecting asgiref<4,>=3.8.1 (from django->image)\n",
      "  Downloading asgiref-3.8.1-py3-none-any.whl.metadata (9.3 kB)\n",
      "Collecting sqlparse>=0.3.1 (from django->image)\n",
      "  Downloading sqlparse-0.5.3-py3-none-any.whl.metadata (3.9 kB)\n",
      "Requirement already satisfied: tzdata in c:\\users\\shabiul\\downloads\\multiple-disease-prediction-streamlit-app-main\\.conda\\lib\\site-packages (from django->image) (2025.1)\n",
      "Requirement already satisfied: typing-extensions>=4 in c:\\users\\shabiul\\downloads\\multiple-disease-prediction-streamlit-app-main\\.conda\\lib\\site-packages (from asgiref<4,>=3.8.1->django->image) (4.12.2)\n",
      "Downloading Django-5.1.6-py3-none-any.whl (8.3 MB)\n",
      "   ---------------------------------------- 0.0/8.3 MB ? eta -:--:--\n",
      "   ----------- ---------------------------- 2.4/8.3 MB 14.9 MB/s eta 0:00:01\n",
      "   ------------------------- -------------- 5.2/8.3 MB 13.8 MB/s eta 0:00:01\n",
      "   -------------------------------------- - 7.9/8.3 MB 13.5 MB/s eta 0:00:01\n",
      "   ---------------------------------------- 8.3/8.3 MB 13.1 MB/s eta 0:00:00\n",
      "Downloading asgiref-3.8.1-py3-none-any.whl (23 kB)\n",
      "Downloading sqlparse-0.5.3-py3-none-any.whl (44 kB)\n",
      "Building wheels for collected packages: image\n",
      "  Building wheel for image (setup.py): started\n",
      "  Building wheel for image (setup.py): finished with status 'done'\n",
      "  Created wheel for image: filename=image-1.5.33-py2.py3-none-any.whl size=19535 sha256=6a1f2df88d87bee33c27e2be35cbb2e58f16becc4d95294b04ddd60e20458dee\n",
      "  Stored in directory: c:\\users\\shabiul\\appdata\\local\\pip\\cache\\wheels\\70\\0c\\a4\\7cfa53a5c6225c2db2bfec08e782b43d0f25fdae2e995b69be\n",
      "Successfully built image\n",
      "Installing collected packages: sqlparse, asgiref, django, image\n",
      "Successfully installed asgiref-3.8.1 django-5.1.6 image-1.5.33 sqlparse-0.5.3\n",
      "Note: you may need to restart the kernel to use updated packages.\n"
     ]
    }
   ],
   "source": [
    "%pip install image"
   ]
  },
  {
   "cell_type": "code",
   "execution_count": null,
   "metadata": {
    "id": "5wHxdCKQOANU"
   },
   "outputs": [
    {
     "ename": "NameError",
     "evalue": "name 'image' is not defined",
     "output_type": "error",
     "traceback": [
      "\u001b[1;31m---------------------------------------------------------------------------\u001b[0m",
      "\u001b[1;31mNameError\u001b[0m                                 Traceback (most recent call last)",
      "Cell \u001b[1;32mIn[93], line 4\u001b[0m\n\u001b[0;32m      1\u001b[0m \u001b[38;5;28;01mfrom\u001b[39;00m\u001b[38;5;250m \u001b[39m\u001b[38;5;21;01mIPython\u001b[39;00m\u001b[38;5;21;01m.\u001b[39;00m\u001b[38;5;21;01mdisplay\u001b[39;00m\u001b[38;5;250m \u001b[39m\u001b[38;5;28;01mimport\u001b[39;00m display, Markdown\n\u001b[0;32m      2\u001b[0m imagePath \u001b[38;5;241m=\u001b[39m \u001b[38;5;124m\"\u001b[39m\u001b[38;5;124m../input/brain-tumor-classification-mri/Testing/no_tumor/image(103).jpg\u001b[39m\u001b[38;5;124m\"\u001b[39m\n\u001b[1;32m----> 4\u001b[0m img \u001b[38;5;241m=\u001b[39m \u001b[43mimage\u001b[49m\u001b[38;5;241m.\u001b[39mload_img(imagePath, target_size\u001b[38;5;241m=\u001b[39m(\u001b[38;5;241m224\u001b[39m, \u001b[38;5;241m224\u001b[39m))\n\u001b[0;32m      5\u001b[0m x \u001b[38;5;241m=\u001b[39m image\u001b[38;5;241m.\u001b[39mimg_to_array(img)\n\u001b[0;32m      6\u001b[0m x \u001b[38;5;241m=\u001b[39m np\u001b[38;5;241m.\u001b[39mexpand_dims(x, axis\u001b[38;5;241m=\u001b[39m\u001b[38;5;241m0\u001b[39m)\n",
      "\u001b[1;31mNameError\u001b[0m: name 'image' is not defined"
     ]
    }
   ],
   "source": []
  },
  {
   "cell_type": "code",
   "execution_count": null,
   "metadata": {},
   "outputs": [],
   "source": []
  }
 ],
 "metadata": {
  "colab": {
   "provenance": []
  },
  "kaggle": {
   "accelerator": "none",
   "dataSources": [],
   "isGpuEnabled": false,
   "isInternetEnabled": true,
   "language": "python",
   "sourceType": "notebook"
  },
  "kernelspec": {
   "display_name": "Python 3",
   "name": "python3"
  },
  "language_info": {
   "codemirror_mode": {
    "name": "ipython",
    "version": 3
   },
   "file_extension": ".py",
   "mimetype": "text/x-python",
   "name": "python",
   "nbconvert_exporter": "python",
   "pygments_lexer": "ipython3",
   "version": "3.10.16"
  }
 },
 "nbformat": 4,
 "nbformat_minor": 4
}
